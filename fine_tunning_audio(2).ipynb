{
  "cells": [
    {
      "cell_type": "markdown",
      "metadata": {
        "id": "ZuboSIU0yNEW"
      },
      "source": [
        "🤗 Fine-tune pyannote's segmentation model for multilingual speaker diarization\n",
        "\n",
        "In this colab, i present a step-by-step guide on how to fine-tune a speaker segmentation model from pyannote on multilingual speaker diarization datasets using diarizers, a library compatible with the Hugging Face 🤗 ecosystem, and use it back in a speaker diarization pipeline.\n"
      ]
    },
    {
      "cell_type": "code",
      "execution_count": null,
      "metadata": {
        "id": "5KgZZqx68way"
      },
      "outputs": [],
      "source": [
        "!pip install pyannote.audio"
      ]
    },
    {
      "cell_type": "markdown",
      "metadata": {
        "id": "2gI5xbCeypT-"
      },
      "source": [
        "To load pre-trained diarization models from the Hub, you'll first need to accept the terms-of-use for the following two models:\n",
        "\n",
        "    pyannote/segmentation-3.0\n",
        "    pyannote/speaker-diarization-3.1\n",
        "\n",
        "To load the CallHome dataset from the Hub, you'll also need to accept its terms of use:\n",
        "\n",
        "    diarizers-community/callhome\n",
        "\n",
        "You'll then need to enter your Hub authentication token. Find your Hub authentication token here.\n"
      ]
    },
    {
      "cell_type": "code",
      "execution_count": null,
      "metadata": {
        "colab": {
          "base_uri": "https://localhost:8080/",
          "height": 145,
          "referenced_widgets": [
            "5e6caedd88cf441a912325bac02024fd",
            "89422d5850ad4691ad9f475a96807d06",
            "cbf5b9b80b364239b41994eedaf0afa7",
            "5919235d4e9d4f5aba5b09aa20019a84",
            "e42c1a3b35504b62877d940e1a47fde8",
            "6ba126ad1b784152a5322a42adac4f90",
            "ddd7559b9a33461aa00b5025929bae2a",
            "42f19dde43c34ec2ae06a74ee69a9df1",
            "3f71e8d7107641ab8447ebf241590e8a",
            "2c42ee4c7bdc43cdac863826c8ef1c52",
            "10f51ba58e4943c296f6d134f1f5b7e6",
            "073105e7bc6d4f26b88eb1ae85bf2b6d",
            "a51f147066ac4878bec66d798b445b40",
            "03f6fb0fb8b14bfcae6695a5749cc5f7"
          ]
        },
        "id": "5t7Jh7Jk9GZ_",
        "outputId": "400ee642-e4d8-4a60-db3f-482a627d45ae"
      },
      "outputs": [
        {
          "data": {
            "application/vnd.jupyter.widget-view+json": {
              "model_id": "5e6caedd88cf441a912325bac02024fd",
              "version_major": 2,
              "version_minor": 0
            },
            "text/plain": [
              "VBox(children=(HTML(value='<center> <img\\nsrc=https://huggingface.co/front/assets/huggingface_logo-noborder.sv…"
            ]
          },
          "metadata": {},
          "output_type": "display_data"
        }
      ],
      "source": [
        "from huggingface_hub import notebook_login\n",
        "notebook_login()"
      ]
    },
    {
      "cell_type": "code",
      "execution_count": null,
      "metadata": {
        "id": "5TvWmETW45D8"
      },
      "outputs": [],
      "source": [
        "import gdown"
      ]
    },
    {
      "cell_type": "markdown",
      "metadata": {
        "id": "sFuL1KU2xz1X"
      },
      "source": [
        "## below code is used to download the data audio and their annotation files from the google drive on colab"
      ]
    },
    {
      "cell_type": "code",
      "execution_count": null,
      "metadata": {
        "colab": {
          "base_uri": "https://localhost:8080/"
        },
        "id": "xucCaoO_uhZm",
        "outputId": "49e6ab54-6201-4bd4-aeda-101b019080d1"
      },
      "outputs": [
        {
          "name": "stderr",
          "output_type": "stream",
          "text": [
            "Retrieving folder contents\n"
          ]
        },
        {
          "name": "stdout",
          "output_type": "stream",
          "text": [
            "Processing file 1UmDXPI9QpNeB2-UkRr0Buy_90zQSz_Ji 1-WS550031.txt\n",
            "Processing file 1XeUKzLy0ntlI6L5UJwuMuLBJAo9sTabM 2-WS550069.txt\n",
            "Processing file 1_9RLIMPCAw_n0dHwcvfQr-ScnN5D9w3u 3-WS320115.txt\n",
            "Processing file 1gDi9tu5GjDpTew3_dKnLywf90Up3F15H 4-WS550024.txt\n",
            "Processing file 172fo9M5qO-v95uLaTO6MkYESMTd8E-xu 5-WS550054.txt\n",
            "Processing file 10VuXuqlPse3pxeaaQBGaBcic2Yunq93s 7-WS550037.txt\n",
            "Processing file 1YTicXoXA_WPClRk_Klh1BrxFvUmBK0WU 8-WS550018.txt\n",
            "Processing file 1kYrG5WoYCLdQmID_ra3vPRpO85F1caGU 9-WS550009.txt\n",
            "Processing file 1fkL-UIEmv3wOdrGQA2saiqWgZUfD5ilK 10-WS550062.txt\n",
            "Processing file 13Rb_ZgxCaUsaFZYt8qR2KozE7wip87BC 12-WS750027.txt\n",
            "Processing file 1IRFrhtQ91tsWiVRRFOkttwQ7jXBfUGn5 13-WS550080.txt\n",
            "Processing file 1HTCIRBDXRJgEowH3FmMG6MHKWW1aQOae 14-WS550050.txt\n",
            "Processing file 1QlZ13HAGFdWcewqmmy_aDkj9d8tJR6Aq 15-WS550046.txt\n",
            "Processing file 1i0PyUZ5Cmd4p9vHCFGu21J3oXUVVfQ1J 18-WS550064.txt\n",
            "Processing file 1YgvjHMlhdVfjSD8lpRBjhA2_XfUQy_xJ 20-WS550068.txt\n",
            "Processing file 1yamLFc0tUXISn0EAXRFDT6fACLZIomun 21-WS550020.txt\n",
            "Processing file 1GS091XZCsOutxZmf38qwDZm1nqJPYGcO 22-WS320024.txt\n",
            "Processing file 1VuSPO-gsE7Tu-uOirS43rkT0dLqwRui7 25-WS550023.txt\n",
            "Processing file 1rcTE2wSLFctJLyNUmNdgh5_h80XvHxTs 26-WS550018.txt\n",
            "Processing file 15SCUnn7JFuDkBli2CRM5p1fStcgrYkT- 28-WS550083.txt\n",
            "Processing file 1xvwHPhpEJPJ8HClla3fqg82LtGUF73_1 31-WS550021.txt\n",
            "Processing file 1JECUpfkUSQd5PInP1Vnp28HqHALrDK4t 32-WS750023.txt\n",
            "Processing file 1Z1JJ0btveP_vdvv6ZgwFZ5Uvr_EclXuz 33-WS320034.txt\n"
          ]
        },
        {
          "name": "stderr",
          "output_type": "stream",
          "text": [
            "Retrieving folder contents completed\n",
            "Building directory structure\n",
            "Building directory structure completed\n",
            "Downloading...\n",
            "From: https://drive.google.com/uc?id=1UmDXPI9QpNeB2-UkRr0Buy_90zQSz_Ji\n",
            "To: /content/BECCI_33recordings_annotations/1-WS550031.txt\n",
            "100%|██████████| 11.6k/11.6k [00:00<00:00, 27.1MB/s]\n",
            "Downloading...\n",
            "From: https://drive.google.com/uc?id=1XeUKzLy0ntlI6L5UJwuMuLBJAo9sTabM\n",
            "To: /content/BECCI_33recordings_annotations/2-WS550069.txt\n",
            "100%|██████████| 7.18k/7.18k [00:00<00:00, 9.02MB/s]\n",
            "Downloading...\n",
            "From: https://drive.google.com/uc?id=1_9RLIMPCAw_n0dHwcvfQr-ScnN5D9w3u\n",
            "To: /content/BECCI_33recordings_annotations/3-WS320115.txt\n",
            "100%|██████████| 24.4k/24.4k [00:00<00:00, 36.4MB/s]\n",
            "Downloading...\n",
            "From: https://drive.google.com/uc?id=1gDi9tu5GjDpTew3_dKnLywf90Up3F15H\n",
            "To: /content/BECCI_33recordings_annotations/4-WS550024.txt\n",
            "100%|██████████| 34.5k/34.5k [00:00<00:00, 49.2MB/s]\n",
            "Downloading...\n",
            "From: https://drive.google.com/uc?id=172fo9M5qO-v95uLaTO6MkYESMTd8E-xu\n",
            "To: /content/BECCI_33recordings_annotations/5-WS550054.txt\n",
            "100%|██████████| 31.1k/31.1k [00:00<00:00, 21.7MB/s]\n",
            "Downloading...\n",
            "From: https://drive.google.com/uc?id=10VuXuqlPse3pxeaaQBGaBcic2Yunq93s\n",
            "To: /content/BECCI_33recordings_annotations/7-WS550037.txt\n",
            "100%|██████████| 7.73k/7.73k [00:00<00:00, 21.9MB/s]\n",
            "Downloading...\n",
            "From: https://drive.google.com/uc?id=1YTicXoXA_WPClRk_Klh1BrxFvUmBK0WU\n",
            "To: /content/BECCI_33recordings_annotations/8-WS550018.txt\n",
            "100%|██████████| 20.4k/20.4k [00:00<00:00, 41.2MB/s]\n",
            "Downloading...\n",
            "From: https://drive.google.com/uc?id=1kYrG5WoYCLdQmID_ra3vPRpO85F1caGU\n",
            "To: /content/BECCI_33recordings_annotations/9-WS550009.txt\n",
            "100%|██████████| 8.00k/8.00k [00:00<00:00, 19.2MB/s]\n",
            "Downloading...\n",
            "From: https://drive.google.com/uc?id=1fkL-UIEmv3wOdrGQA2saiqWgZUfD5ilK\n",
            "To: /content/BECCI_33recordings_annotations/10-WS550062.txt\n",
            "100%|██████████| 31.5k/31.5k [00:00<00:00, 54.0MB/s]\n",
            "Downloading...\n",
            "From: https://drive.google.com/uc?id=13Rb_ZgxCaUsaFZYt8qR2KozE7wip87BC\n",
            "To: /content/BECCI_33recordings_annotations/12-WS750027.txt\n",
            "100%|██████████| 21.2k/21.2k [00:00<00:00, 28.5MB/s]\n",
            "Downloading...\n",
            "From: https://drive.google.com/uc?id=1IRFrhtQ91tsWiVRRFOkttwQ7jXBfUGn5\n",
            "To: /content/BECCI_33recordings_annotations/13-WS550080.txt\n",
            "100%|██████████| 35.9k/35.9k [00:00<00:00, 25.8MB/s]\n",
            "Downloading...\n",
            "From: https://drive.google.com/uc?id=1HTCIRBDXRJgEowH3FmMG6MHKWW1aQOae\n",
            "To: /content/BECCI_33recordings_annotations/14-WS550050.txt\n",
            "100%|██████████| 21.4k/21.4k [00:00<00:00, 43.7MB/s]\n",
            "Downloading...\n",
            "From: https://drive.google.com/uc?id=1QlZ13HAGFdWcewqmmy_aDkj9d8tJR6Aq\n",
            "To: /content/BECCI_33recordings_annotations/15-WS550046.txt\n",
            "100%|██████████| 30.9k/30.9k [00:00<00:00, 22.2MB/s]\n",
            "Downloading...\n",
            "From: https://drive.google.com/uc?id=1i0PyUZ5Cmd4p9vHCFGu21J3oXUVVfQ1J\n",
            "To: /content/BECCI_33recordings_annotations/18-WS550064.txt\n",
            "100%|██████████| 20.2k/20.2k [00:00<00:00, 38.3MB/s]\n",
            "Downloading...\n",
            "From: https://drive.google.com/uc?id=1YgvjHMlhdVfjSD8lpRBjhA2_XfUQy_xJ\n",
            "To: /content/BECCI_33recordings_annotations/20-WS550068.txt\n",
            "100%|██████████| 29.3k/29.3k [00:00<00:00, 21.2MB/s]\n",
            "Downloading...\n",
            "From: https://drive.google.com/uc?id=1yamLFc0tUXISn0EAXRFDT6fACLZIomun\n",
            "To: /content/BECCI_33recordings_annotations/21-WS550020.txt\n",
            "100%|██████████| 33.7k/33.7k [00:00<00:00, 54.6MB/s]\n",
            "Downloading...\n",
            "From: https://drive.google.com/uc?id=1GS091XZCsOutxZmf38qwDZm1nqJPYGcO\n",
            "To: /content/BECCI_33recordings_annotations/22-WS320024.txt\n",
            "100%|██████████| 22.4k/22.4k [00:00<00:00, 39.6MB/s]\n",
            "Downloading...\n",
            "From: https://drive.google.com/uc?id=1VuSPO-gsE7Tu-uOirS43rkT0dLqwRui7\n",
            "To: /content/BECCI_33recordings_annotations/25-WS550023.txt\n",
            "100%|██████████| 26.3k/26.3k [00:00<00:00, 18.9MB/s]\n",
            "Downloading...\n",
            "From: https://drive.google.com/uc?id=1rcTE2wSLFctJLyNUmNdgh5_h80XvHxTs\n",
            "To: /content/BECCI_33recordings_annotations/26-WS550018.txt\n",
            "100%|██████████| 26.0k/26.0k [00:00<00:00, 50.2MB/s]\n",
            "Downloading...\n",
            "From: https://drive.google.com/uc?id=15SCUnn7JFuDkBli2CRM5p1fStcgrYkT-\n",
            "To: /content/BECCI_33recordings_annotations/28-WS550083.txt\n",
            "100%|██████████| 35.8k/35.8k [00:00<00:00, 51.9MB/s]\n",
            "Downloading...\n",
            "From: https://drive.google.com/uc?id=1xvwHPhpEJPJ8HClla3fqg82LtGUF73_1\n",
            "To: /content/BECCI_33recordings_annotations/31-WS550021.txt\n",
            "100%|██████████| 22.0k/22.0k [00:00<00:00, 44.8MB/s]\n",
            "Downloading...\n",
            "From: https://drive.google.com/uc?id=1JECUpfkUSQd5PInP1Vnp28HqHALrDK4t\n",
            "To: /content/BECCI_33recordings_annotations/32-WS750023.txt\n",
            "100%|██████████| 23.4k/23.4k [00:00<00:00, 64.3MB/s]\n",
            "Downloading...\n",
            "From: https://drive.google.com/uc?id=1Z1JJ0btveP_vdvv6ZgwFZ5Uvr_EclXuz\n",
            "To: /content/BECCI_33recordings_annotations/33-WS320034.txt\n",
            "100%|██████████| 27.7k/27.7k [00:00<00:00, 52.1MB/s]\n",
            "Download completed\n"
          ]
        },
        {
          "data": {
            "text/plain": [
              "['/content/BECCI_33recordings_annotations/1-WS550031.txt',\n",
              " '/content/BECCI_33recordings_annotations/2-WS550069.txt',\n",
              " '/content/BECCI_33recordings_annotations/3-WS320115.txt',\n",
              " '/content/BECCI_33recordings_annotations/4-WS550024.txt',\n",
              " '/content/BECCI_33recordings_annotations/5-WS550054.txt',\n",
              " '/content/BECCI_33recordings_annotations/7-WS550037.txt',\n",
              " '/content/BECCI_33recordings_annotations/8-WS550018.txt',\n",
              " '/content/BECCI_33recordings_annotations/9-WS550009.txt',\n",
              " '/content/BECCI_33recordings_annotations/10-WS550062.txt',\n",
              " '/content/BECCI_33recordings_annotations/12-WS750027.txt',\n",
              " '/content/BECCI_33recordings_annotations/13-WS550080.txt',\n",
              " '/content/BECCI_33recordings_annotations/14-WS550050.txt',\n",
              " '/content/BECCI_33recordings_annotations/15-WS550046.txt',\n",
              " '/content/BECCI_33recordings_annotations/18-WS550064.txt',\n",
              " '/content/BECCI_33recordings_annotations/20-WS550068.txt',\n",
              " '/content/BECCI_33recordings_annotations/21-WS550020.txt',\n",
              " '/content/BECCI_33recordings_annotations/22-WS320024.txt',\n",
              " '/content/BECCI_33recordings_annotations/25-WS550023.txt',\n",
              " '/content/BECCI_33recordings_annotations/26-WS550018.txt',\n",
              " '/content/BECCI_33recordings_annotations/28-WS550083.txt',\n",
              " '/content/BECCI_33recordings_annotations/31-WS550021.txt',\n",
              " '/content/BECCI_33recordings_annotations/32-WS750023.txt',\n",
              " '/content/BECCI_33recordings_annotations/33-WS320034.txt']"
            ]
          },
          "execution_count": 7,
          "metadata": {},
          "output_type": "execute_result"
        }
      ],
      "source": [
        "folder_url=\"https://drive.google.com/drive/folders/1zv7KfpeE4Ozfe5esHIcN4XekvbdLd974\"\n",
        "gdown.download_folder(folder_url, quiet=False, use_cookies=False)"
      ]
    },
    {
      "cell_type": "code",
      "execution_count": null,
      "metadata": {
        "id": "qNhtx-uY6pOo"
      },
      "outputs": [],
      "source": [
        "from pydrive2.auth import GoogleAuth\n",
        "from pydrive2.drive import GoogleDrive\n",
        "from google.colab import auth\n",
        "from oauth2client.client import GoogleCredentials\n",
        "\n",
        "# Authenticate and create the PyDrive client\n",
        "auth.authenticate_user()\n",
        "gauth = GoogleAuth()\n",
        "gauth.credentials = GoogleCredentials.get_application_default()\n",
        "drive = GoogleDrive(gauth)\n"
      ]
    },
    {
      "cell_type": "code",
      "execution_count": null,
      "metadata": {
        "colab": {
          "base_uri": "https://localhost:8080/"
        },
        "id": "Irh1IGzizEUO",
        "outputId": "387498c3-ddcb-427e-86f3-bafe14d45a79"
      },
      "outputs": [
        {
          "name": "stdout",
          "output_type": "stream",
          "text": [
            "Downloading: 9-WS550009.wav\n",
            "Downloaded: 9-WS550009.wav to /content/audio\n",
            "Downloading: 8-WS550018.wav\n",
            "Downloaded: 8-WS550018.wav to /content/audio\n",
            "Downloading: 7-WS550037.wav\n",
            "Downloaded: 7-WS550037.wav to /content/audio\n",
            "Downloading: 6-WS550053.wav\n",
            "Downloaded: 6-WS550053.wav to /content/audio\n",
            "Downloading: 5-WS550054.wav\n",
            "Downloaded: 5-WS550054.wav to /content/audio\n",
            "Downloading: 4-WS550024.wav\n",
            "Downloaded: 4-WS550024.wav to /content/audio\n",
            "Downloading: 3-WS320115.wav\n",
            "Downloaded: 3-WS320115.wav to /content/audio\n",
            "Downloading: 33-WS320034.wav\n",
            "Downloaded: 33-WS320034.wav to /content/audio\n",
            "Downloading: 32-WS750023.wav\n",
            "Downloaded: 32-WS750023.wav to /content/audio\n",
            "Downloading: 31-WS550021.wav\n",
            "Downloaded: 31-WS550021.wav to /content/audio\n",
            "Downloading: 30-WS550052.wav\n",
            "Downloaded: 30-WS550052.wav to /content/audio\n",
            "Downloading: 2-WS550069.wav\n",
            "Downloaded: 2-WS550069.wav to /content/audio\n",
            "Downloading: 29-WS550029.wav\n",
            "Downloaded: 29-WS550029.wav to /content/audio\n",
            "Downloading: 28-WS550083.wav\n",
            "Downloaded: 28-WS550083.wav to /content/audio\n",
            "Downloading: 27-WS550011.wav\n",
            "Downloaded: 27-WS550011.wav to /content/audio\n",
            "Downloading: 26-WS550018.wav\n",
            "Downloaded: 26-WS550018.wav to /content/audio\n",
            "Downloading: 25-WS550023.wav\n",
            "Downloaded: 25-WS550023.wav to /content/audio\n",
            "Downloading: 24-WS550078.wav\n",
            "Downloaded: 24-WS550078.wav to /content/audio\n",
            "Downloading: 23-WS550044.wav\n",
            "Downloaded: 23-WS550044.wav to /content/audio\n",
            "Downloading: 22-WS320024.wav\n",
            "Downloaded: 22-WS320024.wav to /content/audio\n",
            "Downloading: 21-WS550020.wav\n",
            "Downloaded: 21-WS550020.wav to /content/audio\n",
            "Downloading: 20-WS550068.wav\n",
            "Downloaded: 20-WS550068.wav to /content/audio\n",
            "Downloading: 1-WS550031.wav\n",
            "Downloaded: 1-WS550031.wav to /content/audio\n",
            "Downloading: 19-WS550065.wav\n",
            "Downloaded: 19-WS550065.wav to /content/audio\n",
            "Downloading: 18-WS550064.wav\n",
            "Downloaded: 18-WS550064.wav to /content/audio\n",
            "Downloading: 17-WS550006.wav\n",
            "Downloaded: 17-WS550006.wav to /content/audio\n",
            "Downloading: 16-WS550047.wav\n",
            "Downloaded: 16-WS550047.wav to /content/audio\n",
            "Downloading: 15-WS550046.wav\n",
            "Downloaded: 15-WS550046.wav to /content/audio\n",
            "Downloading: 14-WS550050.wav\n",
            "Downloaded: 14-WS550050.wav to /content/audio\n",
            "Downloading: 13-WS550080.wav\n",
            "Downloaded: 13-WS550080.wav to /content/audio\n",
            "Downloading: 12-WS750027.wav\n",
            "Downloaded: 12-WS750027.wav to /content/audio\n",
            "Downloading: 11-WS320047.wav\n",
            "Downloaded: 11-WS320047.wav to /content/audio\n",
            "Downloading: 10-WS550062.wav\n",
            "Downloaded: 10-WS550062.wav to /content/audio\n"
          ]
        }
      ],
      "source": [
        "import os\n",
        "# Replace 'YOUR_FOLDER_ID' with your Google Drive folder ID\n",
        "folder_id = '1JjJ6xNm4D0v-uJuYiYTi3MScBTFWs7TL'\n",
        "\n",
        "# Define the local download path\n",
        "local_download_path = '/content/audio'\n",
        "os.makedirs(local_download_path, exist_ok=True)\n",
        "\n",
        "# List files in the folder on Google Drive\n",
        "file_list = drive.ListFile({'q': f\"'{folder_id}' in parents and trashed=false\"}).GetList()\n",
        "\n",
        "for file in file_list:\n",
        "    file_id = file['id']\n",
        "    file_name = file['title']\n",
        "    print(f'Downloading: {file_name}')\n",
        "\n",
        "    # Download each file to the local_download_path\n",
        "    downloaded_file = drive.CreateFile({'id': file_id})\n",
        "    downloaded_file.GetContentFile(os.path.join(local_download_path, file_name))\n",
        "    print(f'Downloaded: {file_name} to {local_download_path}')\n"
      ]
    },
    {
      "cell_type": "markdown",
      "metadata": {
        "id": "X_wm4poNykz6"
      },
      "source": [
        "\n",
        "\n",
        "This diarizers library includes dependencies to transformers, datasets, accelerate, pyannote.audio and torch. We will need all these dependencies to run this notebook.\n",
        "\n",
        "To install them all, simply run the following line of code, which will install the diarizers package:\n"
      ]
    },
    {
      "cell_type": "code",
      "execution_count": null,
      "metadata": {
        "id": "Sg_jNvS871HY"
      },
      "outputs": [],
      "source": [
        "!pip install --upgrade --quiet git+https://github.com/huggingface/diarizers.git"
      ]
    },
    {
      "cell_type": "code",
      "execution_count": null,
      "metadata": {
        "id": "nmx73GBj1ELf"
      },
      "outputs": [],
      "source": [
        "pip install datasets"
      ]
    },
    {
      "cell_type": "code",
      "execution_count": null,
      "metadata": {
        "id": "n52IxiwL3j8f"
      },
      "outputs": [],
      "source": [
        "import os\n",
        "import librosa\n",
        "from datasets import Dataset, DatasetDict, Audio"
      ]
    },
    {
      "cell_type": "markdown",
      "metadata": {
        "id": "GfjfO9ZIzOed"
      },
      "source": [
        "to train the model for speaker diarization purposes first i have to convert the our data into the a format in which pyannote take input.below code is converting our data into that format."
      ]
    },
    {
      "cell_type": "code",
      "execution_count": null,
      "metadata": {
        "colab": {
          "base_uri": "https://localhost:8080/",
          "height": 49,
          "referenced_widgets": [
            "ef6eb1777b9a47a792f7d7a0cf7b4ea3",
            "32cafbba565c4729a74fa2f43d10fa19",
            "18db547589b74cf798547775f522198b",
            "6fc375df3d27453f93ba767c30431a82",
            "92f5755944bf47eea685cf46d980a9c7",
            "a0fd24b23a394c9ba45be3dc3fec4268",
            "1c41d3aad9614559b2187dcfc9e8cc87",
            "36b0b8a07a874f9abac2049c6cd9349c",
            "f74e6ac5a2444a8e921c16728dbf02be",
            "3a8d9a5618eb41229368343afa79725a",
            "8a5cff5dfaa04e70baa1274de4f80d1e"
          ]
        },
        "id": "dZY37ZlS2p3p",
        "outputId": "78d73665-b62c-434a-9ee7-7eb7dd1c9d3b"
      },
      "outputs": [
        {
          "data": {
            "application/vnd.jupyter.widget-view+json": {
              "model_id": "ef6eb1777b9a47a792f7d7a0cf7b4ea3",
              "version_major": 2,
              "version_minor": 0
            },
            "text/plain": [
              "Saving the dataset (0/1 shards):   0%|          | 0/7 [00:00<?, ? examples/s]"
            ]
          },
          "metadata": {},
          "output_type": "display_data"
        }
      ],
      "source": [
        "import os\n",
        "import librosa\n",
        "import soundfile as sf\n",
        "from datasets import Dataset, DatasetDict, Audio\n",
        "\n",
        "# Paths to your data\n",
        "audio_dir = '/content/audio'  # Folder containing audio files\n",
        "annotations_dir = '/content/annotations'  # Folder containing annotation files\n",
        "\n",
        "# Function to convert audio sampling rate to 16 kHz\n",
        "def convert_audio_sampling_rate(audio_path, target_sr=16000):\n",
        "    audio, sr = librosa.load(audio_path, sr=None)  # Load with original sampling rate\n",
        "    if sr != target_sr:\n",
        "        audio = librosa.resample(audio, orig_sr=sr, target_sr=target_sr)  # Resample to target sampling rate\n",
        "        sf.write(audio_path, audio, target_sr)  # Save the resampled audio back to the file\n",
        "\n",
        "# Convert all audio files to 16 kHz\n",
        "for audio_file in os.listdir(audio_dir):\n",
        "    if audio_file.endswith(\".wav\"):\n",
        "        convert_audio_sampling_rate(os.path.join(audio_dir, audio_file))\n",
        "\n",
        "# Initialize lists to store data\n",
        "audio_paths = []\n",
        "timestamps_start = []\n",
        "timestamps_end = []\n",
        "speakers = []\n",
        "\n",
        "# Iterate over each annotation file\n",
        "for annotation_file in os.listdir(annotations_dir):\n",
        "    if annotation_file.endswith(\".txt\"):\n",
        "        # Load corresponding audio file\n",
        "        audio_filename = os.path.splitext(annotation_file)[0] + \".wav\"\n",
        "        audio_path = os.path.join(audio_dir, audio_filename)\n",
        "\n",
        "        # Initialize lists for this audio file\n",
        "        start_times = []\n",
        "        end_times = []\n",
        "        speaker_labels = []\n",
        "\n",
        "        # Load the annotation file with specified encoding\n",
        "        with open(os.path.join(annotations_dir, annotation_file), 'r', encoding='utf-8', errors='ignore') as f:\n",
        "            for line in f:\n",
        "                # Replace multiple spaces or tabs with a single tab\n",
        "                line = line.replace('   ', '\\t').replace('  ', '\\t').replace(' ', '\\t').strip()\n",
        "                parts = line.split('\\t')\n",
        "\n",
        "                # Filter out empty strings and normalize parts to have exactly three items\n",
        "                parts = list(filter(None, parts))\n",
        "\n",
        "                if len(parts) < 3:\n",
        "                    print(f\"Skipping malformed line in {annotation_file}: {line}\")\n",
        "                    continue  # Skip malformed lines\n",
        "\n",
        "                try:\n",
        "                    start = float(parts[0])\n",
        "                    end = float(parts[1])\n",
        "                    speaker = parts[2]\n",
        "                    start_times.append(start)\n",
        "                    end_times.append(end)\n",
        "                    speaker_labels.append(speaker)\n",
        "                except ValueError as e:\n",
        "                    print(f\"Skipping line due to error in {annotation_file}: {line} with error {e}\")\n",
        "                    continue\n",
        "\n",
        "        # Append aggregated data for this audio file\n",
        "        audio_paths.append(audio_path)\n",
        "        timestamps_start.append(start_times)\n",
        "        timestamps_end.append(end_times)\n",
        "        speakers.append(speaker_labels)\n",
        "\n",
        "# Create a dictionary with the aggregated data\n",
        "data_dict = {\n",
        "    'audio': audio_paths,\n",
        "    'timestamps_start': timestamps_start,\n",
        "    'timestamps_end': timestamps_end,\n",
        "    'speakers': speakers\n",
        "}\n",
        "\n",
        "# Load into a Dataset\n",
        "dataset = Dataset.from_dict(data_dict)\n",
        "\n",
        "# Convert 'audio' column to Audio format\n",
        "dataset = dataset.cast_column(\"audio\", Audio())\n",
        "\n",
        "# Create DatasetDict\n",
        "dataset_dict = DatasetDict({\n",
        "    \"data\": dataset\n",
        "})\n",
        "\n",
        "# Save the dataset\n",
        "dataset_dict.save_to_disk('/content/data12')\n"
      ]
    },
    {
      "cell_type": "markdown",
      "metadata": {
        "id": "_Me-x59Ly92I"
      },
      "source": [
        "Load a dataset:\n",
        "\n",
        "Using 🤗 Datasets, loading and preparing speaker diarization datasets is extremely simple.here i am loading the data from my local disk."
      ]
    },
    {
      "cell_type": "code",
      "execution_count": null,
      "metadata": {
        "colab": {
          "base_uri": "https://localhost:8080/"
        },
        "id": "wyTcSKYiJhG9",
        "outputId": "dc2e7286-69e9-4801-c70f-b28337c7cf33"
      },
      "outputs": [
        {
          "name": "stdout",
          "output_type": "stream",
          "text": [
            "DatasetDict({\n",
            "    data: Dataset({\n",
            "        features: ['audio', 'timestamps_start', 'timestamps_end', 'speakers'],\n",
            "        num_rows: 7\n",
            "    })\n",
            "})\n"
          ]
        }
      ],
      "source": [
        "from datasets import load_from_disk\n",
        "\n",
        "# Load the dataset\n",
        "loaded_dataset = load_from_disk('/content/data12')\n",
        "print(loaded_dataset)\n"
      ]
    },
    {
      "cell_type": "markdown",
      "metadata": {
        "id": "1UbJKuQrzp30"
      },
      "source": [
        "Let's inspect the dataset we've loaded:"
      ]
    },
    {
      "cell_type": "code",
      "execution_count": null,
      "metadata": {
        "colab": {
          "base_uri": "https://localhost:8080/"
        },
        "id": "kHyjvBH89xib",
        "outputId": "ee881a7a-c87e-4315-a127-958770b612da"
      },
      "outputs": [
        {
          "name": "stdout",
          "output_type": "stream",
          "text": [
            "{'audio': {'path': '8-WS550018.wav', 'array': array([ 0.        ,  0.        ,  0.        , ..., -0.01577759,\n",
            "       -0.02410889, -0.02520752]), 'sampling_rate': 16000}, 'timestamps_start': [0.0, 3.20571, 6.63967, 8.44319, 9.37467, 10.86605, 12.2286, 15.35998, 15.82077, 16.24638, 16.51889, 16.93509, 17.11033, 17.35441, 26.90436, 27.2883, 28.84024, 29.60468, 30.93416, 31.5894, 31.76983, 32.50104, 33.82814, 34.45726, 37.39363, 38.96526, 42.91614, 43.48931, 44.40807, 45.01583, 45.89898, 46.42602, 47.14536, 48.08074, 51.15071, 51.54718, 53.09964, 53.34179, 54.2012, 58.07329, 58.67868, 59.59031, 60.15059, 60.75598, 61.56791, 65.51597, 65.98189, 69.01119, 69.6783, 72.8263, 74.07506, 74.8502, 75.32976, 76.14406, 76.79455, 77.21476, 77.90264, 78.73831, 79.50276, 80.8536, 81.93617, 84.0111, 84.90647, 86.38789, 86.77248, 87.11435, 88.61228, 89.29601, 90.79167, 92.67467, 93.12337, 95.81052, 96.25209, 96.83542, 98.29547, 98.77977, 100.2032, 100.59176, 101.70282, 102.14221, 102.50463, 105.76536, 106.97613, 110.33067, 111.08563, 112.43884, 112.7807, 113.07271, 113.50717, 115.22361, 116.06403, 116.96142, 118.50431, 122.5141, 123.16222, 124.37299, 129.44398, 133.26147, 135.73286, 136.43084, 137.44931, 138.7954, 139.31333, 139.54124, 139.81267, 140.60999, 145.49538, 146.57284, 147.12593, 150.20157, 150.48531, 151.31364, 152.45215, 152.83645, 153.27821, 156.32031, 157.71121, 158.40796, 159.18667, 159.69307, 160.4437, 162.85721, 163.33488, 163.69135, 165.68529, 166.1055, 166.41437, 167.49183, 168.1419, 175.97142, 176.19819, 177.46338, 177.97338, 178.72598, 179.19647, 182.35179, 182.76448, 183.05899, 184.70391, 184.96968, 188.33853, 189.12507, 190.18098, 191.67492, 191.91914, 192.32139, 193.24267, 193.64851, 194.61104, 195.04921, 195.8573, 196.16617, 196.35766, 199.01539, 200.15031, 200.52024, 201.05178, 201.40375, 204.11895, 204.77822, 207.64882, 207.78889, 208.91499, 209.13766, 209.38189, 210.03914, 210.43061, 211.32131, 211.8349, 213.31102, 214.11552, 215.23248, 215.86818, 216.116, 216.43924, 217.02825, 217.48437, 217.95486, 223.80543, 224.07839, 226.39133, 226.67147, 227.21379, 228.27688, 228.71864, 230.0475, 232.17369, 232.75551, 233.84356, 234.81327, 235.25503, 236.00925, 236.76094, 237.36431, 237.91741, 238.27656, 238.66804, 241.1426, 241.4371, 241.72442, 242.43555, 243.1323, 243.44836, 246.32486, 247.08153, 247.35089, 249.02813, 250.2313, 251.1266, 256.68329, 257.22202, 259.68221, 260.9608, 261.93051, 263.4174, 265.80861, 266.43354, 266.71009, 270.97877, 271.27681, 272.56976, 276.2102, 280.02341, 282.28346, 283.70014, 284.03416, 284.53436, 286.90476, 288.01301, 288.96836, 292.00809, 304.05238, 309.13699, 309.38481, 310.37607, 312.44479, 312.76898, 315.31178, 315.79664, 317.65965, 318.01522, 318.66169, 319.7607, 325.23298, 329.81218, 331.0728, 336.84307, 339.19094, 342.27441, 342.67307, 343.40574, 343.98757, 344.63405, 349.06827, 350.90554, 354.79692, 355.22029, 355.60601, 356.7922, 365.68198, 376.87827, 378.35376, 383.26317, 384.15222, 385.29843, 386.69787, 387.3776, 399.83105, 400.92394, 403.30966, 403.7095, 406.48642, 407.89919, 408.25905, 415.20803, 415.64786, 416.5275, 416.80739, 418.02494, 419.15782, 419.73093, 420.67761, 421.34401, 421.75718, 423.07665, 425.2985, 427.04447, 429.13697, 433.26002, 433.68652, 434.17966, 434.92602, 439.93774, 443.12353, 444.08314, 445.52257, 446.5355, 447.45513, 449.71697, 451.56956, 452.06309, 454.24888, 455.60834, 456.92781, 458.27394, 458.56715, 459.58478, 463.61454, 464.53418, 465.62707, 466.05357, 467.94222, 469.00846, 474.16679, 476.98841, 477.8414, 478.16127, 481.14674, 481.69319, 482.20867, 482.6485, 482.84842, 483.62144, 490.87226, 496.39084, 496.87065, 498.06586, 499.41198, 500.58485, 502.15755, 503.19714, 503.87686, 504.17478, 504.8945, 508.2802, 508.7067, 509.5197, 510.50598, 516.00221, 519.13429, 519.78736, 520.74698, 530.02875, 530.40194, 532.6677, 534.41406, 534.9605, 537.90599, 541.96711, 545.19249, 547.03175, 551.62638, 552.74594, 553.31904, 553.71888, 554.39861, 554.94506, 556.61106, 569.13624, 569.77598, 570.24246, 571.7352, 572.0684, 572.7348, 573.25459, 574.60072, 575.36042, 577.48898, 577.86216, 584.90013, 585.35328, 588.65862, 593.75462, 594.06117, 595.2207, 595.90043, 603.2669, 603.62675, 605.71964, 606.5593, 607.13241, 610.06927, 610.86895, 611.28212, 612.68195, 619.47962, 620.02607, 622.9453, 629.36978, 629.91623, 630.98247, 644.54254, 645.63543, 646.36847, 647.6217, 648.63462, 650.22066, 652.47387, 653.31354, 659.1512, 659.9109, 662.09277, 662.9191, 663.41224, 664.46515, 666.3444, 668.7701, 669.6764, 672.67559, 674.04838, 675.09266, 675.69242, 677.59833, 683.18394, 683.77037, 685.24978, 687.0224, 688.75504, 689.91458, 695.4065, 697.71224, 701.33746, 702.49307, 703.506, 706.43816, 706.77136, 708.95715, 709.8368, 711.47222, 715.84381, 716.96336, 717.6035, 718.89631, 724.12128, 725.50739, 726.80021, 728.14202, 730.3239, 731.07026, 735.22938, 743.78596, 749.43311, 753.67651, 754.11634, 756.70197, 757.34171, 758.6212, 759.08376, 759.29701, 762.30914, 762.8156, 763.2421, 766.29421, 772.04798, 773.01331, 773.79967, 774.18618, 775.86551, 776.13207, 777.99799, 778.42448, 779.87723, 780.49032, 780.98757, 782.82683, 783.01342, 784.03968, 785.8123, 786.22547, 786.70528, 789.65077, 789.9138, 790.8201, 791.20662, 791.87302, 792.37948, 792.88594, 794.93846, 796.80438, 797.05761, 797.59073, 798.6703, 800.4829, 801.74514, 802.91801, 803.74434, 805.54402, 805.8239, 806.55694, 807.74314, 808.55614, 809.62238, 809.78232, 810.74194, 815.84695, 817.1135, 819.05939, 820.5388, 820.99195, 821.9649, 822.94294, 824.00918, 824.74222, 826.26161, 827.59441, 831.64651, 832.19296, 835.13845, 838.03102, 841.75894, 843.77146, 844.14465, 845.19756, 850.29826, 851.2179, 855.38133, 856.80742, 857.20726, 858.88659, 859.17981, 860.17941, 860.65922, 861.57885, 865.66231, 867.35497, 867.74618, 868.18601, 868.74578, 869.34554, 871.11817, 871.87786, 872.11385, 872.76692, 876.11225, 876.63204, 877.90212, 878.60458, 880.58183, 881.00833, 882.04791, 883.96714, 884.327, 884.68686, 887.33991, 887.73975, 893.5241, 893.8134, 895.94588, 897.73183, 898.30494, 900.35745, 900.61068, 901.01052, 902.94308, 903.3829, 908.46597, 908.79917, 918.09388, 918.97392, 920.95979, 925.35411, 925.76728, 932.71626, 933.26271, 935.71546, 936.24858, 937.20819, 938.64762, 943.01959, 943.55271, 945.1701, 945.8365, 946.67617, 948.70202, 948.90194, 952.20337, 953.98932, 955.80193, 956.97479, 957.67726, 960.16959, 960.85402, 961.02729, 962.87988, 967.11858, 967.70501, 970.49958, 970.68617, 970.91274, 973.00524, 973.71162, 973.99151, 974.96446, 976.31098, 976.77746, 979.88327, 980.84289, 981.2294, 986.3744, 986.6143, 989.35987, 992.9455, 999.58794, 1002.64005, 1006.75879, 1007.94498, 1009.07826, 1011.67722, 1012.27698, 1013.06333, 1014.79597, 1015.09389, 1015.98686, 1017.61327, 1021.21183, 1021.97153, 1025.02403, 1025.31725, 1025.65045, 1026.29019, 1027.11653, 1028.87582, 1030.74174, 1031.74174, 1032.76838, 1034.11451, 1055.12062, 1058.07183, 1062.20351, 1066.1221, 1066.6019, 1067.80142, 1068.38786, 1070.2675, 1070.77396, 1071.52033, 1072.29335, 1074.39957, 1075.29254, 1078.15806, 1078.69118, 1081.6061, 1082.69899, 1086.73738, 1087.34654, 1087.7064, 1088.45277, 1088.77264, 1089.2791, 1091.38493, 1092.55779, 1093.39746, 1094.68596, 1097.40526, 1098.45818, 1101.31037, 1101.9505, 1102.77684, 1104.69607, 1106.68194, 1107.68194, 1109.21466, 1109.78776, 1110.54746, 1111.9563, 1113.92885, 1115.03507, 1115.58152, 1116.18128, 1116.86101, 1120.8155, 1121.46858, 1123.32117, 1124.65397, 1125.12215], 'timestamps_end': [3.20571, 6.63967, 8.44319, 9.37467, 10.86605, 12.2286, 15.35998, 15.82077, 16.24638, 16.51889, 16.93509, 17.11033, 17.35441, 26.90436, 27.2883, 28.84024, 29.60468, 30.93416, 31.5894, 31.76983, 32.50104, 33.82814, 34.45726, 37.39363, 38.96526, 42.91614, 43.48931, 44.40807, 45.01583, 45.89898, 46.42602, 47.14536, 48.08074, 51.15071, 51.54718, 53.09964, 53.34179, 54.2012, 58.07329, 58.67868, 59.59031, 60.15059, 60.75598, 61.56791, 65.51597, 65.98189, 69.01119, 69.6783, 72.8263, 74.07506, 74.8502, 75.32976, 76.14406, 76.79455, 77.21476, 77.90264, 78.73831, 79.50276, 80.8536, 81.93617, 84.0111, 84.90647, 86.38789, 86.77248, 87.11435, 88.61228, 89.29601, 90.79167, 92.67467, 93.12337, 95.81052, 96.25209, 96.83542, 98.29547, 98.77977, 100.2032, 100.59176, 101.70282, 102.14221, 102.50463, 105.76536, 106.97613, 110.33067, 111.08563, 112.43884, 112.7807, 113.07271, 113.50717, 115.22361, 116.06403, 116.96142, 118.50431, 122.5141, 123.16222, 124.37299, 129.44398, 133.26147, 135.73286, 136.43084, 137.44931, 138.7954, 139.31333, 139.54124, 139.81267, 140.60999, 145.49538, 146.57284, 147.12593, 150.20157, 150.48531, 151.31364, 152.45215, 152.83645, 153.27821, 156.32031, 157.71121, 158.40796, 159.18667, 159.69307, 160.4437, 162.85721, 163.33488, 163.69135, 165.68529, 166.1055, 166.41437, 167.49183, 168.1419, 175.97142, 176.19819, 177.46338, 177.97338, 178.72598, 179.19647, 182.35179, 182.76448, 183.05899, 184.70391, 184.96968, 188.33853, 189.12507, 190.18098, 191.67492, 191.91914, 192.32139, 193.24267, 193.64851, 194.61104, 195.04921, 195.8573, 196.16617, 196.35766, 199.01539, 200.15031, 200.52024, 201.05178, 201.40375, 204.11895, 204.77822, 207.64882, 207.78889, 208.91499, 209.13766, 209.38189, 210.03914, 210.43061, 211.32131, 211.8349, 213.31102, 214.11552, 215.23248, 215.86818, 216.116, 216.43924, 217.02825, 217.48437, 217.95486, 223.80543, 224.07839, 226.39133, 226.67147, 227.21379, 228.27688, 228.71864, 230.0475, 232.17369, 232.75551, 233.84356, 234.81327, 235.25503, 236.00925, 236.76094, 237.36431, 237.91741, 238.27656, 238.66804, 241.1426, 241.4371, 241.72442, 242.43555, 243.1323, 243.44836, 246.32486, 247.08153, 247.35089, 249.02813, 250.2313, 251.1266, 256.68329, 257.22202, 259.68221, 260.9608, 261.93051, 263.4174, 265.80861, 266.43354, 266.71009, 270.97877, 271.27681, 272.56976, 276.2102, 280.02341, 282.28346, 283.70014, 284.03416, 284.53436, 286.90476, 288.01301, 288.96836, 292.00809, 304.05238, 309.13699, 309.38481, 310.37607, 312.44479, 312.76898, 315.31178, 315.79664, 317.65965, 318.01522, 318.66169, 319.7607, 325.23298, 329.81218, 331.0728, 336.84307, 339.19094, 342.27441, 342.67307, 343.40574, 343.98757, 344.63405, 349.06827, 350.90554, 354.79692, 355.22029, 355.60601, 356.7922, 365.68198, 376.87827, 378.35376, 383.26317, 384.15222, 385.29843, 386.69787, 387.3776, 399.83105, 400.92394, 403.30966, 403.7095, 406.48642, 407.89919, 408.25905, 415.20803, 415.64786, 416.5275, 416.80739, 418.02494, 419.15782, 419.73093, 420.67761, 421.34401, 421.75718, 423.07665, 425.2985, 427.04447, 429.13697, 433.26002, 433.68652, 434.17966, 434.92602, 439.93774, 443.12353, 444.08314, 445.52257, 446.5355, 447.45513, 449.71697, 451.56956, 452.06309, 454.24888, 455.60834, 456.92781, 458.27394, 458.56715, 459.58478, 463.61454, 464.53418, 465.62707, 466.05357, 467.94222, 469.00846, 474.16679, 476.98841, 477.8414, 478.16127, 481.14674, 481.69319, 482.20867, 482.6485, 482.84842, 483.62144, 490.87226, 496.39084, 496.87065, 498.06586, 499.41198, 500.58485, 502.15755, 503.19714, 503.87686, 504.17478, 504.8945, 508.2802, 508.7067, 509.5197, 510.50598, 516.00221, 519.13429, 519.78736, 520.74698, 530.02875, 530.40194, 532.6677, 534.41406, 534.9605, 537.90599, 541.96711, 545.19249, 547.03175, 551.62638, 552.74594, 553.31904, 553.71888, 554.39861, 554.94506, 556.61106, 569.13624, 569.77598, 570.24246, 571.7352, 572.0684, 572.7348, 573.25459, 574.60072, 575.36042, 577.48898, 577.86216, 584.90013, 585.35328, 588.65862, 593.75462, 594.06117, 595.2207, 595.90043, 603.2669, 603.62675, 605.71964, 606.5593, 607.13241, 610.06927, 610.86895, 611.28212, 612.68195, 619.47962, 620.02607, 622.9453, 629.36978, 629.91623, 630.98247, 644.54254, 645.63543, 646.36847, 647.6217, 648.63462, 650.22066, 652.47387, 653.31354, 659.1512, 659.9109, 662.09277, 662.9191, 663.41224, 664.46515, 666.3444, 668.7701, 669.6764, 672.67559, 674.04838, 675.09266, 675.69242, 677.59833, 683.18394, 683.77037, 685.24978, 687.0224, 688.75504, 689.91458, 695.4065, 697.71224, 701.33746, 702.49307, 703.506, 706.43816, 706.77136, 708.95715, 709.8368, 711.47222, 715.84381, 716.96336, 717.6035, 718.89631, 724.12128, 725.50739, 726.80021, 728.14202, 730.3239, 731.07026, 735.22938, 743.78596, 749.43311, 753.67651, 754.11634, 756.70197, 757.34171, 758.6212, 759.08376, 759.29701, 762.30914, 762.8156, 763.2421, 766.29421, 772.04798, 773.01331, 773.79967, 774.18618, 775.86551, 776.13207, 777.99799, 778.42448, 779.87723, 780.49032, 780.98757, 782.82683, 783.01342, 784.03968, 785.8123, 786.22547, 786.70528, 789.65077, 789.9138, 790.8201, 791.20662, 791.87302, 792.37948, 792.88594, 794.93846, 796.80438, 797.05761, 797.59073, 798.6703, 800.4829, 801.74514, 802.91801, 803.74434, 805.54402, 805.8239, 806.55694, 807.74314, 808.55614, 809.62238, 809.78232, 810.74194, 815.84695, 817.1135, 819.05939, 820.5388, 820.99195, 821.9649, 822.94294, 824.00918, 824.74222, 826.26161, 827.59441, 831.64651, 832.19296, 835.13845, 838.03102, 841.75894, 843.77146, 844.14465, 845.19756, 850.29826, 851.2179, 855.38133, 856.80742, 857.20726, 858.88659, 859.17981, 860.17941, 860.65922, 861.57885, 865.66231, 867.35497, 867.74618, 868.18601, 868.74578, 869.34554, 871.11817, 871.87786, 872.11385, 872.76692, 876.11225, 876.63204, 877.90212, 878.60458, 880.58183, 881.00833, 882.04791, 883.96714, 884.327, 884.68686, 887.33991, 887.73975, 893.5241, 893.8134, 895.94588, 897.73183, 898.30494, 900.35745, 900.61068, 901.01052, 902.94308, 903.3829, 908.46597, 908.79917, 918.09388, 918.97392, 920.95979, 925.35411, 925.76728, 932.71626, 933.26271, 935.71546, 936.24858, 937.20819, 938.64762, 943.01959, 943.55271, 945.1701, 945.8365, 946.67617, 948.70202, 948.90194, 952.20337, 953.98932, 955.80193, 956.97479, 957.67726, 960.16959, 960.85402, 961.02729, 962.87988, 967.11858, 967.70501, 970.49958, 970.68617, 970.91274, 973.00524, 973.71162, 973.99151, 974.96446, 976.31098, 976.77746, 979.88327, 980.84289, 981.2294, 986.3744, 986.6143, 989.35987, 992.9455, 999.58794, 1002.64005, 1006.75879, 1007.94498, 1009.07826, 1011.67722, 1012.27698, 1013.06333, 1014.79597, 1015.09389, 1015.98686, 1017.61327, 1021.21183, 1021.97153, 1025.02403, 1025.31725, 1025.65045, 1026.29019, 1027.11653, 1028.87582, 1030.74174, 1031.74174, 1032.76838, 1034.11451, 1055.12062, 1058.07183, 1062.20351, 1066.1221, 1066.6019, 1067.80142, 1068.38786, 1070.2675, 1070.77396, 1071.52033, 1072.29335, 1074.39957, 1075.29254, 1078.15806, 1078.69118, 1081.6061, 1082.69899, 1086.73738, 1087.34654, 1087.7064, 1088.45277, 1088.77264, 1089.2791, 1091.38493, 1092.55779, 1093.39746, 1094.68596, 1097.40526, 1098.45818, 1101.31037, 1101.9505, 1102.77684, 1104.69607, 1106.68194, 1107.68194, 1109.21466, 1109.78776, 1110.54746, 1111.9563, 1113.92885, 1115.03507, 1115.58152, 1116.18128, 1116.86101, 1120.8155, 1121.46858, 1123.32117, 1124.65397, 1125.12215, 1126.02325], 'speakers': ['noise', 'speechCLI', 'noise', 'noise', 'speechCLI', 'noise', 'speechCLI', 'speechOVE', 'speechCLI', 'speechOVE', 'speechCLI', 'speechPAT', 'speechOVE', 'speechPAT', 'speechOVE', 'speechPAT', 'noise', 'speechPAT', 'speechOVE', 'speechCLI', 'speechOVE', 'speechPAT', 'noise', 'speechPAT', 'speechCLI', 'speechPAT', 'noise', 'speechPAT', 'noise', 'speechPAT', 'speechOVE', 'speechCLI', 'speechOVE', 'speechPAT', 'speechOVE', 'speechCLI', 'speechPAT', 'speechCLI', 'speechPAT', 'noise', 'speechPAT', 'speechOVE', 'speechPAT', 'noise', 'speechPAT', 'noise', 'speechPAT', 'speechCLI', 'speechPAT', 'noise', 'speechPAT', 'speechCLI', 'speechPAT', 'speechOVE', 'speechCLI', 'noise', 'speechPAT', 'speechCLI', 'speechPAT', 'noise', 'speechPAT', 'noise', 'speechPAT', 'speechCLI', 'speechOVE', 'speechPAT', 'speechCLI', 'speechOVE', 'speechCLI', 'speechOVE', 'speechPAT', 'speechCLI', 'speechOVE', 'speechPAT', 'speechOVE', 'speechPAT', 'speechCLI', 'speechPAT', 'speechCLI', 'speechOVE', 'speechPAT', 'noise', 'speechPAT', 'noise', 'speechPAT', 'speechCLI', 'speechPAT', 'speechOVE', 'speechCLI', 'speechOVE', 'speechPAT', 'speechOVE', 'speechPAT', 'speechCLI', 'speechPAT', 'speechCLI', 'speechPAT', 'speechCLI', 'speechPAT', 'speechCLI', 'speechOVE', 'speechCLI', 'speechOVE', 'speechCLI', 'speechOVE', 'speechCLI', 'speechOVE', 'speechPAT', 'speechCLI', 'speechPAT', 'speechCLI', 'speechOVE', 'speechCLI', 'noise', 'speechCLI', 'speechOVE', 'speechCLI', 'speechOVE', 'speechCLI', 'speechOVE', 'speechCLI', 'noise', 'speechCLI', 'speechOVE', 'noise', 'speechCLI', 'speechOVE', 'speechPAT', 'speechCLI', 'speechPAT', 'speechOVE', 'speechPAT', 'speechCLI', 'noise', 'speechCLI', 'noise', 'speechPAT', 'speechCLI', 'speechOVE', 'speechCLI', 'speechOVE', 'speechCLI', 'speechCLI', 'speechPAT', 'speechOVE', 'speechCLI', 'speechOVE', 'speechCLI', 'noise', 'speechCLI', 'noise', 'speechCLI', 'speechOVE', 'speechCLI', 'noise', 'speechCLI', 'noise', 'speechCLI', 'speechPAT', 'speechCLI', 'speechOVE', 'speechCLI', 'speechPAT', 'speechCLI', 'speechOVE', 'speechCLI', 'speechOVE', 'speechCLI', 'speechOVE', 'speechCLI', 'speechOVE', 'speechCLI', 'speechOVE', 'speechCLI', 'speechOVE', 'speechCLI', 'noise', 'speechCLI', 'speechOVE', 'speechCLI', 'speechOVE', 'speechCLI', 'speechOVE', 'speechCLI', 'speechOVE', 'speechPAT', 'speechCLI', 'speechOVE', 'speechPAT', 'speechCLI', 'noise', 'speechPAT', 'speechOVE', 'speechPAT', 'speechCLI', 'speechOVE', 'speechCLI', 'speechOVE', 'speechCLI', 'speechOVE', 'speechCLI', 'speechOVE', 'speechCLI', 'speechOVE', 'speechPAT', 'speechCLI', 'speechOVE', 'speechPAT', 'speechCLI', 'speechOVE', 'speechPAT', 'noise', 'speechPAT', 'noise', 'speechCLI', 'speechOVE', 'speechCLI', 'speechPAT', 'speechCLI', 'speechOVE', 'speechCLI', 'noise', 'speechPAT', 'speechCLI', 'noise', 'speechCLI', 'noise', 'speechCLI', 'noise', 'speechCLI', 'noise', 'speechCLI', 'speechOVE', 'speechCLI', 'speechCLI', 'speechOVE', 'speechCLI', 'speechPAT', 'speechCLI', 'speechOVE', 'speechCLI', 'speechOVE', 'noise', 'speechCLI', 'speechPAT', 'speechCLI', 'noise', 'speechCLI', 'speechOVE', 'speechCLI', 'speechOVE', 'noise', 'speechCLI', 'speechOVE', 'speechCLI', 'speechOVE', 'speechCLI', 'speechOVE', 'speechCLI', 'noise', 'speechCLI', 'noise', 'speechCLI', 'noise', 'speechCLI', 'speechPAT', 'speechCLI', 'speechOVE', 'speechCLI', 'speechOVE', 'speechCLI', 'speechOVE', 'speechPAT', 'speechCLI', 'speechOVE', 'speechCLI', 'speechPAT', 'speechCLI', 'speechOVE', 'speechCLI', 'speechPAT', 'speechCLI', 'speechPAT', 'speechCLI', 'speechOVE', 'speechCLI', 'speechOVE', 'speechCLI', 'speechOVE', 'speechCLI', 'speechOVE', 'speechCLI', 'speechPAT', 'speechCLI', 'noise', 'speechCLI', 'speechOVE', 'speechCLI', 'speechOVE', 'speechPAT', 'speechCLI', 'speechOVE', 'speechCLI', 'speechOVE', 'speechPAT', 'speechOVE', 'speechPAT', 'speechOVE', 'speechPAT', 'speechCLI', 'speechPAT', 'speechOVE', 'speechPAT', 'speechCLI', 'speechOVE', 'speechPAT', 'speechCLI', 'speechOVE', 'speechCLI', 'speechOVE', 'speechCLI', 'speechOVE', 'speechCLI', 'speechPAT', 'speechCLI', 'speechPAT', 'speechOVE', 'speechPAT', 'speechOVE', 'speechPAT', 'speechCLI', 'speechOVE', 'speechPAT', 'speechCLI', 'speechOVE', 'speechCLI', 'speechPAT', 'speechCLI', 'speechPAT', 'speechCLI', 'speechOVE', 'speechCLI', 'speechPAT', 'speechCLI', 'speechPAT', 'speechCLI', 'speechOVE', 'speechPAT', 'speechCLI', 'speechOVE', 'speechCLI', 'speechOVE', 'speechCLI', 'speechOVE', 'speechCLI', 'speechOVE', 'speechPAT', 'speechCLI', 'speechOVE', 'speechCLI', 'speechOVE', 'speechCLI', 'speechOVE', 'speechPAT', 'speechCLI', 'speechOVE', 'speechPAT', 'speechCLI', 'speechPAT', 'speechCLI', 'speechOVE', 'speechCLI', 'speechOVE', 'speechCLI', 'speechOVE', 'speechCLI', 'speechOVE', 'speechCLI', 'speechPAT', 'speechCLI', 'speechPAT', 'speechCLI', 'speechPAT', 'speechCLI', 'speechPAT', 'speechCLI', 'noise', 'speechCLI', 'speechOVE', 'speechCLI', 'noise', 'speechPAT', 'speechCLI', 'speechPAT', 'speechCLI', 'speechPAT', 'speechCLI', 'speechOVE', 'speechCLI', 'speechOVE', 'speechCLI', 'speechPAT', 'speechOVE', 'speechCLI', 'speechPAT', 'speechOVE', 'speechCLI', 'speechPAT', 'speechCLI', 'speechPAT', 'speechOVE', 'speechPAT', 'speechCLI', 'speechPAT', 'speechCLI', 'speechOVE', 'speechCLI', 'speechOVE', 'speechPAT', 'speechOVE', 'speechCLI', 'noise', 'speechPAT', 'speechCLI', 'speechOVE', 'speechCLI', 'speechOVE', 'noise', 'speechCLI', 'speechOVE', 'speechCLI', 'speechOVE', 'speechPAT', 'speechCLI', 'speechPAT', 'speechCLI', 'speechPAT', 'speechOVE', 'speechCLI', 'noise', 'speechCLI', 'speechPAT', 'speechOVE', 'speechPAT', 'speechOVE', 'speechPAT', 'speechCLI', 'speechOVE', 'speechPAT', 'speechCLI', 'speechPAT', 'speechCLI', 'speechPAT', 'speechOVE', 'speechPAT', 'speechCLI', 'speechPAT', 'speechCLI', 'speechPAT', 'speechOVE', 'speechPAT', 'speechOVE', 'speechPAT', 'speechCLI', 'speechPAT', 'speechOVE', 'speechPAT', 'speechCLI', 'speechOVE', 'speechPAT', 'speechCLI', 'speechOVE', 'speechCLI', 'speechOVE', 'speechPAT', 'speechOVE', 'speechPAT', 'speechOVE', 'speechCLI', 'speechPAT', 'speechOVE', 'speechCLI', 'speechOVE', 'speechCLI', 'speechOVE', 'speechCLI', 'speechPAT', 'speechCLI', 'speechOVE', 'speechCLI', 'speechOVE', 'speechCLI', 'speechOVE', 'speechPAT', 'speechCLI', 'noise', 'speechPAT', 'speechCLI', 'speechPAT', 'speechCLI', 'noise', 'speechCLI', 'speechOVE', 'noise', 'speechCLI', 'speechPAT', 'speechCLI', 'noise', 'speechPAT', 'speechCLI', 'speechPAT', 'speechOVE', 'speechCLI', 'speechOVE', 'speechPAT', 'speechOVE', 'speechCLI', 'speechOVE', 'speechCLI', 'speechOVE', 'speechPAT', 'speechOVE', 'speechCLI', 'noise', 'speechPAT', 'speechOVE', 'speechPAT', 'speechOVE', 'speechCLI', 'speechOVE', 'speechCLI', 'speechOVE', 'speechCLI', 'speechOVE', 'speechCLI', 'speechPAT', 'speechCLI', 'speechOVE', 'speechCLI', 'speechOVE', 'speechCLI', 'speechOVE', 'speechCLI', 'speechPAT', 'speechCLI', 'speechOVE', 'speechCLI', 'speechOVE', 'speechCLI', 'speechOVE', 'speechCLI', 'speechOVE', 'speechPAT', 'speechOVE', 'speechPAT', 'speechOVE', 'speechPAT', 'speechOVE', 'speechPAT', 'speechCLI', 'speechOVE', 'speechCLI', 'speechOVE', 'speechCLI', 'speechOVE', 'speechPAT', 'speechCLI', 'speechPAT', 'speechCLI', 'noise', 'speechCLI', 'speechPAT', 'speechCLI', 'speechPAT', 'speechCLI', 'speechOVE', 'speechPAT', 'noise', 'speechCLI', 'noise', 'speechCLI', 'speechOVE', 'speechPAT', 'speechCLI', 'speechPAT', 'speechCLI', 'speechPAT', 'speechOVE', 'speechCLI', 'speechOVE', 'speechCLI', 'speechPAT', 'speechCLI', 'speechOVE', 'speechCLI', 'speechOVE', 'speechPAT', 'speechCLI', 'speechPAT', 'speechOVE', 'speechCLI', 'noise', 'speechCLI', 'noise', 'speechCLI', 'noise', 'speechCLI', 'noise', 'speechCLI', 'noise', 'speechPAT', 'speechCLI', 'noise', 'speechCLI', 'speechOVE', 'speechCLI', 'speechOVE', 'speechCLI', 'speechOVE', 'speechPAT', 'speechCLI', 'speechPAT', 'speechCLI', 'speechOVE', 'speechPAT', 'noise', 'speechCLI', 'noise', 'speechCLI', 'speechOVE', 'speechCLI', 'speechOVE', 'speechCLI', 'speechPAT', 'speechCLI', 'noise', 'speechCLI', 'speechPAT', 'speechCLI', 'speechPAT', 'speechCLI', 'speechOVE', 'speechCLI', 'speechOVE', 'speechPAT', 'speechOVE', 'speechCLI', 'speechOVE', 'speechCLI', 'speechOVE', 'noise', 'speechCLI', 'noise', 'speechCLI', 'noise', 'speechCLI', 'noise', 'speechCLI', 'noise', 'speechCLI', 'speechOVE', 'speechCLI', 'noise', 'speechCLI', 'noise', 'speechCLI', 'speechPAT', 'speechCLI', 'noise', 'speechPAT', 'speechCLI', 'speechPAT', 'speechOVE', 'speechCLI', 'noise']}\n"
          ]
        }
      ],
      "source": [
        "print(loaded_dataset[\"data\"][0])\n"
      ]
    },
    {
      "cell_type": "markdown",
      "metadata": {
        "id": "bFKWFeFpzyrC"
      },
      "source": [
        "As we can see, this dataset contains four features:\n",
        "\n",
        "    audio: Audio feature with audios samples at 16kHz.\n",
        "    speakers: The list of audio speakers, with their order of appearance.\n",
        "    timestamps_start: A list of timestamps indicating the start of each speaker segment.\n",
        "    timestamps_end: A list of timestamps indicating the end of each speaker segment.\n",
        "\n",
        "These are the features we want to have in our speaker diarisation dataset to make it compatible with diarizers. As for the callhome dataset, all the other speaker diarization datasets present in diarizers-community come with these features."
      ]
    },
    {
      "cell_type": "code",
      "execution_count": null,
      "metadata": {
        "id": "xTpsdFb6-DWD"
      },
      "outputs": [],
      "source": [
        "from IPython.display import Audio, display\n",
        "example = loaded_dataset[\"data\"][0]"
      ]
    },
    {
      "cell_type": "code",
      "execution_count": null,
      "metadata": {
        "id": "WAE34B19Ryt0"
      },
      "outputs": [],
      "source": [
        "print(display(Audio(example['audio']['array'], rate=example['audio']['sampling_rate'])))\n",
        "print('Speakers: ', example['speakers'])\n",
        "print('timestamps_start: ', example['timestamps_start'])\n",
        "print('timestamps_end: ', example['timestamps_end'])"
      ]
    },
    {
      "cell_type": "markdown",
      "metadata": {
        "id": "p44KsJJfz69O"
      },
      "source": [
        "Our dataset doesn't come with a predefined train-val-test split. Here, we use the train_test_split method from 🤗 Datasets to split it with 80-10-10 proportion:"
      ]
    },
    {
      "cell_type": "code",
      "execution_count": null,
      "metadata": {
        "id": "yujkbh4nM1CB"
      },
      "outputs": [],
      "source": [
        "from datasets import DatasetDict\n",
        "\n",
        "train_testvalid = loaded_dataset['data'].train_test_split(test_size=0.2, seed=0)\n",
        "test_valid = train_testvalid['test'].train_test_split(test_size=0.5, seed=0)\n",
        "\n",
        "dataset = DatasetDict({\n",
        "    'train': train_testvalid['train'],\n",
        "     'validation': test_valid['test'],\n",
        "     'test': test_valid['train']\n",
        " })"
      ]
    },
    {
      "cell_type": "code",
      "execution_count": null,
      "metadata": {
        "colab": {
          "base_uri": "https://localhost:8080/"
        },
        "id": "w-jRvNfH7SaI",
        "outputId": "9838a6e3-fcaf-413e-d98b-7f098339f3bd"
      },
      "outputs": [
        {
          "data": {
            "text/plain": [
              "DatasetDict({\n",
              "    train: Dataset({\n",
              "        features: ['audio', 'timestamps_start', 'timestamps_end', 'speakers'],\n",
              "        num_rows: 5\n",
              "    })\n",
              "    validation: Dataset({\n",
              "        features: ['audio', 'timestamps_start', 'timestamps_end', 'speakers'],\n",
              "        num_rows: 1\n",
              "    })\n",
              "    test: Dataset({\n",
              "        features: ['audio', 'timestamps_start', 'timestamps_end', 'speakers'],\n",
              "        num_rows: 1\n",
              "    })\n",
              "})"
            ]
          },
          "execution_count": 6,
          "metadata": {},
          "output_type": "execute_result"
        }
      ],
      "source": [
        "dataset"
      ]
    },
    {
      "cell_type": "markdown",
      "metadata": {
        "id": "0lvs1tjo0Cc1"
      },
      "source": [
        "##Load the pretrained model\n",
        "\n",
        "Let's load the pretrained segmentation-model model we want to fine-tune. We can load the pre-trained weights from the Hugging Face Hub using the .from_pretrained method. We will use its configuration to know how we should preprocess our dataset.\n"
      ]
    },
    {
      "cell_type": "code",
      "execution_count": null,
      "metadata": {
        "id": "PuSRglnO7F5D"
      },
      "outputs": [],
      "source": [
        "from pyannote.audio import Model"
      ]
    },
    {
      "cell_type": "code",
      "execution_count": null,
      "metadata": {
        "id": "NTI4IomU6LvD"
      },
      "outputs": [],
      "source": [
        "pretrained = Model.from_pretrained(\n",
        "  \"pyannote/segmentation-3.0\",\n",
        "  use_auth_token=True\n",
        ")"
      ]
    },
    {
      "cell_type": "markdown",
      "metadata": {
        "id": "tntUQud_0JBI"
      },
      "source": [
        "\n",
        "\n",
        "To fine-tune the pretrained segmentation model with the Hugging Face Trainer, we need to export it to the diarizers modelling class SegmentationModel. This class is a convenient wrapper around the pyannote segmentation model that enables compatibility with the Trainer by ensuring the correct input arguments and returning the expected output format.\n",
        "\n",
        "We can load pyannote's pretrained model weights, architecture and configuration into a SegmentationModel using the next line of code:\n"
      ]
    },
    {
      "cell_type": "code",
      "execution_count": null,
      "metadata": {
        "id": "0f94RIcv6VzY"
      },
      "outputs": [],
      "source": [
        "from diarizers import SegmentationModel\n",
        "\n",
        "model = SegmentationModel.from_pyannote_model(pretrained)"
      ]
    },
    {
      "cell_type": "markdown",
      "metadata": {
        "id": "_vBSOVbn0MX1"
      },
      "source": [
        "Let's visualise the configuration used by the pretrained model:"
      ]
    },
    {
      "cell_type": "code",
      "execution_count": null,
      "metadata": {
        "colab": {
          "base_uri": "https://localhost:8080/"
        },
        "id": "fJAwuCCQ7fDX",
        "outputId": "b611dbb0-813b-4c36-ad02-8dcf44f99123"
      },
      "outputs": [
        {
          "data": {
            "text/plain": [
              "SegmentationModelConfig {\n",
              "  \"chunk_duration\": 10.0,\n",
              "  \"max_speakers_per_chunk\": 3,\n",
              "  \"max_speakers_per_frame\": 2,\n",
              "  \"min_duration\": null,\n",
              "  \"model_type\": \"pyannet\",\n",
              "  \"sample_rate\": 16000,\n",
              "  \"transformers_version\": \"4.42.4\",\n",
              "  \"warm_up\": [\n",
              "    0.0,\n",
              "    0.0\n",
              "  ],\n",
              "  \"weigh_by_cardinality\": false\n",
              "}"
            ]
          },
          "execution_count": 10,
          "metadata": {},
          "output_type": "execute_result"
        }
      ],
      "source": [
        "model.config"
      ]
    },
    {
      "cell_type": "markdown",
      "metadata": {
        "id": "JGSPvRxf0SmP"
      },
      "source": [
        "Preprocess the dataset\n",
        "\n",
        "Now that we have the dataset and the pre-trained model we want to fine-tune our model on, we can pre-process the dataset to make it ready for training.\n",
        "\n",
        "For this, we use the Preprocess class from diarizers. We can instantiate a preprocessor by passing the model's config as input to Preprocess. The preprocessing is done so that:\n",
        "\n",
        "    the input to the models are audio chunks of length chunk_duration.\n",
        "    The segmentation labels to predict contain maximum max_speakers_per_chunk and max_speakers_per_frame speakers.\n",
        "\n"
      ]
    },
    {
      "cell_type": "code",
      "execution_count": null,
      "metadata": {
        "id": "Lh3_UHWZ7nNj"
      },
      "outputs": [],
      "source": [
        "from diarizers import Preprocess\n",
        "preprocessor = Preprocess(model.config)"
      ]
    },
    {
      "cell_type": "markdown",
      "metadata": {
        "id": "sr94jRKX0VCR"
      },
      "source": [
        "\n",
        "\n",
        "We can now pre-process the train and val splits of the dataset using the .map function from 🤗 Datasets.\n",
        "\n",
        "We can also specify whether we want to add overlap between successive audio chunks in each dataset. Here we will add 50% overlap (0.5) between successive examples in the train set and no overlap (0) in the val set:\n"
      ]
    },
    {
      "cell_type": "code",
      "execution_count": null,
      "metadata": {
        "colab": {
          "base_uri": "https://localhost:8080/",
          "height": 117,
          "referenced_widgets": [
            "063ce5eda4e54607b680dd326f60acec",
            "975a97313973420387832b935ec5e119",
            "9972b09a7b5848699a1880bbee25fe92",
            "25021a4176bb4850956afd3778d53567",
            "29e39c3fb7a4477a9c5b80ad53ae19bc",
            "cd70ff5108aa4bbf8c8e5d0c5cc402d9",
            "45b6db7eb7d541bb94786ad21e93d6bb",
            "a401d1bf00a44a268eb83c315ca86803",
            "84cf1d02748a48239b6e93b5634b43e0",
            "bb9402b5e4ff4c9d8578a9bea0b7bec5",
            "e0c6b0cda942449bb209972b7f981085",
            "ac58412c257f47058a021076a45afd2a",
            "ef9870cae960478393f9b42f555a1aab",
            "81576404b444434c9d233b7603347b37",
            "00f3b579170e4bd1b497f9f08b8049ea",
            "f396526fe77243c1bfd09ec00d992cc6",
            "8f4bd278f89243e88dabdec42b36b3a3",
            "24c9549a7d3649e6bb4fe4cb962e5dd4",
            "b42dfcf8a800467581814c8267a8c4a2",
            "f2c03420e92940dd93889e71d87da986",
            "7764c1193ee64e2caf7473835b6f4bc3",
            "59a24b848be74b87bb766bb18df9656b"
          ]
        },
        "id": "b8WeDH5qfCr8",
        "outputId": "bbbba9f7-42f6-4903-d960-965152125fc3"
      },
      "outputs": [
        {
          "data": {
            "application/vnd.jupyter.widget-view+json": {
              "model_id": "063ce5eda4e54607b680dd326f60acec",
              "version_major": 2,
              "version_minor": 0
            },
            "text/plain": [
              "Map (num_proc=2):   0%|          | 0/5 [00:00<?, ? examples/s]"
            ]
          },
          "metadata": {},
          "output_type": "display_data"
        },
        {
          "name": "stderr",
          "output_type": "stream",
          "text": [
            "num_proc must be <= 1. Reducing num_proc to 1 for dataset of size 1.\n",
            "WARNING:datasets.arrow_dataset:num_proc must be <= 1. Reducing num_proc to 1 for dataset of size 1.\n"
          ]
        },
        {
          "data": {
            "application/vnd.jupyter.widget-view+json": {
              "model_id": "ac58412c257f47058a021076a45afd2a",
              "version_major": 2,
              "version_minor": 0
            },
            "text/plain": [
              "Map:   0%|          | 0/1 [00:00<?, ? examples/s]"
            ]
          },
          "metadata": {},
          "output_type": "display_data"
        }
      ],
      "source": [
        "train_set = dataset['train'].map(\n",
        "    lambda file: preprocessor(file, random=False, overlap=0.5),\n",
        "    num_proc=2,\n",
        "    remove_columns=next(iter(dataset.values())).column_names,\n",
        "    batched=True,\n",
        "    batch_size=1\n",
        ").with_format(\"torch\")\n",
        "\n",
        "val_set = dataset['validation'].map(\n",
        "    lambda file: preprocessor(file, random=False, overlap=0.0),\n",
        "    num_proc=2,\n",
        "    remove_columns=next(iter(dataset.values())).column_names,\n",
        "    batched=True,\n",
        "    batch_size=1\n",
        ").with_format('torch')"
      ]
    },
    {
      "cell_type": "markdown",
      "metadata": {
        "id": "maFPre8o0cDU"
      },
      "source": [
        "\n",
        "\n",
        "The processed dataset contains 3 features:\n",
        "\n",
        "    waveforms: The input to the model - a tensor array containing 10s audio chunk, sampled at 16000 Hz.\n",
        "    labels: The target output of the model - a tensor with shape (num_frames,num_speakers)\n",
        "    nb_speakers: The speakers in the current chunk - a tensor with shape (0, nb_speakers).\n",
        "\n",
        "Let's listen to an example and visualize the corresponding labels:\n"
      ]
    },
    {
      "cell_type": "code",
      "execution_count": null,
      "metadata": {
        "colab": {
          "base_uri": "https://localhost:8080/",
          "height": 61
        },
        "id": "ia-mGEo6fN16",
        "outputId": "8ec9bd4f-d306-4b7d-910a-8b5406dba550"
      },
      "outputs": [
        {
          "data": {
            "text/html": [
              "\n",
              "                <audio  controls=\"controls\" >\n",
              "                    <source src=\"data:audio/wav;base64,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\" type=\"audio/wav\" />\n",
              "                    Your browser does not support the audio element.\n",
              "                </audio>\n",
              "              "
            ],
            "text/plain": [
              "<IPython.lib.display.Audio object>"
            ]
          },
          "metadata": {},
          "output_type": "display_data"
        }
      ],
      "source": [
        "from IPython.display import Audio, display\n",
        "\n",
        "example2 = train_set[5]\n",
        "\n",
        "display(Audio(example2['waveforms'], rate = 16000))"
      ]
    },
    {
      "cell_type": "code",
      "execution_count": null,
      "metadata": {
        "colab": {
          "base_uri": "https://localhost:8080/",
          "height": 465
        },
        "id": "-iUHxKM9fN-F",
        "outputId": "d2ef0db5-8471-47a8-8b31-6719349f7fa9"
      },
      "outputs": [
        {
          "data": {
            "image/png": "[encoded data removed]",
            "text/plain": [
              "<Figure size 1000x500 with 1 Axes>"
            ]
          },
          "metadata": {},
          "output_type": "display_data"
        }
      ],
      "source": [
        "import matplotlib.pyplot as plt\n",
        "\n",
        "def plot_segmentation_labels(example):\n",
        "\n",
        "  plt.figure(figsize = (10, 5))\n",
        "  plt.plot(example2['labels'][:,0], label= 'speaker1')\n",
        "  plt.plot(example2['labels'][:,1], label='speaker2')\n",
        "  plt.legend(bbox_to_anchor=(1.001, 1.001))\n",
        "  plt.xlabel('frame')\n",
        "  plt.ylabel(\"who's speaking\")\n",
        "  plt.title('Segmentation label', fontweight=\"bold\")\n",
        "  plt.show()\n",
        "\n",
        "plot_segmentation_labels(example2)"
      ]
    },
    {
      "cell_type": "markdown",
      "metadata": {
        "id": "vB_hTCDY0fSN"
      },
      "source": [
        "Prepare Training\n",
        "\n",
        "Once we have preprocessed the dataset, we can start preparing the training! this will include loading the proper DataCollator, metrics and TrainingArguments:\n"
      ]
    },
    {
      "cell_type": "markdown",
      "metadata": {
        "id": "AZYf2j0f0ir2"
      },
      "source": [
        "Load the DataCollator\n",
        "\n",
        "diarizers comes with a custom DataCollator adapted to the training of the segmentation model.\n",
        "\n",
        "After preprocessing, each audio-chunk can have a different numbers of speakers: as a consequence, the segmentation labels won't have the same shapes (num_frames, num_speakers).\n",
        "\n",
        "The DataCollator solves this issue by dynamically padding all target tensors to max_speakers_per_chunk during training. It can be loaded with the following line of code:\n"
      ]
    },
    {
      "cell_type": "code",
      "execution_count": null,
      "metadata": {
        "id": "XM8LWFzrfODT"
      },
      "outputs": [],
      "source": [
        "from diarizers import DataCollator\n",
        "\n",
        "data_collator = DataCollator(max_speakers_per_chunk=model.config.max_speakers_per_chunk)"
      ]
    },
    {
      "cell_type": "markdown",
      "metadata": {
        "id": "S6cvcAnO0psB"
      },
      "source": [
        "Load the evaluation metrics\n",
        "\n",
        "Next, we define the metrics used to evaluate the model during training: we will use the diarisation-error-rate (DER), which is the de-facto metric for evaluating speaker diarisation systems.\n",
        "\n",
        "We'll also compute the missed detection, false alarm and confusion rates, which are inherently used to calculate the DER. More information on speaker diarisation metrics can be found in the pyannote documentation doc.\n",
        "\n",
        "With diarizers, we can compute these metrics using the Metrics class:\n"
      ]
    },
    {
      "cell_type": "code",
      "execution_count": null,
      "metadata": {
        "colab": {
          "base_uri": "https://localhost:8080/"
        },
        "id": "3aD2E9lPfOIh",
        "outputId": "482d018d-c24f-4bc6-c33a-a426f5dde6ba"
      },
      "outputs": [
        {
          "data": {
            "text/plain": [
              "{'der': DiarizationErrorRate(),\n",
              " 'confusion': SpeakerConfusionRate(),\n",
              " 'missed_detection': MissedDetectionRate(),\n",
              " 'false_alarm': FalseAlarmRate()}"
            ]
          },
          "execution_count": 18,
          "metadata": {},
          "output_type": "execute_result"
        }
      ],
      "source": [
        "from diarizers import Metrics\n",
        "\n",
        "metrics = Metrics(model.specifications)\n",
        "metrics.metrics"
      ]
    },
    {
      "cell_type": "markdown",
      "metadata": {
        "id": "zrQ91Net0sTM"
      },
      "source": [
        "Define the training arguments\n",
        "\n",
        "In the final step before launching training, we define the TrainingArguments. Here, we will train the model for 5 epochs and a learning rate of 1e-3. We can play with these hyperparameters to improve the performances of the segmentation model.\n"
      ]
    },
    {
      "cell_type": "code",
      "execution_count": null,
      "metadata": {
        "id": "dPPaB1-rfONd"
      },
      "outputs": [],
      "source": [
        "from transformers import TrainingArguments\n",
        "\n",
        "training_args = TrainingArguments(\n",
        "    output_dir='./speaker-segmentation-fine-tuned-callhome-jpn',\n",
        "    save_strategy=\"epoch\",\n",
        "    learning_rate=1e-3,\n",
        "    num_train_epochs=25,\n",
        "    lr_scheduler_type=\"cosine\",\n",
        "    per_device_train_batch_size=32,\n",
        "    per_device_eval_batch_size=32,\n",
        "    evaluation_strategy=\"epoch\",\n",
        "    gradient_accumulation_steps=1,\n",
        "    dataloader_num_workers=2,\n",
        "    logging_steps=25,\n",
        "    load_best_model_at_end=True,\n",
        "    seed=42,\n",
        "    push_to_hub=False,\n",
        ")"
      ]
    },
    {
      "cell_type": "markdown",
      "metadata": {
        "id": "aVTYmk_20yPP"
      },
      "source": [
        "\n",
        "\n",
        "Note: if one does not want to upload the model checkpoints to the Hub, set push_to_hub=False.\n",
        "\n",
        "We can forward the training arguments to the 🤗 Trainer along with our model, dataset, data collator and metrics function:\n"
      ]
    },
    {
      "cell_type": "code",
      "execution_count": null,
      "metadata": {
        "id": "7vlBxErqfORV"
      },
      "outputs": [],
      "source": [
        "from transformers import Trainer\n",
        "\n",
        "trainer = Trainer(\n",
        "    model=model,\n",
        "    args=training_args,\n",
        "    train_dataset=train_set,\n",
        "    data_collator=data_collator,\n",
        "    eval_dataset=val_set,\n",
        "    compute_metrics=metrics,\n",
        ")"
      ]
    },
    {
      "cell_type": "markdown",
      "metadata": {
        "id": "n_DlTfAw03-x"
      },
      "source": [
        "Train\n",
        "\n",
        "We can now launch training!"
      ]
    },
    {
      "cell_type": "code",
      "execution_count": null,
      "metadata": {
        "colab": {
          "background_save": true,
          "base_uri": "https://localhost:8080/",
          "height": 180
        },
        "id": "Ll9Z2CkffOVQ",
        "outputId": "a87b4df9-5b70-40cc-b897-e5a7a8d729d0"
      },
      "outputs": [
        {
          "data": {
            "text/html": [
              "\n",
              "    <div>\n",
              "      \n",
              "      <progress value='6' max='6' style='width:300px; height:20px; vertical-align: middle;'></progress>\n",
              "      [6/6 00:01]\n",
              "    </div>\n",
              "    "
            ],
            "text/plain": [
              "<IPython.core.display.HTML object>"
            ]
          },
          "metadata": {},
          "output_type": "display_data"
        },
        {
          "data": {
            "text/plain": [
              "{'eval_loss': 1.6075913906097412,\n",
              " 'eval_der': 0.39605164527893066,\n",
              " 'eval_false_alarm': 0.04451531171798706,\n",
              " 'eval_missed_detection': 0.22130092978477478,\n",
              " 'eval_confusion': 0.13023538887500763,\n",
              " 'eval_runtime': 3.5654,\n",
              " 'eval_samples_per_second': 47.681,\n",
              " 'eval_steps_per_second': 1.683}"
            ]
          },
          "execution_count": 26,
          "metadata": {},
          "output_type": "execute_result"
        }
      ],
      "source": [
        "first_eval = trainer.evaluate()\n",
        "first_eval"
      ]
    },
    {
      "cell_type": "markdown",
      "metadata": {
        "id": "fjbgvzcY0_cj"
      },
      "source": [
        "To launch training, simply execute:\n"
      ]
    },
    {
      "cell_type": "code",
      "execution_count": null,
      "metadata": {
        "colab": {
          "background_save": true,
          "base_uri": "https://localhost:8080/",
          "height": 913
        },
        "id": "Oaz2A2RqhXLI",
        "outputId": "33fda761-50cd-4dde-ecdc-47ff229161c2"
      },
      "outputs": [
        {
          "name": "stderr",
          "output_type": "stream",
          "text": [
            "Could not estimate the number of tokens of the input, floating-point operations will not be computed\n"
          ]
        },
        {
          "data": {
            "text/html": [
              "\n",
              "    <div>\n",
              "      \n",
              "      <progress value='368' max='368' style='width:300px; height:20px; vertical-align: middle;'></progress>\n",
              "      [368/368 03:06, Epoch 8/8]\n",
              "    </div>\n",
              "    <table border=\"1\" class=\"dataframe\">\n",
              "  <thead>\n",
              " <tr style=\"text-align: left;\">\n",
              "      <th>Epoch</th>\n",
              "      <th>Training Loss</th>\n",
              "      <th>Validation Loss</th>\n",
              "      <th>Der</th>\n",
              "      <th>False Alarm</th>\n",
              "      <th>Missed Detection</th>\n",
              "      <th>Confusion</th>\n",
              "    </tr>\n",
              "  </thead>\n",
              "  <tbody>\n",
              "    <tr>\n",
              "      <td>1</td>\n",
              "      <td>0.935600</td>\n",
              "      <td>0.936853</td>\n",
              "      <td>0.306738</td>\n",
              "      <td>0.022526</td>\n",
              "      <td>0.009355</td>\n",
              "      <td>0.274857</td>\n",
              "    </tr>\n",
              "    <tr>\n",
              "      <td>2</td>\n",
              "      <td>0.596600</td>\n",
              "      <td>0.869837</td>\n",
              "      <td>0.288190</td>\n",
              "      <td>0.022344</td>\n",
              "      <td>0.009010</td>\n",
              "      <td>0.256836</td>\n",
              "    </tr>\n",
              "    <tr>\n",
              "      <td>3</td>\n",
              "      <td>0.536800</td>\n",
              "      <td>0.868457</td>\n",
              "      <td>0.278836</td>\n",
              "      <td>0.022526</td>\n",
              "      <td>0.008818</td>\n",
              "      <td>0.247492</td>\n",
              "    </tr>\n",
              "    <tr>\n",
              "      <td>4</td>\n",
              "      <td>0.489800</td>\n",
              "      <td>0.845157</td>\n",
              "      <td>0.266829</td>\n",
              "      <td>0.022526</td>\n",
              "      <td>0.008808</td>\n",
              "      <td>0.235495</td>\n",
              "    </tr>\n",
              "    <tr>\n",
              "      <td>5</td>\n",
              "      <td>0.481400</td>\n",
              "      <td>0.844850</td>\n",
              "      <td>0.265330</td>\n",
              "      <td>0.022526</td>\n",
              "      <td>0.008828</td>\n",
              "      <td>0.233976</td>\n",
              "    </tr>\n",
              "    <tr>\n",
              "      <td>6</td>\n",
              "      <td>0.472300</td>\n",
              "      <td>0.878623</td>\n",
              "      <td>0.268884</td>\n",
              "      <td>0.022526</td>\n",
              "      <td>0.008808</td>\n",
              "      <td>0.237550</td>\n",
              "    </tr>\n",
              "    <tr>\n",
              "      <td>7</td>\n",
              "      <td>0.459000</td>\n",
              "      <td>0.867987</td>\n",
              "      <td>0.266191</td>\n",
              "      <td>0.022526</td>\n",
              "      <td>0.008818</td>\n",
              "      <td>0.234847</td>\n",
              "    </tr>\n",
              "    <tr>\n",
              "      <td>8</td>\n",
              "      <td>0.471800</td>\n",
              "      <td>0.868346</td>\n",
              "      <td>0.266069</td>\n",
              "      <td>0.022526</td>\n",
              "      <td>0.008808</td>\n",
              "      <td>0.234736</td>\n",
              "    </tr>\n",
              "  </tbody>\n",
              "</table><p>"
            ],
            "text/plain": [
              "<IPython.core.display.HTML object>"
            ]
          },
          "metadata": {},
          "output_type": "display_data"
        },
        {
          "data": {
            "text/html": [
              "\n",
              "    <div>\n",
              "      \n",
              "      <progress value='12' max='6' style='width:300px; height:20px; vertical-align: middle;'></progress>\n",
              "      [6/6 00:55]\n",
              "    </div>\n",
              "    "
            ],
            "text/plain": [
              "<IPython.core.display.HTML object>"
            ]
          },
          "metadata": {},
          "output_type": "display_data"
        },
        {
          "data": {
            "text/plain": [
              "TrainOutput(global_step=368, training_loss=0.5427114211994669, metrics={'train_runtime': 189.8876, 'train_samples_per_second': 61.889, 'train_steps_per_second': 1.938, 'total_flos': 0.0, 'train_loss': 0.5427114211994669, 'epoch': 8.0})"
            ]
          },
          "execution_count": 27,
          "metadata": {},
          "output_type": "execute_result"
        }
      ],
      "source": [
        "trainer.train()"
      ]
    },
    {
      "cell_type": "markdown",
      "metadata": {
        "id": "15Tnr6wX1A4Z"
      },
      "source": [
        "\n",
        "\n",
        "Our best DER is 25% - not bad for 5min training! We also see that the false alarm, missed detection and confusion metrics also decrease substantially.\n",
        "\n",
        "We can make our model more accessible on the Hub with appropriate tags and README information. You can change these values to match your dataset, language and model name accordingly:\n"
      ]
    },
    {
      "cell_type": "code",
      "execution_count": null,
      "metadata": {
        "id": "bNdlggQVjYdo"
      },
      "outputs": [],
      "source": [
        "kwargs = {\n",
        "    \"dataset_tags\":'diarizers-community/callhome',\n",
        "    \"dataset_args\": \"config: jpn\",\n",
        "    \"language\": \"jpn\",\n",
        "    \"model_name\": \"speaker-segmentation-fine-tuned-callhome-jpn\",\n",
        "    \"finetuned_from\": \"pyannote/speaker-diarization-3.1\",\n",
        "    \"tasks\": \"speaker-diarization\",\n",
        "    \"tags\": ['speaker-diarization', 'speaker-segmentation']\n",
        "}"
      ]
    },
    {
      "cell_type": "markdown",
      "metadata": {
        "id": "RTpUWDBJ1NJX"
      },
      "source": [
        "The training results can now be uploaded to the Hub. In doing so, the fine-tuned model can easily be loaded by any member of the community. To do so, execute the push_to_hub command from the trainer:"
      ]
    },
    {
      "cell_type": "code",
      "execution_count": null,
      "metadata": {
        "colab": {
          "base_uri": "https://localhost:8080/",
          "height": 103,
          "referenced_widgets": [
            "5e860efa396946d988aad1be4408db3c",
            "4189a3fd31c14d64a222bc2503d9c4ac",
            "81cdad7f83e04f34a3e3a29033f8b7a7",
            "4c9d36c4077e4f68a693d5867735d4e2",
            "917e1e82d85c46f7822cc18695fb2a14",
            "fbbacfa262284ef7bf0d2ded2ba19b7f",
            "d5157012d1c94b61b63ff70f132290ea",
            "1451d99aa03f4e3cafc191c843b6a6fa",
            "c462240c6a0a43a9a33894ee9cb47787",
            "e88e6bff334e48e1bbed9eecb78d1129",
            "2e63025479ce4e40b23bb1098bd35f99"
          ]
        },
        "id": "jzG7rJSnjcTn",
        "outputId": "6d8e24f7-ebbd-42f5-8df9-28c6979f988a"
      },
      "outputs": [
        {
          "data": {
            "application/vnd.jupyter.widget-view+json": {
              "model_id": "5e860efa396946d988aad1be4408db3c",
              "version_major": 2,
              "version_minor": 0
            },
            "text/plain": [
              "events.out.tfevents.1724740108.3bc17f263cb5.5776.2:   0%|          | 0.00/26.4k [00:00<?, ?B/s]"
            ]
          },
          "metadata": {},
          "output_type": "display_data"
        },
        {
          "data": {
            "application/vnd.google.colaboratory.intrinsic+json": {
              "type": "string"
            },
            "text/plain": [
              "CommitInfo(commit_url='https://huggingface.co/jamil117/speaker-segmentation-fine-tuned-callhome-jpn/commit/0f7b94ef39a4cd50d6d2de503cd1ee6e49e378c3', commit_message='End of training', commit_description='', oid='0f7b94ef39a4cd50d6d2de503cd1ee6e49e378c3', pr_url=None, pr_revision=None, pr_num=None)"
            ]
          },
          "execution_count": 43,
          "metadata": {},
          "output_type": "execute_result"
        }
      ],
      "source": [
        "trainer.push_to_hub(**kwargs)"
      ]
    },
    {
      "cell_type": "markdown",
      "metadata": {
        "id": "hxRiXmZT1R3E"
      },
      "source": [
        "Test at inference time\n",
        "\n",
        "Now that we have our fine-tuned segmentation model, we can convert it to a pyannote format using the following line of code:\n"
      ]
    },
    {
      "cell_type": "code",
      "execution_count": null,
      "metadata": {
        "id": "K1Bs4f02pR4a"
      },
      "outputs": [],
      "source": [
        "model = model.to_pyannote_model()"
      ]
    },
    {
      "cell_type": "markdown",
      "metadata": {
        "id": "hxKKnPyI1WZB"
      },
      "source": [
        "\n",
        "\n",
        "...and evaluate the model at inference time, on full meeting recordings!\n",
        "\n",
        "For that, we can use the Test class from diarizers. Let's instanciate an object from this class: we'll need to specify the dataset we want to evaluate our model on (here the test set of callhome japanese), the segmentation model, as well as the step (in seconds) between successive on-the-fly generated audio chunks:\n"
      ]
    },
    {
      "cell_type": "code",
      "execution_count": null,
      "metadata": {
        "id": "ypPkVjPEfOcl"
      },
      "outputs": [],
      "source": [
        "from diarizers import Test\n",
        "test = Test(dataset['test'], model, step=2.5)"
      ]
    },
    {
      "cell_type": "code",
      "execution_count": null,
      "metadata": {
        "id": "EutUwVj7fOgi"
      },
      "outputs": [],
      "source": [
        "metrics = test.compute_metrics()\n",
        "metrics"
      ]
    },
    {
      "cell_type": "markdown",
      "metadata": {
        "id": "tgN54HuV1d5V"
      },
      "source": [
        "Use in a pyannote speaker diarization pipeline\n",
        "\n",
        "Finally, we can load the segmentation model into a pyannote speaker diarization pipeline:\n",
        "\n",
        "To do so, we load the pre-trained diarization pipeline, and subsequently override the segmentation model with our fine-tuned checkpoint:\n"
      ]
    },
    {
      "cell_type": "code",
      "execution_count": null,
      "metadata": {
        "id": "72xMLhrAfOsi"
      },
      "outputs": [],
      "source": [
        "import torch\n",
        "from pyannote.audio import Pipeline\n",
        "\n",
        "device = torch.device('cuda' if torch.cuda.is_available() else 'cpu')\n",
        "\n",
        "pipeline = Pipeline.from_pretrained(\"pyannote/speaker-diarization-3.1\")\n",
        "pipeline.to(device)\n",
        "pipeline._segmentation.model = model.to(device)"
      ]
    },
    {
      "cell_type": "markdown",
      "metadata": {
        "id": "ICpLZR4-1ob9"
      },
      "source": [
        "We can then run the speaker diarization pipeline on a full meeting example: we load an example from the test set, and preprocess it to be given as input to the diarization pipeline:"
      ]
    },
    {
      "cell_type": "code",
      "execution_count": null,
      "metadata": {
        "colab": {
          "base_uri": "https://localhost:8080/"
        },
        "id": "qyBKYDVrnXFm",
        "outputId": "4aa8ec50-970b-44b1-df19-3c43b5748d3a"
      },
      "outputs": [
        {
          "name": "stdout",
          "output_type": "stream",
          "text": [
            "Number of speaker talking in file:  4\n"
          ]
        }
      ],
      "source": [
        "example = dataset['test'][0]\n",
        "\n",
        "print(\"Number of speaker talking in file: \", len(set(example['speakers'])))\n",
        "\n",
        "sample = {}\n",
        "sample[\"waveform\"] = torch.from_numpy(example['audio'][\"array\"]).to(device, dtype=model.dtype).unsqueeze(0)\n",
        "sample[\"sample_rate\"] = example['audio']['sampling_rate']\n",
        "\n",
        "# perform inference\n",
        "diarization = pipeline(sample, num_speakers=5)"
      ]
    },
    {
      "cell_type": "code",
      "execution_count": null,
      "metadata": {
        "colab": {
          "base_uri": "https://localhost:8080/"
        },
        "id": "ycbmwSUAqAg2",
        "outputId": "2a1bec53-1ca5-47ef-a6ff-6e139983e57a"
      },
      "outputs": [
        {
          "name": "stdout",
          "output_type": "stream",
          "text": [
            "[['noise', 'speechCLI', 'noise', 'noise', 'speechCLI', 'noise', 'speechCLI', 'speechOVE', 'speechCLI', 'speechOVE', 'speechCLI', 'speechPAT', 'speechOVE', 'speechPAT', 'speechOVE', 'speechPAT', 'noise', 'speechPAT', 'speechOVE', 'speechCLI', 'speechOVE', 'speechPAT', 'noise', 'speechPAT', 'speechCLI', 'speechPAT', 'noise', 'speechPAT', 'noise', 'speechPAT', 'speechOVE', 'speechCLI', 'speechOVE', 'speechPAT', 'speechOVE', 'speechCLI', 'speechPAT', 'speechCLI', 'speechPAT', 'noise', 'speechPAT', 'speechOVE', 'speechPAT', 'noise', 'speechPAT', 'noise', 'speechPAT', 'speechCLI', 'speechPAT', 'noise', 'speechPAT', 'speechCLI', 'speechPAT', 'speechOVE', 'speechCLI', 'noise', 'speechPAT', 'speechCLI', 'speechPAT', 'noise', 'speechPAT', 'noise', 'speechPAT', 'speechCLI', 'speechOVE', 'speechPAT', 'speechCLI', 'speechOVE', 'speechCLI', 'speechOVE', 'speechPAT', 'speechCLI', 'speechOVE', 'speechPAT', 'speechOVE', 'speechPAT', 'speechCLI', 'speechPAT', 'speechCLI', 'speechOVE', 'speechPAT', 'noise', 'speechPAT', 'noise', 'speechPAT', 'speechCLI', 'speechPAT', 'speechOVE', 'speechCLI', 'speechOVE', 'speechPAT', 'speechOVE', 'speechPAT', 'speechCLI', 'speechPAT', 'speechCLI', 'speechPAT', 'speechCLI', 'speechPAT', 'speechCLI', 'speechOVE', 'speechCLI', 'speechOVE', 'speechCLI', 'speechOVE', 'speechCLI', 'speechOVE', 'speechPAT', 'speechCLI', 'speechPAT', 'speechCLI', 'speechOVE', 'speechCLI', 'noise', 'speechCLI', 'speechOVE', 'speechCLI', 'speechOVE', 'speechCLI', 'speechOVE', 'speechCLI', 'noise', 'speechCLI', 'speechOVE', 'noise', 'speechCLI', 'speechOVE', 'speechPAT', 'speechCLI', 'speechPAT', 'speechOVE', 'speechPAT', 'speechCLI', 'noise', 'speechCLI', 'noise', 'speechPAT', 'speechCLI', 'speechOVE', 'speechCLI', 'speechOVE', 'speechCLI', 'speechCLI', 'speechPAT', 'speechOVE', 'speechCLI', 'speechOVE', 'speechCLI', 'noise', 'speechCLI', 'noise', 'speechCLI', 'speechOVE', 'speechCLI', 'noise', 'speechCLI', 'noise', 'speechCLI', 'speechPAT', 'speechCLI', 'speechOVE', 'speechCLI', 'speechPAT', 'speechCLI', 'speechOVE', 'speechCLI', 'speechOVE', 'speechCLI', 'speechOVE', 'speechCLI', 'speechOVE', 'speechCLI', 'speechOVE', 'speechCLI', 'speechOVE', 'speechCLI', 'noise', 'speechCLI', 'speechOVE', 'speechCLI', 'speechOVE', 'speechCLI', 'speechOVE', 'speechCLI', 'speechOVE', 'speechPAT', 'speechCLI', 'speechOVE', 'speechPAT', 'speechCLI', 'noise', 'speechPAT', 'speechOVE', 'speechPAT', 'speechCLI', 'speechOVE', 'speechCLI', 'speechOVE', 'speechCLI', 'speechOVE', 'speechCLI', 'speechOVE', 'speechCLI', 'speechOVE', 'speechPAT', 'speechCLI', 'speechOVE', 'speechPAT', 'speechCLI', 'speechOVE', 'speechPAT', 'noise', 'speechPAT', 'noise', 'speechCLI', 'speechOVE', 'speechCLI', 'speechPAT', 'speechCLI', 'speechOVE', 'speechCLI', 'noise', 'speechPAT', 'speechCLI', 'noise', 'speechCLI', 'noise', 'speechCLI', 'noise', 'speechCLI', 'noise', 'speechCLI', 'speechOVE', 'speechCLI', 'speechCLI', 'speechOVE', 'speechCLI', 'speechPAT', 'speechCLI', 'speechOVE', 'speechCLI', 'speechOVE', 'noise', 'speechCLI', 'speechPAT', 'speechCLI', 'noise', 'speechCLI', 'speechOVE', 'speechCLI', 'speechOVE', 'noise', 'speechCLI', 'speechOVE', 'speechCLI', 'speechOVE', 'speechCLI', 'speechOVE', 'speechCLI', 'noise', 'speechCLI', 'noise', 'speechCLI', 'noise', 'speechCLI', 'speechPAT', 'speechCLI', 'speechOVE', 'speechCLI', 'speechOVE', 'speechCLI', 'speechOVE', 'speechPAT', 'speechCLI', 'speechOVE', 'speechCLI', 'speechPAT', 'speechCLI', 'speechOVE', 'speechCLI', 'speechPAT', 'speechCLI', 'speechPAT', 'speechCLI', 'speechOVE', 'speechCLI', 'speechOVE', 'speechCLI', 'speechOVE', 'speechCLI', 'speechOVE', 'speechCLI', 'speechPAT', 'speechCLI', 'noise', 'speechCLI', 'speechOVE', 'speechCLI', 'speechOVE', 'speechPAT', 'speechCLI', 'speechOVE', 'speechCLI', 'speechOVE', 'speechPAT', 'speechOVE', 'speechPAT', 'speechOVE', 'speechPAT', 'speechCLI', 'speechPAT', 'speechOVE', 'speechPAT', 'speechCLI', 'speechOVE', 'speechPAT', 'speechCLI', 'speechOVE', 'speechCLI', 'speechOVE', 'speechCLI', 'speechOVE', 'speechCLI', 'speechPAT', 'speechCLI', 'speechPAT', 'speechOVE', 'speechPAT', 'speechOVE', 'speechPAT', 'speechCLI', 'speechOVE', 'speechPAT', 'speechCLI', 'speechOVE', 'speechCLI', 'speechPAT', 'speechCLI', 'speechPAT', 'speechCLI', 'speechOVE', 'speechCLI', 'speechPAT', 'speechCLI', 'speechPAT', 'speechCLI', 'speechOVE', 'speechPAT', 'speechCLI', 'speechOVE', 'speechCLI', 'speechOVE', 'speechCLI', 'speechOVE', 'speechCLI', 'speechOVE', 'speechPAT', 'speechCLI', 'speechOVE', 'speechCLI', 'speechOVE', 'speechCLI', 'speechOVE', 'speechPAT', 'speechCLI', 'speechOVE', 'speechPAT', 'speechCLI', 'speechPAT', 'speechCLI', 'speechOVE', 'speechCLI', 'speechOVE', 'speechCLI', 'speechOVE', 'speechCLI', 'speechOVE', 'speechCLI', 'speechPAT', 'speechCLI', 'speechPAT', 'speechCLI', 'speechPAT', 'speechCLI', 'speechPAT', 'speechCLI', 'noise', 'speechCLI', 'speechOVE', 'speechCLI', 'noise', 'speechPAT', 'speechCLI', 'speechPAT', 'speechCLI', 'speechPAT', 'speechCLI', 'speechOVE', 'speechCLI', 'speechOVE', 'speechCLI', 'speechPAT', 'speechOVE', 'speechCLI', 'speechPAT', 'speechOVE', 'speechCLI', 'speechPAT', 'speechCLI', 'speechPAT', 'speechOVE', 'speechPAT', 'speechCLI', 'speechPAT', 'speechCLI', 'speechOVE', 'speechCLI', 'speechOVE', 'speechPAT', 'speechOVE', 'speechCLI', 'noise', 'speechPAT', 'speechCLI', 'speechOVE', 'speechCLI', 'speechOVE', 'noise', 'speechCLI', 'speechOVE', 'speechCLI', 'speechOVE', 'speechPAT', 'speechCLI', 'speechPAT', 'speechCLI', 'speechPAT', 'speechOVE', 'speechCLI', 'noise', 'speechCLI', 'speechPAT', 'speechOVE', 'speechPAT', 'speechOVE', 'speechPAT', 'speechCLI', 'speechOVE', 'speechPAT', 'speechCLI', 'speechPAT', 'speechCLI', 'speechPAT', 'speechOVE', 'speechPAT', 'speechCLI', 'speechPAT', 'speechCLI', 'speechPAT', 'speechOVE', 'speechPAT', 'speechOVE', 'speechPAT', 'speechCLI', 'speechPAT', 'speechOVE', 'speechPAT', 'speechCLI', 'speechOVE', 'speechPAT', 'speechCLI', 'speechOVE', 'speechCLI', 'speechOVE', 'speechPAT', 'speechOVE', 'speechPAT', 'speechOVE', 'speechCLI', 'speechPAT', 'speechOVE', 'speechCLI', 'speechOVE', 'speechCLI', 'speechOVE', 'speechCLI', 'speechPAT', 'speechCLI', 'speechOVE', 'speechCLI', 'speechOVE', 'speechCLI', 'speechOVE', 'speechPAT', 'speechCLI', 'noise', 'speechPAT', 'speechCLI', 'speechPAT', 'speechCLI', 'noise', 'speechCLI', 'speechOVE', 'noise', 'speechCLI', 'speechPAT', 'speechCLI', 'noise', 'speechPAT', 'speechCLI', 'speechPAT', 'speechOVE', 'speechCLI', 'speechOVE', 'speechPAT', 'speechOVE', 'speechCLI', 'speechOVE', 'speechCLI', 'speechOVE', 'speechPAT', 'speechOVE', 'speechCLI', 'noise', 'speechPAT', 'speechOVE', 'speechPAT', 'speechOVE', 'speechCLI', 'speechOVE', 'speechCLI', 'speechOVE', 'speechCLI', 'speechOVE', 'speechCLI', 'speechPAT', 'speechCLI', 'speechOVE', 'speechCLI', 'speechOVE', 'speechCLI', 'speechOVE', 'speechCLI', 'speechPAT', 'speechCLI', 'speechOVE', 'speechCLI', 'speechOVE', 'speechCLI', 'speechOVE', 'speechCLI', 'speechOVE', 'speechPAT', 'speechOVE', 'speechPAT', 'speechOVE', 'speechPAT', 'speechOVE', 'speechPAT', 'speechCLI', 'speechOVE', 'speechCLI', 'speechOVE', 'speechCLI', 'speechOVE', 'speechPAT', 'speechCLI', 'speechPAT', 'speechCLI', 'noise', 'speechCLI', 'speechPAT', 'speechCLI', 'speechPAT', 'speechCLI', 'speechOVE', 'speechPAT', 'noise', 'speechCLI', 'noise', 'speechCLI', 'speechOVE', 'speechPAT', 'speechCLI', 'speechPAT', 'speechCLI', 'speechPAT', 'speechOVE', 'speechCLI', 'speechOVE', 'speechCLI', 'speechPAT', 'speechCLI', 'speechOVE', 'speechCLI', 'speechOVE', 'speechPAT', 'speechCLI', 'speechPAT', 'speechOVE', 'speechCLI', 'noise', 'speechCLI', 'noise', 'speechCLI', 'noise', 'speechCLI', 'noise', 'speechCLI', 'noise', 'speechPAT', 'speechCLI', 'noise', 'speechCLI', 'speechOVE', 'speechCLI', 'speechOVE', 'speechCLI', 'speechOVE', 'speechPAT', 'speechCLI', 'speechPAT', 'speechCLI', 'speechOVE', 'speechPAT', 'noise', 'speechCLI', 'noise', 'speechCLI', 'speechOVE', 'speechCLI', 'speechOVE', 'speechCLI', 'speechPAT', 'speechCLI', 'noise', 'speechCLI', 'speechPAT', 'speechCLI', 'speechPAT', 'speechCLI', 'speechOVE', 'speechCLI', 'speechOVE', 'speechPAT', 'speechOVE', 'speechCLI', 'speechOVE', 'speechCLI', 'speechOVE', 'noise', 'speechCLI', 'noise', 'speechCLI', 'noise', 'speechCLI', 'noise', 'speechCLI', 'noise', 'speechCLI', 'speechOVE', 'speechCLI', 'noise', 'speechCLI', 'noise', 'speechCLI', 'speechPAT', 'speechCLI', 'noise', 'speechPAT', 'speechCLI', 'speechPAT', 'speechOVE', 'speechCLI', 'noise'], ['noise', 'speechPAT', 'speechCLI', 'noise', 'speechCLI', 'speechPAT', 'speechCLI', 'speechPAT', 'speechOVE', 'speechPAT', 'speechCLI', 'speechPAT', 'speechOVE', 'speechPAT', 'speechCLI', 'speechPAT', 'speechCLI', 'speechPAT', 'speechCLI', 'speechPAT', 'speechCLI', 'speechPAT', 'speechCLI', 'speechPAT', 'speechCLI', 'speechPAT', 'speechCLI', 'speechPAT', 'speechOVE', 'speechCLI', 'speechPAT', 'speechCLI', 'speechPAT', 'speechOVE', 'speechPAT', 'speechOVE', 'speechPAT', 'speechOVE', 'speechCLI', 'speechOVE', 'speechPAT', 'speechCLI', 'speechOVE', 'speechPAT', 'speechCLI', 'speechPAT', 'speechOVE', 'speechCLI', 'speechPAT', 'speechCLI', 'speechPAT', 'speechCLI', 'speechOVE', 'speechPAT', 'speechCLI', 'speechPAT', 'speechCLI', 'speechPAT', 'speechCLI', 'speechPAT', 'speechCLI', 'speechOVE', 'speechCLI', 'speechPAT', 'speechCLI', 'speechPAT', 'speechCLI', 'speechPAT', 'speechCLI', 'speechPAT', 'speechOVE', 'speechPAT', 'speechCLI', 'speechPAT', 'speechCLI', 'speechPAT', 'speechCLI', 'speechPAT', 'speechOVE', 'speechPAT', 'speechOVE', 'speechPAT', 'speechCLI', 'speechOVE', 'speechCLI', 'speechOVE', 'speechCLI', 'speechPAT', 'speechCLI', 'speechPAT', 'speechOVE', 'speechCLI', 'speechPAT', 'speechOVE', 'noise', 'speechOVE', 'speechCLI', 'speechOVE', 'speechPAT', 'speechOVE', 'speechPAT', 'speechCLI', 'noise', 'speechPAT', 'speechCLI', 'noise', 'speechCLI', 'noise', 'speechCLI', 'speechPAT', 'speechCLI', 'speechPAT', 'speechCLI', 'noise', 'speechCLI', 'noise', 'speechCLI', 'speechPAT', 'speechCLI', 'speechPAT', 'speechCLI', 'speechPAT', 'speechOVE', 'speechPAT', 'speechCLI', 'speechPAT', 'speechCLI', 'speechOVE', 'speechCLI', 'speechOVE', 'noise', 'speechCLI', 'noise', 'speechPAT', 'speechCLI', 'speechPAT', 'speechOVE', 'speechPAT', 'speechOVE', 'speechPAT', 'speechCLI', 'speechPAT', 'speechOVE', 'noise', 'speechCLI', 'speechOVE', 'speechCLI', 'speechPAT', 'speechCLI', 'speechPAT', 'speechOVE', 'speechPAT', 'speechOVE', 'speechPAT', 'speechCLI', 'speechPAT', 'speechCLI', 'speechOVE', 'speechCLI', 'speechOVE', 'speechPAT', 'speechCLI', 'speechPAT', 'speechCLI', 'speechPAT', 'speechCLI', 'speechOVE', 'speechCLI', 'speechPAT', 'speechCLI', 'speechPAT', 'speechCLI', 'noise', 'speechPAT', 'speechCLI', 'speechOVE', 'speechCLI', 'speechOVE', 'speechPAT', 'speechCLI', 'noise', 'speechCLI', 'noise', 'speechCLI', 'speechPAT', 'speechCLI', 'speechPAT', 'speechCLI', 'speechOVE', 'speechCLI', 'speechPAT', 'speechCLI', 'speechPAT', 'speechCLI', 'speechPAT', 'speechCLI', 'speechPAT', 'speechOVE', 'speechPAT', 'speechCLI', 'speechPAT', 'speechCLI', 'speechPAT', 'speechCLI', 'speechPAT', 'speechCLI', 'speechPAT', 'speechCLI', 'speechOVE', 'speechCLI', 'speechOVE', 'speechPAT', 'speechCLI', 'speechPAT', 'speechCLI', 'speechPAT', 'speechCLI', 'speechPAT', 'speechCLI', 'speechPAT', 'speechOVE', 'speechPAT', 'speechOVE', 'speechCLI', 'speechPAT', 'speechCLI', 'speechPAT', 'speechCLI', 'speechPAT', 'speechCLI', 'speechOVE', 'noise'], ['noise', 'speechCLI', 'speechOVE', 'speechCLI', 'speechPAT', 'speechCLI', 'speechPAT', 'speechOVE', 'speechPAT', 'speechCLI', 'speechPAT', 'noise', 'speechPAT', 'noise', 'speechCLI', 'speechPAT', 'noise', 'speechPAT', 'speechCLI', 'noise', 'speechPAT', 'noise', 'speechCLI', 'noise', 'speechPAT', 'speechOVE', 'noise', 'speechCLI', 'noise', 'speechCLI', 'speechPAT', 'speechCLI', 'speechOVE', 'speechCLI', 'speechOVE', 'speechCLI', 'speechOVE', 'speechCLI', 'noise', 'speechPAT', 'speechOVE', 'speechPAT', 'speechCLI', 'speechOVE', 'speechPAT', 'noise', 'speechCLI', 'speechPAT', 'speechCLI', 'noise', 'speechCLI', 'noise', 'speechCLI', 'speechPAT', 'speechOVE', 'speechCLI', 'noise', 'speechCLI', 'speechPAT', 'noise', 'speechCLI', 'speechPAT', 'speechCLI', 'noise', 'speechCLI', 'speechOVE', 'speechCLI', 'speechPAT', 'noise', 'speechCLI', 'noise', 'speechCLI', 'speechPAT', 'speechOVE', 'speechCLI', 'speechOVE', 'speechCLI', 'speechPAT', 'speechCLI', 'speechPAT', 'speechCLI', 'noise', 'speechCLI', 'speechOVE', 'speechPAT', 'speechCLI', 'speechOVE', 'speechPAT', 'noise', 'speechCLI', 'speechPAT', 'speechCLI', 'noise', 'speechCLI', 'noise', 'speechPAT', 'noise', 'speechPAT', 'noise', 'speechCLI', 'speechPAT', 'speechOVE', 'speechOVE', 'speechCLI', 'noise', 'speechCLI', 'speechOVE', 'speechCLI', 'speechOVE', 'speechCLI', 'noise', 'speechCLI', 'speechOVE', 'speechPAT', 'speechCLI', 'speechOVE', 'speechPAT', 'noise', 'speechCLI', 'noise', 'speechCLI', 'noise', 'speechCLI', 'speechPAT', 'noise', 'speechCLI', 'speechOVE', 'noise', 'speechCLI', 'speechOVE', 'speechPAT', 'noise', 'speechCLI', 'speechPAT', 'speechOVE', 'speechPAT', 'noise', 'speechPAT', 'speechCLI', 'speechPAT', 'speechCLI', 'speechOVE', 'speechPAT', 'noise', 'speechPAT', 'noise', 'speechPAT', 'speechOVE', 'speechPAT', 'speechCLI', 'speechOVE', 'speechCLI', 'speechPAT', 'speechOVE', 'speechCLI', 'noise', 'speechCLI', 'noise', 'speechPAT', 'noise', 'speechCLI', 'speechPAT', 'speechCLI', 'noise', 'speechPAT', 'speechCLI', 'speechPAT', 'speechCLI', 'speechOVE', 'speechPAT', 'speechCLI', 'noise', 'speechCLI', 'noise', 'speechCLI', 'noise', 'speechPAT', 'noise', 'speechPAT', 'speechCLI', 'noise', 'speechCLI', 'speechPAT', 'noise', 'speechPAT', 'speechCLI', 'noise', 'speechCLI', 'noise', 'speechCLI', 'noise', 'speechPAT', 'noise', 'speechCLI', 'speechPAT', 'noise', 'speechCLI', 'noise', 'speechCLI', 'noise', 'speechCLI', 'speechPAT', 'speechOVE', 'speechCLI', 'speechOVE', 'speechCLI', 'speechOVE', 'noise', 'speechCLI', 'noise', 'speechCLI', 'speechPAT', 'speechOVE', 'speechPAT', 'speechOVE', 'noise', 'speechCLI', 'speechPAT', 'speechCLI', 'speechPAT', 'speechCLI', 'speechPAT', 'noise', 'speechCLI', 'speechPAT', 'speechCLI', 'noise', 'speechCLI', 'speechPAT', 'noise', 'speechPAT', 'noise', 'speechPAT', 'noise', 'speechCLI', 'noise', 'speechCLI', 'noise', 'speechCLI', 'noise', 'speechCLI', 'noise', 'speechCLI', 'noise', 'speechCLI', 'noise', 'speechCLI', 'noise', 'speechCLI', 'noise', 'speechCLI', 'noise', 'speechCLI', 'noise', 'speechCLI', 'speechOVE', 'noise', 'speechCLI', 'noise', 'speechPAT', 'speechCLI', 'noise', 'speechCLI', 'noise', 'speechPAT', 'noise', 'speechPAT', 'noise', 'speechPAT', 'speechCLI', 'speechPAT', 'speechOVE', 'noise', 'speechOVE', 'speechCLI', 'speechPAT', 'speechCLI', 'noise', 'speechCLI', 'speechPAT', 'speechCLI', 'noise', 'speechCLI', 'noise', 'speechCLI', 'speechOVE', 'speechCLI', 'noise', 'speechCLI', 'noise', 'speechCLI', 'speechOVE', 'speechCLI', 'noise', 'speechCLI', 'speechPAT', 'speechCLI', 'speechPAT', 'speechOVE', 'speechPAT', 'speechCLI', 'speechCLI', 'speechPAT', 'noise', 'speechPAT', 'speechCLI', 'noise', 'speechPAT', 'noise', 'speechPAT', 'noise', 'speechPAT', 'speechCLI', 'noise', 'speechPAT', 'noise', 'speechPAT', 'noise', 'speechOVE', 'speechPAT', 'noise', 'speechCLI', 'speechOVE', 'noise', 'speechCLI', 'noise', 'speechPAT', 'speechCLI', 'speechPAT', 'speechCLI', 'noise', 'speechPAT', 'speechCLI', 'speechPAT', 'noise', 'speechPAT', 'speechCLI', 'speechPAT', 'speechCLI', 'noise', 'speechPAT', 'noise', 'speechCLI', 'speechPAT', 'noise', 'speechPAT', 'speechOVE', 'speechPAT', 'noise', 'speechPAT', 'noise', 'speechPAT', 'noise', 'speechPAT', 'speechCLI', 'speechPAT', 'speechCLI', 'speechOVE', 'speechPAT', 'speechOVE', 'speechPAT', 'noise', 'speechPAT', 'speechCLI', 'speechOVE', 'speechCLI', 'speechPAT', 'noise', 'speechPAT', 'noise', 'speechPAT', 'noise', 'speechPAT', 'noise', 'speechCLI', 'noise', 'speechPAT', 'speechCLI', 'noise', 'speechCLI', 'noise', 'speechCLI', 'noise', 'speechCLI', 'speechPAT', 'noise', 'speechCLI', 'noise', 'speechCLI', 'noise', 'speechCLI', 'speechOVE', 'speechCLI', 'speechPAT', 'speechCLI', 'speechPAT', 'noise', 'speechPAT', 'speechCLI', 'noise', 'speechCLI', 'noise', 'speechCLI', 'speechPAT', 'speechCLI', 'noise', 'speechCLI', 'speechOVE', 'speechPAT', 'speechCLI', 'noise', 'speechCLI', 'speechPAT', 'noise', 'speechPAT', 'noise', 'speechPAT', 'speechCLI', 'noise', 'speechCLI', 'noise', 'speechPAT', 'noise', 'speechCLI', 'speechOVE', 'speechPAT', 'speechCLI', 'noise', 'speechOVE', 'speechCLI', 'speechPAT', 'noise', 'speechOVE', 'speechPAT', 'speechCLI', 'noise', 'speechCLI', 'speechOVE', 'speechPAT', 'noise', 'speechCLI', 'speechPAT', 'speechPAT', 'speechPAT', 'speechCLI', 'speechPAT', 'speechCLI', 'noise', 'speechCLI', 'speechOVE', 'speechPAT', 'noise', 'speechPAT', 'noise', 'speechPAT', 'noise', 'speechPAT', 'speechCLI', 'noise', 'speechPAT', 'noise', 'speechPAT', 'noise', 'speechPAT', 'noise', 'speechPAT', 'noise', 'speechPAT', 'noise', 'speechOVE', 'speechCLI', 'speechPAT', 'speechCLI', 'speechCLI', 'speechPAT', 'speechOVE', 'noise', 'speechCLI', 'speechPAT', 'speechCLI', 'speechOVE', 'noise', 'speechCLI', 'speechPAT', 'speechCLI', 'noise', 'speechPAT', 'speechOVE', 'noise', 'speechPAT', 'speechCLI', 'noise', 'speechPAT', 'speechCLI', 'noise', 'speechCLI', 'speechOVE', 'speechCLI', 'noise', 'speechPAT', 'speechCLI', 'noise', 'speechCLI', 'speechPAT', 'noise', 'speechCLI', 'noise', 'speechCLI', 'speechPAT', 'speechCLI', 'noise', 'speechCLI', 'noise', 'speechPAT', 'speechCLI', 'speechPAT', 'speechCLI', 'noise', 'speechCLI', 'noise', 'speechCLI', 'noise', 'speechCLI', 'noise', 'speechCLI', 'noise', 'speechCLI', 'noise', 'speechCLI', 'noise', 'speechCLI', 'speechPAT', 'speechCLI', 'speechPAT', 'noise', 'speechCLI', 'noise', 'speechCLI', 'noise', 'speechCLI', 'speechPAT', 'speechCLI', 'noise', 'speechCLI', 'noise', 'speechCLI', 'speechPAT', 'noise', 'speechPAT', 'noise', 'speechCLI', 'noise', 'speechCLI', 'noise', 'speechCLI', 'noise', 'speechCLI', 'noise', 'speechPAT', 'noise', 'speechCLI', 'speechPAT', 'noise', 'speechCLI', 'noise', 'speechCLI', 'noise', 'speechCLI', 'speechOVE', 'speechCLI', 'speechPAT', 'noise', 'speechCLI', 'speechPAT', 'speechCLI', 'speechOVE', 'noise', 'speechCLI', 'noise', 'speechCLI', 'speechPAT', 'speechCLI', 'noise', 'speechCLI', 'noise', 'speechCLI', 'speechPAT', 'noise', 'speechPAT', 'speechCLI', 'noise', 'speechOVE', 'speechCLI', 'noise', 'speechPAT', 'speechCLI', 'speechPAT', 'noise', 'speechPAT', 'noise', 'speechPAT', 'noise', 'speechPAT', 'speechCLI', 'noise', 'speechPAT', 'noise', 'speechPAT', 'speechCLI', 'noise', 'speechCLI', 'noise', 'speechPAT', 'noise', 'speechPAT', 'noise', 'speechPAT', 'speechCLI', 'speechPAT', 'speechCLI', 'noise', 'speechPAT', 'speechOVE', 'speechPAT', 'speechOVE', 'speechCLI', 'speechPAT', 'noise', 'speechPAT', 'noise', 'speechPAT', 'noise', 'speechPAT', 'noise', 'speechPAT', 'noise', 'speechCLI', 'speechOVE', 'speechCLI', 'speechOVE', 'speechPAT', 'noise', 'speechPAT', 'noise', 'speechPAT', 'noise', 'speechPAT', 'noise', 'speechPAT', 'noise', 'speechPAT', 'noise', 'speechCLI', 'noise', 'speechPAT', 'noise', 'speechPAT', 'noise', 'speechPAT', 'noise', 'speechPAT', 'noise', 'speechPAT', 'noise', 'speechPAT', 'speechCLI', 'speechPAT', 'noise', 'speechPAT', 'speechCLI', 'noise', 'speechPAT', 'noise', 'speechPAT', 'noise', 'speechPAT', 'noise', 'speechCLI', 'noise', 'speechPAT', 'noise', 'speechCLI', 'noise', 'speechPAT', 'noise', 'speechCLI', 'noise', 'speechCLI', 'noise', 'speechCLI', 'noise', 'speechPAT', 'speechCLI', 'speechPAT', 'speechOVE', 'noise', 'speechCLI', 'speechPAT', 'noise', 'speechPAT', 'speechCLI', 'speechPAT', 'noise', 'speechPAT', 'noise', 'speechPAT', 'noise', 'speechCLI', 'noise', 'speechCLI', 'noise', 'speechCLI', 'noise', 'speechCLI', 'noise', 'speechCLI', 'speechOVE', 'speechCLI', 'speechOVE', 'speechCLI', 'noise', 'speechCLI', 'noise', 'speechCLI', 'speechPAT', 'noise', 'speechCLI', 'noise', 'speechCLI', 'noise', 'speechPAT', 'speechCLI', 'noise', 'speechCLI', 'speechOVE', 'noise', 'speechPAT', 'speechCLI', 'noise', 'speechPAT', 'speechCLI', 'noise', 'speechPAT', 'speechOVE', 'noise', 'speechPAT', 'speechCLI', 'speechPAT', 'noise', 'speechPAT', 'noise', 'speechCLI', 'noise', 'speechCLI', 'speechPAT', 'noise', 'speechPAT', 'noise', 'speechPAT', 'speechCLI', 'noise', 'speechPAT', 'speechOVE', 'speechPAT', 'speechCLI', 'speechPAT', 'speechOVE', 'speechPAT', 'speechCLI', 'speechOVE', 'speechPAT', 'noise', 'speechCLI', 'noise', 'speechPAT', 'noise', 'speechPAT', 'speechCLI', 'noise', 'speechCLI', 'noise', 'speechCLI', 'noise', 'speechCLI', 'speechOVE', 'speechPAT', 'speechCLI', 'noise', 'speechPAT', 'noise', 'speechCLI', 'noise', 'speechPAT', 'speechCLI', 'speechPAT', 'noise', 'speechPAT', 'speechCLI', 'noise', 'speechCLI', 'noise', 'speechCLI', 'noise', 'speechPAT', 'speechCLI', 'noise', 'speechCLI', 'noise', 'speechCLI', 'speechPAT', 'speechCLI', 'noise', 'speechCLI', 'speechOVE', 'noise', 'noise', 'speechPAT', 'noise', 'speechPAT', 'noise', 'speechCLI', 'speechPAT', 'noise', 'speechPAT', 'speechCLI', 'speechPAT', 'noise', 'speechPAT', 'noise', 'speechOVE', 'speechCLI', 'speechPAT', 'speechOVE', 'speechPAT', 'noise', 'speechCLI', 'noise', 'speechCLI', 'speechOVE', 'noise', 'speechCLI', 'noise', 'speechOVE', 'speechPAT', 'speechOVE', 'speechPAT', 'speechCLI', 'noise', 'speechPAT', 'noise', 'speechPAT', 'speechCLI', 'speechPAT', 'noise', 'speechPAT', 'noise', 'speechPAT', 'noise', 'speechPAT', 'noise', 'speechPAT', 'noise', 'speechPAT', 'noise', 'speechCLI', 'noise', 'speechCLI', 'noise', 'speechCLI', 'noise', 'speechPAT', 'speechCLI', 'speechPAT', 'noise', 'speechPAT', 'speechOVE', 'speechPAT', 'speechCLI', 'noise', 'speechPAT', 'speechOVE', 'speechCLI', 'speechOVE', 'noise', 'speechCLI', 'noise', 'speechCLI', 'speechPAT', 'speechOVE', 'speechCLI', 'noise', 'speechCLI', 'speechPAT', 'speechCLI', 'speechOVE', 'speechPAT', 'noise', 'speechCLI', 'noise', 'speechCLI', 'speechOVE', 'noise', 'speechCLI', 'noise', 'speechCLI', 'noise', 'speechCLI', 'noise', 'speechCLI', 'noise', 'speechCLI', 'noise', 'speechCLI', 'noise', 'speechPAT', 'speechCLI', 'speechOVE', 'noise', 'speechOVE', 'speechCLI', 'speechOVE', 'noise', 'speechCLI', 'speechPAT', 'speechCLI', 'speechPAT', 'noise', 'speechCLI', 'noise', 'speechCLI', 'noise', 'speechCLI', 'noise', 'speechCLI', 'speechOVE', 'speechPAT', 'noise', 'speechCLI', 'speechPAT', 'speechCLI', 'noise', 'speechCLI', 'noise', 'speechCLI', 'noise', 'speechPAT', 'speechCLI', 'noise', 'speechCLI', 'noise', 'speechCLI', 'noise', 'speechPAT', 'noise', 'speechCLI', 'speechOVE', 'speechPAT', 'noise', 'speechCLI', 'noise', 'speechCLI', 'speechPAT', 'noise', 'speechCLI', 'speechPAT', 'noise', 'speechCLI', 'noise', 'speechCLI', 'speechPAT', 'noise', 'speechPAT', 'noise', 'speechCLI', 'noise', 'speechCLI', 'speechOVE', 'speechCLI', 'noise', 'speechCLI', 'speechPAT', 'noise', 'speechCLI', 'noise', 'speechPAT', 'noise', 'speechCLI', 'speechPAT', 'noise', 'speechCLI', 'speechPAT', 'speechCLI', 'noise', 'speechCLI', 'speechCLI', 'noise', 'speechCLI', 'speechPAT', 'noise', 'speechCLI', 'noise', 'speechPAT', 'speechCLI', 'noise', 'speechPAT', 'noise', 'speechCLI', 'noise', 'speechCLI', 'speechPAT', 'speechCLI', 'noise', 'speechPAT', 'speechCLI', 'speechOVE', 'noise', 'speechCLI', 'noise', 'speechPAT', 'noise', 'speechPAT', 'speechCLI', 'noise', 'speechPAT'], ['speechCLI', 'noise', 'speechPAT', 'noise', 'speechCLI', 'noise', 'speechCLI', 'noise', 'speechCLI', 'noise', 'speechCLI', 'noise', 'speechCLI', 'noise', 'speechCLI', 'noise', 'speechCLI', 'noise', 'speechCLI', 'noise', 'speechCLI', 'noise', 'speechCLI', 'noise', 'speechCLI', 'noise', 'speechCLI', 'noise', 'speechCLI', 'noise', 'speechCLI', 'noise', 'speechCLI', 'noise', 'speechCLI', 'speechOVE', 'speechCLI', 'speechOVE', 'noise', 'speechOVE', 'noise', 'speechPAT', 'speechCLI', 'noise', 'speechCLI', 'noise', 'speechPAT', 'noise', 'speechCLI', 'noise', 'speechCLI', 'noise', 'speechPAT', 'speechCLI', 'noise', 'speechCLI', 'speechOVE', 'speechPAT', 'speechCLI', 'noise', 'speechCLI', 'noise', 'speechCLI', 'noise', 'speechCLI', 'noise', 'speechPAT', 'speechCLI', 'noise', 'speechCLI', 'speechPAT', 'speechCLI', 'speechPAT', 'speechOVE', 'speechPAT', 'speechCLI', 'speechPAT', 'speechCLI', 'speechOVE', 'speechCLI', 'speechOVE', 'speechPAT', 'speechCLI', 'speechPAT', 'speechOVE', 'speechCLI', 'speechOVE', 'speechCLI', 'speechOVE', 'speechPAT', 'speechCLI', 'speechPAT', 'speechOVE', 'speechPAT', 'speechCLI', 'speechOVE', 'speechCLI', 'noise', 'speechCLI', 'speechPAT', 'speechOVE', 'speechCLI', 'speechPAT', 'speechCLI', 'speechOVE', 'speechCLI', 'noise', 'speechCLI', 'speechOVE', 'speechCLI', 'speechPAT', 'speechCLI', 'speechPAT', 'speechCLI', 'speechPAT', 'speechCLI', 'speechPAT', 'speechCLI', 'speechPAT', 'speechOVE', 'speechPAT', 'speechCLI', 'speechPAT', 'speechCLI', 'noise', 'speechCLI', 'noise', 'speechCLI', 'noise', 'speechOVE', 'speechCLI', 'noise', 'speechPAT', 'speechCLI', 'speechPAT', 'speechCLI', 'speechOVE', 'speechCLI', 'speechPAT', 'speechCLI', 'speechOVE', 'speechPAT', 'speechCLI', 'speechPAT', 'speechCLI', 'speechPAT', 'speechCLI', 'speechPAT', 'speechCLI', 'noise', 'speechCLI', 'noise', 'speechCLI', 'noise', 'speechCLI', 'noise', 'speechCLI', 'noise', 'speechCLI', 'noise', 'speechCLI', 'noise', 'speechPAT', 'speechOVE', 'noise', 'speechPAT', 'speechCLI', 'speechPAT', 'noise', 'speechPAT', 'noise', 'speechPAT', 'noise', 'speechPAT', 'noise', 'speechPAT', 'noise', 'speechPAT', 'speechCLI', 'speechPAT', 'speechCLI', 'speechPAT', 'speechOVE', 'speechCLI', 'speechOVE', 'speechPAT', 'speechOVE', 'speechPAT', 'speechOVE', 'speechCLI', 'speechPAT', 'speechCLI', 'speechOVE', 'speechCLI', 'speechPAT', 'speechCLI', 'speechPAT', 'speechOVE', 'speechCLI', 'noise', 'speechPAT', 'noise', 'speechPAT', 'noise', 'speechOVE', 'speechCLI', 'noise', 'speechCLI', 'speechPAT', 'speechCLI', 'speechPAT', 'speechCLI', 'noise', 'speechCLI', 'speechPAT', 'speechOVE', 'speechPAT', 'noise', 'speechOVE', 'speechPAT', 'noise', 'speechPAT', 'noise', 'speechOVE', 'noise', 'speechCLI', 'speechPAT', 'speechOVE', 'noise', 'speechCLI'], ['noise', 'speechCLI', 'noise', 'speechCLI', 'speechOVE', 'speechPAT', 'speechCLI', 'speechPAT', 'speechCLI', 'noise', 'speechCLI', 'noise', 'speechCLI', 'noise', 'noise', 'speechCLI', 'noise', 'speechCLI', 'noise', 'speechCLI', 'speechOVE', 'speechCLI', 'speechPAT', 'noise', 'speechPAT', 'noise', 'speechPAT', 'speechCLI', 'speechPAT', 'speechCLI', 'speechPAT', 'noise', 'speechCLI', 'speechPAT', 'noise', 'speechCLI', 'noise', 'speechPAT', 'speechCLI', 'noise', 'speechPAT', 'noise', 'speechPAT', 'noise', 'speechOVE', 'speechPAT', 'speechCLI', 'noise', 'speechPAT', 'speechCLI', 'speechPAT', 'speechCLI', 'speechPAT', 'speechCLI', 'speechPAT', 'speechCLI', 'noise', 'speechPAT', 'speechCLI', 'noise', 'speechPAT', 'speechCLI', 'speechPAT', 'speechOVE', 'speechPAT', 'speechCLI', 'noise', 'speechPAT', 'noise', 'speechCLI', 'noise', 'speechPAT', 'speechCLI', 'speechPAT', 'speechCLI', 'speechPAT', 'speechCLI', 'noise', 'speechPAT', 'noise', 'speechPAT', 'noise', 'speechPAT', 'speechCLI', 'speechPAT', 'speechCLI', 'noise', 'speechPAT', 'noise', 'speechPAT', 'speechOVE', 'speechCLI', 'speechOVE', 'speechPAT', 'speechCLI', 'speechPAT', 'speechCLI', 'speechPAT', 'speechCLI', 'noise', 'speechPAT', 'noise', 'speechPAT', 'speechCLI', 'speechPAT', 'noise', 'speechPAT', 'speechCLI', 'speechPAT', 'noise', 'speechCLI', 'speechOVE', 'speechPAT', 'speechCLI', 'noise', 'speechPAT', 'speechCLI', 'noise', 'speechCLI', 'noise', 'speechPAT', 'speechCLI', 'speechPAT', 'speechOVE', 'speechCLI', 'noise', 'speechPAT', 'speechPAT', 'speechOVE', 'speechCLI', 'speechPAT', 'noise', 'speechPAT', 'noise', 'speechCLI', 'speechPAT', 'noise', 'speechPAT', 'noise', 'speechPAT', 'noise', 'speechCLI', 'speechOVE', 'speechCLI', 'noise', 'speechCLI', 'noise', 'speechPAT', 'speechOVE', 'speechPAT', 'noise', 'speechPAT', 'speechCLI', 'speechPAT', 'speechCLI', 'noise', 'speechPAT', 'speechOVE', 'speechCLI', 'noise', 'speechPAT', 'speechCLI', 'speechOVE', 'speechPAT', 'speechOVE', 'speechPAT', 'noise', 'speechCLI', 'speechOVE', 'speechPAT', 'noise', 'speechPAT', 'speechOVE', 'noise', 'speechPAT', 'speechOVE', 'speechPAT', 'speechCLI', 'speechPAT', 'speechOVE', 'speechPAT', 'speechCLI', 'noise', 'speechCLI', 'noise', 'speechCLI', 'speechPAT', 'speechOVE', 'noise', 'speechCLI', 'noise', 'speechPAT', 'speechOVE', 'speechPAT', 'noise', 'speechCLI', 'speechOVE', 'speechCLI', 'noise', 'speechOVE', 'speechPAT', 'speechCLI', 'noise', 'speechCLI', 'speechPAT', 'speechOVE', 'speechPAT', 'speechOVE', 'speechPAT', 'noise', 'speechPAT', 'noise', 'speechPAT', 'speechOVE', 'speechPAT', 'speechCLI', 'speechPAT', 'speechCLI', 'speechCLI', 'speechOVE', 'speechPAT', 'speechCLI', 'speechOVE', 'noise', 'speechPAT', 'speechCLI', 'noise', 'speechPAT', 'noise', 'speechPAT', 'noise', 'speechCLI', 'noise', 'speechPAT', 'noise', 'speechPAT', 'noise', 'speechCLI', 'noise', 'speechPAT', 'noise', 'speechCLI', 'speechOVE', 'speechCLI', 'noise', 'speechPAT', 'speechCLI', 'speechPAT', 'speechOVE', 'noise', 'speechPAT', 'speechCLI', 'noise', 'speechPAT', 'speechOVE', 'speechPAT', 'speechCLI', 'speechPAT', 'speechOVE', 'speechCLI', 'noise', 'speechCLI', 'noise', 'speechOVE', 'speechPAT', 'noise', 'speechPAT', 'noise', 'speechCLI', 'noise', 'speechCLI', 'speechOVE', 'speechPAT', 'noise', 'speechOVE', 'speechCLI', 'speechOVE', 'speechCLI', 'speechPAT', 'speechOVE', 'speechPAT', 'speechOVE', 'noise', 'speechOVE', 'speechCLI', 'noise', 'speechPAT', 'speechCLI', 'speechOVE', 'speechCLI', 'noise', 'speechCLI', 'speechPAT', 'speechOVE', 'noise', 'speechPAT', 'speechOVE', 'speechCLI', 'speechPAT', 'speechOVE', 'noise', 'speechPAT', 'noise', 'speechPAT', 'speechCLI', 'speechOVE', 'speechCLI', 'speechOVE', 'speechPAT', 'noise', 'speechPAT', 'noise', 'speechPAT', 'speechOVE', 'speechPAT', 'speechCLI', 'noise', 'speechOVE', 'speechPAT', 'speechCLI', 'speechOVE', 'speechPAT', 'noise', 'speechPAT', 'speechCLI', 'speechPAT', 'speechCLI', 'noise', 'speechPAT', 'speechPAT', 'speechPAT', 'speechCLI', 'speechPAT', 'noise', 'speechPAT', 'noise', 'speechCLI', 'speechPAT', 'speechCLI', 'noise', 'speechCLI', 'noise', 'speechCLI', 'speechOVE', 'speechPAT', 'speechOVE', 'speechCLI', 'noise', 'speechOVE', 'speechCLI', 'noise', 'speechPAT', 'speechCLI', 'speechOVE', 'speechPAT', 'noise', 'speechPAT', 'noise', 'speechCLI', 'speechPAT', 'speechCLI', 'speechOVE', 'speechCLI', 'speechPAT', 'speechCLI', 'speechOVE', 'speechPAT', 'noise', 'speechCLI', 'speechOVE', 'speechPAT', 'speechCLI', 'noise', 'speechOVE', 'speechPAT', 'speechCLI', 'noise', 'speechPAT', 'speechOVE', 'speechPAT', 'noise', 'speechPAT', 'speechOVE', 'speechPAT', 'speechOVE', 'speechPAT', 'noise', 'speechPAT', 'speechCLI', 'noise', 'speechPAT', 'noise', 'speechPAT', 'noise', 'speechOVE', 'speechPAT', 'noise', 'speechPAT', 'speechCLI', 'noise', 'speechOVE', 'speechPAT', 'speechCLI', 'speechOVE', 'speechOVE', 'speechCLI', 'speechOVE', 'speechPAT', 'noise', 'speechCLI', 'noise', 'speechCLI', 'speechOVE', 'speechPAT', 'speechOVE', 'speechPAT', 'speechCLI', 'speechPAT', 'speechCLI', 'noise', 'speechPAT', 'speechOVE', 'speechPAT', 'speechCLI', 'noise', 'speechCLI', 'speechPAT', 'speechOVE', 'speechCLI', 'noise', 'speechCLI', 'speechOVE', 'speechCLI', 'speechOVE', 'speechCLI', 'speechOVE', 'speechCLI', 'speechOVE', 'speechPAT', 'speechOVE', 'speechPAT', 'speechOVE', 'speechPAT', 'speechCLI', 'speechOVE', 'speechCLI', 'speechPAT', 'noise', 'speechCLI', 'noise', 'speechOVE', 'speechPAT', 'speechCLI', 'noise', 'speechPAT', 'noise', 'speechPAT', 'speechOVE', 'speechPAT', 'noise', 'speechPAT', 'noise', 'speechCLI', 'noise', 'speechPAT', 'noise', 'speechPAT', 'speechOVE', 'speechPAT', 'speechOVE', 'speechPAT', 'noise', 'speechPAT', 'noise', 'speechCLI', 'noise', 'speechCLI', 'speechOVE', 'speechPAT', 'noise', 'speechCLI', 'speechPAT', 'speechCLI', 'speechPAT', 'speechCLI', 'noise', 'speechPAT', 'speechOVE', 'speechPAT', 'speechCLI', 'noise', 'speechPAT', 'noise', 'speechPAT', 'speechOVE', 'noise', 'speechPAT', 'noise', 'speechPAT', 'speechCLI', 'speechPAT', 'noise', 'speechPAT', 'noise', 'speechPAT', 'speechCLI', 'noise', 'speechPAT', 'speechOVE', 'noise', 'speechPAT', 'noise', 'speechPAT', 'speechCLI', 'speechPAT', 'speechOVE', 'speechPAT', 'speechCLI', 'speechPAT', 'noise', 'speechPAT', 'noise', 'speechCLI', 'speechPAT', 'noise', 'speechCLI', 'speechOVE', 'speechPAT', 'speechCLI', 'speechPAT', 'speechCLI', 'noise', 'speechPAT', 'noise', 'speechPAT', 'speechOVE', 'speechPAT', 'speechOVE', 'speechCLI', 'noise', 'speechCLI', 'noise', 'speechPAT', 'noise', 'speechCLI', 'speechOVE', 'speechPAT', 'speechOVE', 'speechPAT', 'speechOVE', 'speechPAT', 'noise', 'speechCLI', 'noise', 'speechCLI', 'speechPAT', 'speechOVE', 'speechPAT', 'speechOVE', 'speechPAT', 'speechCLI', 'speechOVE', 'speechCLI', 'noise', 'speechOVE', 'speechPAT', 'speechCLI', 'speechOVE', 'noise', 'speechCLI', 'speechOVE', 'noise', 'speechCLI', 'speechOVE', 'speechCLI', 'noise', 'speechCLI', 'noise', 'speechCLI', 'noise', 'speechCLI', 'noise', 'speechCLI', 'speechOVE', 'speechPAT', 'speechOVE', 'noise', 'speechCLI', 'speechOVE', 'speechPAT', 'speechOVE', 'speechPAT', 'speechOVE', 'speechPAT', 'noise', 'speechPAT', 'speechCLI', 'speechPAT', 'speechCLI', 'noise', 'speechPAT', 'noise', 'speechOVE', 'speechPAT', 'speechCLI', 'speechPAT', 'noise', 'speechCLI', 'noise', 'speechCLI', 'noise', 'speechCLI', 'noise', 'speechCLI', 'noise', 'speechCLI', 'noise', 'speechCLI', 'noise', 'speechCLI', 'speechOVE', 'speechCLI', 'speechOVE', 'noise', 'speechPAT', 'speechOVE', 'speechPAT', 'speechCLI', 'noise', 'speechCLI', 'speechPAT', 'speechCLI', 'speechPAT', 'noise', 'speechOVE', 'speechPAT', 'noise', 'speechCLI', 'speechPAT', 'speechCLI', 'noise', 'speechPAT', 'noise', 'speechPAT', 'noise', 'speechPAT', 'noise', 'speechCLI', 'speechOVE', 'noise', 'speechCLI', 'noise', 'speechCLI', 'noise', 'speechCLI', 'noise', 'speechCLI', 'speechOVE', 'speechPAT', 'speechOVE', 'noise', 'speechPAT', 'noise', 'speechCLI', 'speechPAT', 'noise', 'speechCLI', 'speechOVE', 'speechPAT', 'noise', 'speechCLI', 'noise', 'speechOVE', 'speechPAT', 'speechOVE', 'speechPAT', 'noise', 'speechPAT', 'noise', 'speechPAT', 'noise', 'speechPAT', 'speechCLI', 'speechOVE', 'speechCLI', 'noise', 'speechPAT', 'speechOVE', 'speechPAT', 'noise', 'speechCLI', 'speechPAT', 'noise', 'speechOVE', 'speechCLI', 'speechPAT', 'noise', 'speechPAT', 'speechOVE', 'noise', 'speechPAT', 'speechCLI', 'speechPAT', 'speechCLI', 'speechPAT', 'speechCLI', 'noise', 'speechPAT', 'speechCLI', 'noise', 'speechPAT', 'speechOVE', 'speechPAT', 'speechCLI', 'noise', 'speechPAT', 'speechOVE', 'speechPAT', 'speechCLI', 'speechPAT', 'noise', 'speechPAT', 'noise', 'speechCLI', 'speechPAT', 'noise', 'speechPAT', 'noise', 'speechPAT', 'speechOVE', 'noise', 'speechPAT', 'speechCLI', 'noise', 'speechOVE', 'speechPAT', 'noise', 'speechOVE', 'speechPAT', 'noise', 'speechPAT', 'speechPAT', 'noise', 'speechCLI', 'speechPAT', 'noise', 'speechPAT', 'speechOVE', 'noise', 'speechPAT', 'noise', 'speechCLI', 'noise', 'speechPAT', 'noise', 'speechPAT', 'noise', 'speechCLI', 'speechOVE', 'speechPAT', 'speechCLI', 'noise', 'speechCLI', 'speechOVE', 'speechPAT', 'speechCLI', 'speechPAT', 'speechOVE', 'speechPAT', 'speechCLI', 'speechPAT', 'speechOVE', 'speechPAT', 'noise', 'speechCLI', 'speechOVE', 'speechCLI', 'noise', 'speechCLI', 'noise', 'speechOVE', 'speechPAT', 'speechCLI', 'noise', 'speechPAT', 'noise', 'speechPAT', 'speechOVE', 'speechPAT', 'speechOVE', 'speechPAT', 'noise', 'speechCLI', 'noise', 'speechPAT', 'noise', 'speechPAT', 'speechCLI', 'speechOVE', 'speechCLI', 'noise', 'speechPAT', 'speechOVE', 'speechCLI', 'noise', 'speechPAT', 'noise', 'speechCLI', 'noise', 'speechCLI', 'speechPAT', 'noise', 'speechCLI', 'speechCLI', 'speechOVE', 'speechCLI', 'noise', 'speechCLI', 'speechPAT', 'speechOVE', 'speechPAT', 'noise', 'speechPAT', 'noise', 'speechPAT', 'speechOVE', 'speechPAT', 'speechCLI', 'noise', 'speechPAT', 'speechCLI', 'speechPAT', 'noise', 'speechCLI', 'noise', 'speechPAT', 'noise', 'speechPAT', 'noise', 'speechPAT', 'noise', 'speechCLI', 'speechPAT', 'speechCLI', 'noise', 'speechPAT', 'noise', 'speechPAT', 'speechCLI', 'noise', 'speechPAT', 'speechCLI', 'speechPAT', 'noise', 'speechPAT', 'speechCLI', 'noise', 'speechCLI', 'speechOVE', 'speechCLI', 'speechPAT', 'speechCLI', 'speechPAT', 'speechOVE', 'speechPAT', 'noise', 'speechPAT', 'speechOVE', 'speechPAT', 'noise', 'speechPAT', 'speechOVE', 'speechPAT', 'noise', 'speechCLI', 'noise', 'speechOVE', 'speechPAT', 'speechCLI', 'noise', 'speechPAT', 'speechOVE', 'speechPAT', 'speechCLI', 'speechPAT', 'speechCLI', 'noise', 'speechCLI', 'speechOVE', 'speechPAT', 'speechOVE', 'speechPAT', 'noise', 'speechCLI', 'noise', 'speechCLI', 'noise', 'speechPAT', 'noise', 'speechPAT', 'speechOVE', 'speechPAT', 'speechCLI', 'noise', 'speechCLI', 'speechOVE', 'speechPAT', 'speechCLI', 'speechPAT', 'speechOVE', 'speechPAT', 'noise', 'speechCLI', 'speechPAT', 'speechOVE', 'speechCLI', 'noise', 'speechCLI', 'speechOVE', 'speechPAT', 'speechOVE', 'speechPAT', 'speechCLI', 'speechPAT', 'speechOVE', 'speechPAT', 'speechOVE', 'speechPAT', 'noise', 'speechPAT', 'speechOVE', 'noise', 'speechCLI', 'speechPAT', 'noise', 'speechPAT', 'speechOVE', 'noise', 'speechPAT', 'noise', 'speechPAT', 'noise', 'speechOVE', 'speechPAT', 'speechCLI', 'speechOVE', 'speechPAT', 'speechOVE', 'speechCLI', 'speechOVE', 'noise', 'speechCLI', 'speechPAT', 'speechCLI', 'speechPAT', 'speechCLI', 'speechOVE', 'speechPAT', 'speechOVE', 'speechPAT', 'speechOVE', 'noise', 'speechOVE', 'speechPAT', 'speechOVE', 'noise', 'speechCLI', 'speechPAT', 'noise', 'speechPAT', 'noise', 'speechCLI', 'noise', 'speechPAT', 'noise', 'speechPAT', 'speechCLI', 'speechPAT', 'speechCLI', 'speechPAT', 'noise', 'speechCLI', 'speechOVE', 'speechPAT', 'speechCLI', 'speechOVE', 'speechCLI', 'speechOVE', 'speechPAT', 'speechCLI', 'speechPAT', 'speechCLI', 'noise', 'speechOVE', 'noise', 'speechCLI', 'speechPAT', 'speechCLI', 'speechOVE', 'speechPAT', 'speechOVE', 'speechPAT', 'speechCLI', 'noise', 'speechCLI', 'noise', 'speechCLI', 'speechOVE', 'speechPAT', 'speechOVE', 'noise', 'speechCLI', 'speechOVE', 'speechPAT', 'speechCLI', 'speechOVE', 'speechCLI', 'noise', 'speechCLI', 'noise', 'speechCLI', 'noise', 'speechCLI', 'speechOVE', 'speechPAT', 'speechCLI', 'speechPAT', 'speechOVE', 'speechCLI', 'speechOVE', 'noise', 'speechCLI', 'speechPAT', 'speechCLI', 'speechPAT', 'speechOVE', 'speechPAT', 'speechOVE', 'speechPAT', 'speechOVE', 'speechCLI', 'noise', 'speechCLI', 'speechOVE', 'speechCLI', 'speechPAT', 'speechCLI', 'noise', 'speechPAT', 'noise', 'speechCLI', 'speechOVE', 'speechPAT', 'speechCLI', 'noise', 'speechPAT', 'speechCLI', 'noise', 'speechPAT', 'noise', 'speechCLI', 'speechPAT', 'speechOVE', 'noise', 'speechPAT', 'speechCLI', 'speechPAT', 'speechCLI', 'noise', 'speechCLI', 'speechPAT', 'speechCLI', 'noise', 'speechPAT', 'speechCLI', 'speechPAT', 'speechCLI', 'noise', 'speechPAT', 'speechCLI', 'speechPAT', 'noise', 'speechPAT', 'speechOVE', 'speechPAT', 'speechCLI', 'speechPAT', 'speechOVE', 'speechCLI', 'speechPAT', 'speechOVE', 'speechCLI', 'speechOVE', 'speechCLI', 'noise', 'speechCLI', 'noise', 'speechCLI', 'speechPAT', 'noise', 'speechPAT', 'noise', 'speechPAT', 'noise', 'speechOVE', 'speechCLI', 'noise', 'speechCLI', 'speechPAT', 'speechOVE', 'speechCLI', 'speechPAT', 'speechOVE', 'speechCLI', 'speechPAT', 'speechCLI', 'speechPAT', 'speechCLI', 'noise', 'speechPAT', 'speechOVE', 'noise', 'speechPAT', 'speechCLI', 'speechOVE', 'speechPAT', 'speechOVE', 'speechCLI', 'speechPAT', 'speechCLI', 'noise', 'speechCLI', 'speechOVE', 'noise', 'speechCLI', 'noise', 'speechPAT', 'noise', 'speechCLI', 'speechPAT', 'speechCLI', 'noise', 'speechCLI', 'speechOVE', 'speechPAT', 'speechCLI', 'speechCLI', 'noise', 'speechOVE', 'noise', 'speechOVE', 'noise'], [], ['noise', 'speechCLI', 'speechPAT', 'noise', 'speechCLI', 'noise', 'speechCLI', 'noise', 'speechCLI', 'noise', 'speechPAT', 'noise', 'speechPAT', 'noise', 'speechCLI', 'noise', 'speechPAT', 'noise', 'speechPAT', 'speechCLI', 'speechPAT', 'noise', 'speechCLI', 'noise', 'speechPAT', 'noise', 'speechCLI', 'noise', 'noise', 'speechCLI', 'noise', 'speechPAT', 'noise', 'speechPAT', 'speechCLI', 'noise', 'speechPAT', 'noise', 'speechCLI', 'speechOVE', 'speechCLI', 'noise', 'speechCLI', 'speechPAT', 'speechPAT', 'noise', 'speechCLI', 'noise', 'speechCLI', 'speechCLI', 'noise', 'speechPAT', 'noise', 'speechCLI', 'noise', 'speechPAT', 'noise', 'speechCLI', 'noise', 'speechPAT', 'noise', 'speechPAT', 'noise', 'speechPAT', 'speechCLI', 'noise', 'speechPAT', 'noise', 'speechCLI', 'speechOVE', 'speechPAT', 'noise', 'speechPAT', 'noise', 'speechCLI', 'noise', 'speechPAT', 'speechCLI', 'speechOVE', 'speechPAT', 'speechCLI', 'speechPAT', 'speechCLI', 'noise', 'speechPAT', 'speechCLI', 'speechPAT', 'noise', 'speechPAT', 'noise', 'speechPAT', 'noise', 'speechCLI', 'noise', 'speechCLI', 'noise', 'speechCLI', 'noise', 'speechCLI', 'noise', 'speechCLI', 'speechPAT', 'noise', 'speechCLI', 'noise', 'speechCLI', 'speechPAT', 'noise', 'speechPAT', 'speechOVE', 'speechPAT', 'speechOVE', 'speechPAT', 'noise', 'speechPAT', 'noise', 'speechCLI', 'speechPAT', 'speechOVE', 'speechCLI', 'speechOVE', 'noise', 'speechPAT', 'noise', 'speechCLI', 'noise', 'speechPAT', 'speechCLI', 'noise', 'speechPAT', 'speechOVE', 'speechCLI', 'speechPAT', 'speechOVE', 'speechPAT', 'speechCLI', 'noise', 'speechPAT', 'noise', 'speechPAT', 'speechCLI', 'speechPAT', 'noise', 'speechPAT', 'speechCLI', 'speechPAT', 'noise', 'speechPAT', 'noise', 'speechCLI', 'noise', 'speechPAT', 'speechOVE', 'speechPAT', 'noise', 'speechOVE', 'speechPAT', 'noise', 'speechCLI', 'speechOVE', 'noise', 'speechPAT', 'speechCLI', 'noise', 'speechCLI', 'noise', 'speechCLI', 'noise', 'speechCLI', 'noise', 'speechCLI', 'speechPAT', 'speechCLI', 'noise', 'noise', 'speechCLI', 'noise', 'speechPAT', 'noise', 'speechCLI', 'noise', 'speechCLI', 'noise', 'speechPAT', 'noise', 'speechCLI', 'noise', 'speechCLI', 'speechOVE', 'speechPAT', 'noise', 'speechCLI', 'noise', 'speechPAT', 'speechCLI', 'noise', 'speechCLI', 'noise', 'speechPAT', 'speechCLI', 'speechPAT', 'speechCLI', 'noise', 'speechCLI', 'noise', 'speechCLI', 'noise', 'speechCLI', 'speechPAT', 'noise', 'speechPAT', 'speechOVE', 'speechCLI', 'noise', 'speechPAT', 'noise', 'speechPAT', 'noise', 'speechPAT', 'noise', 'speechPAT', 'noise', 'speechCLI', 'noise', 'speechCLI', 'noise', 'speechOVE', 'speechCLI', 'noise', 'speechCLI', 'speechPAT', 'noise', 'speechPAT', 'speechCLI', 'noise', 'speechCLI', 'noise', 'speechCLI', 'noise', 'speechPAT', 'noise', 'speechCLI', 'speechPAT', 'noise', 'speechPAT', 'noise', 'speechCLI', 'speechPAT', 'noise', 'speechPAT', 'speechOVE', 'speechCLI', 'speechPAT', 'noise', 'speechPAT', 'noise', 'speechCLI', 'noise', 'speechCLI', 'speechOVE', 'speechPAT', 'noise', 'speechPAT', 'noise', 'speechPAT', 'noise', 'speechCLI', 'noise', 'speechPAT', 'noise', 'speechCLI', 'noise', 'speechCLI', 'speechOVE', 'speechPAT', 'noise', 'speechOVE', 'speechPAT', 'speechCLI', 'speechPAT', 'speechOVE', 'speechCLI', 'speechPAT', 'speechCLI', 'speechOVE', 'speechPAT', 'speechOVE', 'speechCLI', 'noise', 'speechPAT', 'speechCLI', 'speechPAT', 'speechCLI', 'noise', 'speechCLI', 'noise', 'speechPAT', 'speechCLI', 'speechOVE', 'speechCLI', 'speechPAT', 'speechCLI', 'speechPAT', 'noise', 'speechPAT', 'speechOVE', 'speechCLI', 'noise', 'speechPAT', 'speechCLI', 'noise', 'speechCLI', 'noise', 'speechPAT', 'noise', 'speechPAT', 'noise', 'speechPAT', 'noise', 'speechPAT', 'noise', 'speechPAT', 'speechCLI', 'speechPAT', 'noise', 'speechPAT', 'speechCLI', 'speechPAT', 'speechCLI', 'noise', 'speechCLI', 'noise', 'speechPAT', 'noise', 'speechPAT', 'speechCLI', 'noise', 'speechPAT', 'speechCLI', 'noise', 'speechCLI', 'noise', 'speechCLI', 'noise', 'noise', 'noise', 'speechCLI', 'noise', 'speechPAT', 'noise', 'speechPAT', 'noise', 'speechCLI', 'noise', 'speechCLI', 'speechOVE', 'speechPAT', 'speechPAT', 'noise', 'speechCLI', 'speechPAT', 'speechCLI', 'noise', 'speechCLI', 'noise', 'speechCLI', 'speechOVE', 'speechCLI', 'speechPAT', 'noise', 'speechCLI', 'speechOVE', 'speechPAT', 'noise', 'speechPAT', 'noise', 'speechPAT', 'noise', 'speechCLI', 'noise', 'speechCLI', 'noise', 'speechCLI', 'noise', 'speechCLI', 'noise', 'speechCLI', 'noise', 'speechPAT', 'noise', 'speechPAT', 'speechCLI', 'noise', 'speechPAT', 'noise', 'speechPAT', 'noise', 'speechPAT', 'noise', 'speechPAT', 'noise', 'speechPAT', 'speechCLI', 'noise', 'speechCLI', 'noise', 'speechCLI', 'noise', 'speechCLI', 'speechPAT', 'noise', 'speechCLI', 'speechPAT', 'speechCLI', 'noise', 'speechPAT', 'speechCLI', 'speechOVE', 'speechCLI', 'speechOVE', 'speechPAT', 'speechCLI', 'speechPAT', 'speechCLI', 'speechOVE', 'speechPAT', 'speechOVE', 'speechPAT', 'speechCLI', 'noise', 'speechPAT', 'speechCLI', 'speechPAT', 'noise', 'speechCLI', 'noise', 'speechCLI', 'noise', 'speechCLI', 'noise', 'speechCLI', 'noise', 'speechCLI', 'noise', 'speechCLI', 'noise', 'speechCLI', 'noise', 'speechPAT', 'noise', 'speechCLI', 'noise', 'speechPAT', 'noise', 'speechCLI', 'noise', 'speechCLI', 'speechPAT', 'noise', 'speechCLI', 'noise', 'speechCLI', 'speechPAT', 'speechCLI', 'noise', 'speechCLI', 'noise', 'speechPAT', 'noise', 'speechCLI', 'noise', 'speechPAT', 'noise', 'speechCLI', 'noise', 'speechPAT', 'noise', 'speechCLI', 'noise', 'speechCLI', 'noise', 'speechPAT', 'noise', 'speechCLI', 'noise', 'speechCLI', 'noise', 'speechPAT', 'noise', 'speechCLI', 'noise', 'speechPAT', 'noise', 'speechCLI', 'speechOVE', 'speechCLI', 'noise', 'speechPAT', 'speechCLI', 'speechPAT', 'speechCLI', 'noise', 'speechCLI', 'speechOVE', 'speechPAT', 'noise', 'speechCLI', 'noise', 'speechCLI', 'noise', 'speechCLI', 'noise', 'speechCLI', 'noise', 'speechCLI', 'noise', 'speechCLI', 'noise', 'speechCLI', 'speechPAT', 'noise', 'speechCLI', 'noise', 'speechCLI', 'noise', 'speechPAT', 'noise', 'speechPAT', 'noise', 'speechCLI', 'noise', 'speechCLI', 'noise', 'speechCLI', 'noise', 'speechCLI', 'noise', 'speechCLI', 'noise', 'speechCLI', 'noise', 'speechPAT', 'noise', 'speechPAT', 'noise', 'speechCLI', 'noise', 'speechCLI', 'noise', 'speechPAT', 'speechCLI', 'speechPAT', 'noise', 'speechCLI', 'speechCLI', 'speechPAT', 'noise', 'speechCLI', 'speechPAT', 'noise', 'speechCLI', 'noise', 'speechPAT', 'speechCLI', 'speechOVE', 'speechCLI', 'speechOVE', 'speechPAT', 'speechOVE', 'speechCLI', 'speechOVE', 'speechPAT', 'noise', 'speechCLI', 'speechPAT', 'noise', 'speechCLI', 'speechPAT', 'noise', 'speechCLI', 'noise', 'speechPAT', 'speechCLI', 'noise', 'speechCLI', 'speechOVE', 'speechCLI', 'noise', 'speechCLI', 'noise', 'speechPAT', 'noise', 'noise', 'speechCLI', 'speechPAT', 'noise', 'speechPAT', 'noise', 'speechPAT', 'noise', 'speechCLI', 'speechOVE', 'speechCLI', 'noise', 'speechCLI', 'noise', 'speechCLI', 'speechOVE', 'noise', 'speechOVE', 'speechPAT', 'speechOVE', 'speechPAT', 'noise', 'speechPAT', 'noise', 'speechPAT', 'noise', 'speechCLI', 'speechPAT', 'noise', 'speechCLI', 'speechPAT', 'noise', 'speechPAT', 'noise', 'speechPAT', 'speechCLI', 'speechOVE', 'speechPAT', 'speechOVE', 'speechPAT', 'speechOVE', 'noise', 'speechCLI', 'speechPAT', 'speechOVE', 'speechPAT', 'noise', 'speechCLI', 'noise', 'speechPAT', 'speechCLI', 'noise', 'speechCLI', 'noise', 'speechPAT', 'noise', 'speechCLI', 'noise', 'speechCLI', 'speechPAT', 'noise', 'speechCLI', 'noise', 'speechCLI', 'speechPAT', 'speechCLI', 'noise', 'speechPAT', 'speechCLI', 'speechPAT', 'noise', 'speechPAT', 'noise', 'speechPAT', 'speechOVE', 'speechPAT', 'noise', 'speechPAT', 'noise', 'speechPAT', 'noise', 'speechPAT', 'noise', 'speechPAT', 'noise', 'speechCLI', 'speechOVE', 'speechPAT', 'speechCLI', 'speechOVE', 'speechCLI', 'noise', 'speechCLI', 'noise', 'speechPAT', 'noise', 'speechPAT', 'speechOVE', 'speechCLI', 'speechOVE', 'speechPAT', 'noise', 'speechCLI', 'noise', 'speechPAT', 'speechOVE', 'speechCLI', 'noise', 'speechPAT', 'speechCLI', 'speechOVE', 'speechPAT', 'speechCLI', 'noise', 'speechCLI', 'noise', 'speechCLI', 'noise', 'speechCLI', 'noise', 'speechCLI', 'speechPAT', 'speechCLI', 'speechPAT', 'noise', 'speechCLI', 'speechPAT', 'speechCLI', 'noise', 'speechPAT', 'speechOVE', 'speechCLI', 'speechOVE', 'speechCLI', 'speechPAT', 'speechCLI', 'noise', 'speechCLI', 'noise', 'speechPAT', 'speechCLI', 'speechOVE', 'speechCLI', 'speechPAT', 'speechOVE', 'speechPAT', 'speechCLI', 'noise', 'speechPAT', 'speechCLI', 'noise', 'speechCLI', 'noise', 'speechCLI', 'speechPAT', 'speechCLI', 'speechOVE', 'speechCLI', 'speechPAT', 'speechCLI', 'noise', 'speechCLI', 'noise', 'speechCLI', 'noise', 'speechCLI', 'noise', 'speechPAT', 'speechCLI', 'noise', 'speechPAT', 'speechCLI', 'speechOVE', 'speechCLI', 'noise', 'speechPAT', 'speechCLI', 'speechPAT', 'noise', 'speechCLI', 'noise', 'speechCLI', 'noise', 'speechCLI', 'noise', 'speechCLI', 'noise', 'speechCLI', 'noise', 'speechCLI', 'noise', 'speechCLI', 'noise', 'speechCLI', 'noise', 'speechCLI', 'speechOVE', 'speechCLI', 'noise', 'speechCLI', 'noise', 'speechCLI', 'noise', 'speechCLI', 'noise', 'speechCLI', 'noise', 'speechCLI', 'noise', 'speechCLI', 'noise', 'speechCLI', 'noise', 'speechCLI', 'noise', 'speechCLI', 'noise', 'speechCLI', 'noise', 'speechCLI', 'noise', 'speechCLI', 'noise', 'speechCLI', 'noise', 'speechCLI', 'noise', 'speechCLI', 'noise', 'speechCLI', 'noise', 'speechCLI', 'noise', 'speechCLI']]\n"
          ]
        }
      ],
      "source": [
        "print(speakers)"
      ]
    },
    {
      "cell_type": "markdown",
      "metadata": {
        "id": "cknV3yqq1rk1"
      },
      "source": [
        "We can now visualize the diarization results:"
      ]
    },
    {
      "cell_type": "code",
      "execution_count": null,
      "metadata": {
        "colab": {
          "base_uri": "https://localhost:8080/",
          "height": 159
        },
        "id": "NUg5Tg5bnW90",
        "outputId": "1035f6cf-8be8-41ba-8367-f3b80761149f"
      },
      "outputs": [
        {
          "data": {
            "image/png": "[encoded data removed]",
            "text/plain": [
              "<pyannote.core.annotation.Annotation at 0x786cb5744c40>"
            ]
          },
          "execution_count": 61,
          "metadata": {},
          "output_type": "execute_result"
        }
      ],
      "source": [
        "diarization"
      ]
    },
    {
      "cell_type": "markdown",
      "metadata": {
        "id": "7E_n-Wfu1wL_"
      },
      "source": [
        "..and save them in rttm format:\n"
      ]
    },
    {
      "cell_type": "code",
      "execution_count": null,
      "metadata": {
        "id": "SJlwj1sDnW6c"
      },
      "outputs": [],
      "source": [
        "with open(\"audio.rttm\", \"w\") as rttm:\n",
        "    diarization.write_rttm(rttm)"
      ]
    },
    {
      "cell_type": "code",
      "execution_count": null,
      "metadata": {
        "id": "qg5IPUZGnW2o"
      },
      "outputs": [],
      "source": []
    },
    {
      "cell_type": "code",
      "execution_count": null,
      "metadata": {
        "id": "MR0U6FOlnWzE"
      },
      "outputs": [],
      "source": []
    }
  ],
  "metadata": {
    "accelerator": "GPU",
    "colab": {
      "gpuType": "T4",
      "provenance": []
    },
    "kernelspec": {
      "display_name": "Python 3",
      "name": "python3"
    },
    "language_info": {
      "name": "python"
    },
    "widgets": {
      "application/vnd.jupyter.widget-state+json": {
        "00f3b579170e4bd1b497f9f08b8049ea": {
          "model_module": "@jupyter-widgets/controls",
          "model_module_version": "1.5.0",
          "model_name": "HTMLModel",
          "state": {
            "_dom_classes": [],
            "_model_module": "@jupyter-widgets/controls",
            "_model_module_version": "1.5.0",
            "_model_name": "HTMLModel",
            "_view_count": null,
            "_view_module": "@jupyter-widgets/controls",
            "_view_module_version": "1.5.0",
            "_view_name": "HTMLView",
            "description": "",
            "description_tooltip": null,
            "layout": "IPY_MODEL_7764c1193ee64e2caf7473835b6f4bc3",
            "placeholder": "​",
            "style": "IPY_MODEL_59a24b848be74b87bb766bb18df9656b",
            "value": " 1/1 [00:01&lt;00:00,  1.50s/ examples]"
          }
        },
        "03f6fb0fb8b14bfcae6695a5749cc5f7": {
          "model_module": "@jupyter-widgets/controls",
          "model_module_version": "1.5.0",
          "model_name": "DescriptionStyleModel",
          "state": {
            "_model_module": "@jupyter-widgets/controls",
            "_model_module_version": "1.5.0",
            "_model_name": "DescriptionStyleModel",
            "_view_count": null,
            "_view_module": "@jupyter-widgets/base",
            "_view_module_version": "1.2.0",
            "_view_name": "StyleView",
            "description_width": ""
          }
        },
        "063ce5eda4e54607b680dd326f60acec": {
          "model_module": "@jupyter-widgets/controls",
          "model_module_version": "1.5.0",
          "model_name": "HBoxModel",
          "state": {
            "_dom_classes": [],
            "_model_module": "@jupyter-widgets/controls",
            "_model_module_version": "1.5.0",
            "_model_name": "HBoxModel",
            "_view_count": null,
            "_view_module": "@jupyter-widgets/controls",
            "_view_module_version": "1.5.0",
            "_view_name": "HBoxView",
            "box_style": "",
            "children": [
              "IPY_MODEL_975a97313973420387832b935ec5e119",
              "IPY_MODEL_9972b09a7b5848699a1880bbee25fe92",
              "IPY_MODEL_25021a4176bb4850956afd3778d53567"
            ],
            "layout": "IPY_MODEL_29e39c3fb7a4477a9c5b80ad53ae19bc"
          }
        },
        "073105e7bc6d4f26b88eb1ae85bf2b6d": {
          "model_module": "@jupyter-widgets/controls",
          "model_module_version": "1.5.0",
          "model_name": "DescriptionStyleModel",
          "state": {
            "_model_module": "@jupyter-widgets/controls",
            "_model_module_version": "1.5.0",
            "_model_name": "DescriptionStyleModel",
            "_view_count": null,
            "_view_module": "@jupyter-widgets/base",
            "_view_module_version": "1.2.0",
            "_view_name": "StyleView",
            "description_width": ""
          }
        },
        "10f51ba58e4943c296f6d134f1f5b7e6": {
          "model_module": "@jupyter-widgets/base",
          "model_module_version": "1.2.0",
          "model_name": "LayoutModel",
          "state": {
            "_model_module": "@jupyter-widgets/base",
            "_model_module_version": "1.2.0",
            "_model_name": "LayoutModel",
            "_view_count": null,
            "_view_module": "@jupyter-widgets/base",
            "_view_module_version": "1.2.0",
            "_view_name": "LayoutView",
            "align_content": null,
            "align_items": null,
            "align_self": null,
            "border": null,
            "bottom": null,
            "display": null,
            "flex": null,
            "flex_flow": null,
            "grid_area": null,
            "grid_auto_columns": null,
            "grid_auto_flow": null,
            "grid_auto_rows": null,
            "grid_column": null,
            "grid_gap": null,
            "grid_row": null,
            "grid_template_areas": null,
            "grid_template_columns": null,
            "grid_template_rows": null,
            "height": null,
            "justify_content": null,
            "justify_items": null,
            "left": null,
            "margin": null,
            "max_height": null,
            "max_width": null,
            "min_height": null,
            "min_width": null,
            "object_fit": null,
            "object_position": null,
            "order": null,
            "overflow": null,
            "overflow_x": null,
            "overflow_y": null,
            "padding": null,
            "right": null,
            "top": null,
            "visibility": null,
            "width": null
          }
        },
        "1451d99aa03f4e3cafc191c843b6a6fa": {
          "model_module": "@jupyter-widgets/base",
          "model_module_version": "1.2.0",
          "model_name": "LayoutModel",
          "state": {
            "_model_module": "@jupyter-widgets/base",
            "_model_module_version": "1.2.0",
            "_model_name": "LayoutModel",
            "_view_count": null,
            "_view_module": "@jupyter-widgets/base",
            "_view_module_version": "1.2.0",
            "_view_name": "LayoutView",
            "align_content": null,
            "align_items": null,
            "align_self": null,
            "border": null,
            "bottom": null,
            "display": null,
            "flex": null,
            "flex_flow": null,
            "grid_area": null,
            "grid_auto_columns": null,
            "grid_auto_flow": null,
            "grid_auto_rows": null,
            "grid_column": null,
            "grid_gap": null,
            "grid_row": null,
            "grid_template_areas": null,
            "grid_template_columns": null,
            "grid_template_rows": null,
            "height": null,
            "justify_content": null,
            "justify_items": null,
            "left": null,
            "margin": null,
            "max_height": null,
            "max_width": null,
            "min_height": null,
            "min_width": null,
            "object_fit": null,
            "object_position": null,
            "order": null,
            "overflow": null,
            "overflow_x": null,
            "overflow_y": null,
            "padding": null,
            "right": null,
            "top": null,
            "visibility": null,
            "width": null
          }
        },
        "18db547589b74cf798547775f522198b": {
          "model_module": "@jupyter-widgets/controls",
          "model_module_version": "1.5.0",
          "model_name": "FloatProgressModel",
          "state": {
            "_dom_classes": [],
            "_model_module": "@jupyter-widgets/controls",
            "_model_module_version": "1.5.0",
            "_model_name": "FloatProgressModel",
            "_view_count": null,
            "_view_module": "@jupyter-widgets/controls",
            "_view_module_version": "1.5.0",
            "_view_name": "ProgressView",
            "bar_style": "success",
            "description": "",
            "description_tooltip": null,
            "layout": "IPY_MODEL_36b0b8a07a874f9abac2049c6cd9349c",
            "max": 7,
            "min": 0,
            "orientation": "horizontal",
            "style": "IPY_MODEL_f74e6ac5a2444a8e921c16728dbf02be",
            "value": 7
          }
        },
        "1c41d3aad9614559b2187dcfc9e8cc87": {
          "model_module": "@jupyter-widgets/controls",
          "model_module_version": "1.5.0",
          "model_name": "DescriptionStyleModel",
          "state": {
            "_model_module": "@jupyter-widgets/controls",
            "_model_module_version": "1.5.0",
            "_model_name": "DescriptionStyleModel",
            "_view_count": null,
            "_view_module": "@jupyter-widgets/base",
            "_view_module_version": "1.2.0",
            "_view_name": "StyleView",
            "description_width": ""
          }
        },
        "24c9549a7d3649e6bb4fe4cb962e5dd4": {
          "model_module": "@jupyter-widgets/controls",
          "model_module_version": "1.5.0",
          "model_name": "DescriptionStyleModel",
          "state": {
            "_model_module": "@jupyter-widgets/controls",
            "_model_module_version": "1.5.0",
            "_model_name": "DescriptionStyleModel",
            "_view_count": null,
            "_view_module": "@jupyter-widgets/base",
            "_view_module_version": "1.2.0",
            "_view_name": "StyleView",
            "description_width": ""
          }
        },
        "25021a4176bb4850956afd3778d53567": {
          "model_module": "@jupyter-widgets/controls",
          "model_module_version": "1.5.0",
          "model_name": "HTMLModel",
          "state": {
            "_dom_classes": [],
            "_model_module": "@jupyter-widgets/controls",
            "_model_module_version": "1.5.0",
            "_model_name": "HTMLModel",
            "_view_count": null,
            "_view_module": "@jupyter-widgets/controls",
            "_view_module_version": "1.5.0",
            "_view_name": "HTMLView",
            "description": "",
            "description_tooltip": null,
            "layout": "IPY_MODEL_bb9402b5e4ff4c9d8578a9bea0b7bec5",
            "placeholder": "​",
            "style": "IPY_MODEL_e0c6b0cda942449bb209972b7f981085",
            "value": " 5/5 [00:22&lt;00:00,  4.95s/ examples]"
          }
        },
        "29e39c3fb7a4477a9c5b80ad53ae19bc": {
          "model_module": "@jupyter-widgets/base",
          "model_module_version": "1.2.0",
          "model_name": "LayoutModel",
          "state": {
            "_model_module": "@jupyter-widgets/base",
            "_model_module_version": "1.2.0",
            "_model_name": "LayoutModel",
            "_view_count": null,
            "_view_module": "@jupyter-widgets/base",
            "_view_module_version": "1.2.0",
            "_view_name": "LayoutView",
            "align_content": null,
            "align_items": null,
            "align_self": null,
            "border": null,
            "bottom": null,
            "display": null,
            "flex": null,
            "flex_flow": null,
            "grid_area": null,
            "grid_auto_columns": null,
            "grid_auto_flow": null,
            "grid_auto_rows": null,
            "grid_column": null,
            "grid_gap": null,
            "grid_row": null,
            "grid_template_areas": null,
            "grid_template_columns": null,
            "grid_template_rows": null,
            "height": null,
            "justify_content": null,
            "justify_items": null,
            "left": null,
            "margin": null,
            "max_height": null,
            "max_width": null,
            "min_height": null,
            "min_width": null,
            "object_fit": null,
            "object_position": null,
            "order": null,
            "overflow": null,
            "overflow_x": null,
            "overflow_y": null,
            "padding": null,
            "right": null,
            "top": null,
            "visibility": null,
            "width": null
          }
        },
        "2c42ee4c7bdc43cdac863826c8ef1c52": {
          "model_module": "@jupyter-widgets/controls",
          "model_module_version": "1.5.0",
          "model_name": "DescriptionStyleModel",
          "state": {
            "_model_module": "@jupyter-widgets/controls",
            "_model_module_version": "1.5.0",
            "_model_name": "DescriptionStyleModel",
            "_view_count": null,
            "_view_module": "@jupyter-widgets/base",
            "_view_module_version": "1.2.0",
            "_view_name": "StyleView",
            "description_width": ""
          }
        },
        "2e63025479ce4e40b23bb1098bd35f99": {
          "model_module": "@jupyter-widgets/controls",
          "model_module_version": "1.5.0",
          "model_name": "DescriptionStyleModel",
          "state": {
            "_model_module": "@jupyter-widgets/controls",
            "_model_module_version": "1.5.0",
            "_model_name": "DescriptionStyleModel",
            "_view_count": null,
            "_view_module": "@jupyter-widgets/base",
            "_view_module_version": "1.2.0",
            "_view_name": "StyleView",
            "description_width": ""
          }
        },
        "32cafbba565c4729a74fa2f43d10fa19": {
          "model_module": "@jupyter-widgets/controls",
          "model_module_version": "1.5.0",
          "model_name": "HTMLModel",
          "state": {
            "_dom_classes": [],
            "_model_module": "@jupyter-widgets/controls",
            "_model_module_version": "1.5.0",
            "_model_name": "HTMLModel",
            "_view_count": null,
            "_view_module": "@jupyter-widgets/controls",
            "_view_module_version": "1.5.0",
            "_view_name": "HTMLView",
            "description": "",
            "description_tooltip": null,
            "layout": "IPY_MODEL_a0fd24b23a394c9ba45be3dc3fec4268",
            "placeholder": "​",
            "style": "IPY_MODEL_1c41d3aad9614559b2187dcfc9e8cc87",
            "value": "Saving the dataset (1/1 shards): 100%"
          }
        },
        "36b0b8a07a874f9abac2049c6cd9349c": {
          "model_module": "@jupyter-widgets/base",
          "model_module_version": "1.2.0",
          "model_name": "LayoutModel",
          "state": {
            "_model_module": "@jupyter-widgets/base",
            "_model_module_version": "1.2.0",
            "_model_name": "LayoutModel",
            "_view_count": null,
            "_view_module": "@jupyter-widgets/base",
            "_view_module_version": "1.2.0",
            "_view_name": "LayoutView",
            "align_content": null,
            "align_items": null,
            "align_self": null,
            "border": null,
            "bottom": null,
            "display": null,
            "flex": null,
            "flex_flow": null,
            "grid_area": null,
            "grid_auto_columns": null,
            "grid_auto_flow": null,
            "grid_auto_rows": null,
            "grid_column": null,
            "grid_gap": null,
            "grid_row": null,
            "grid_template_areas": null,
            "grid_template_columns": null,
            "grid_template_rows": null,
            "height": null,
            "justify_content": null,
            "justify_items": null,
            "left": null,
            "margin": null,
            "max_height": null,
            "max_width": null,
            "min_height": null,
            "min_width": null,
            "object_fit": null,
            "object_position": null,
            "order": null,
            "overflow": null,
            "overflow_x": null,
            "overflow_y": null,
            "padding": null,
            "right": null,
            "top": null,
            "visibility": null,
            "width": null
          }
        },
        "3a8d9a5618eb41229368343afa79725a": {
          "model_module": "@jupyter-widgets/base",
          "model_module_version": "1.2.0",
          "model_name": "LayoutModel",
          "state": {
            "_model_module": "@jupyter-widgets/base",
            "_model_module_version": "1.2.0",
            "_model_name": "LayoutModel",
            "_view_count": null,
            "_view_module": "@jupyter-widgets/base",
            "_view_module_version": "1.2.0",
            "_view_name": "LayoutView",
            "align_content": null,
            "align_items": null,
            "align_self": null,
            "border": null,
            "bottom": null,
            "display": null,
            "flex": null,
            "flex_flow": null,
            "grid_area": null,
            "grid_auto_columns": null,
            "grid_auto_flow": null,
            "grid_auto_rows": null,
            "grid_column": null,
            "grid_gap": null,
            "grid_row": null,
            "grid_template_areas": null,
            "grid_template_columns": null,
            "grid_template_rows": null,
            "height": null,
            "justify_content": null,
            "justify_items": null,
            "left": null,
            "margin": null,
            "max_height": null,
            "max_width": null,
            "min_height": null,
            "min_width": null,
            "object_fit": null,
            "object_position": null,
            "order": null,
            "overflow": null,
            "overflow_x": null,
            "overflow_y": null,
            "padding": null,
            "right": null,
            "top": null,
            "visibility": null,
            "width": null
          }
        },
        "3f71e8d7107641ab8447ebf241590e8a": {
          "model_module": "@jupyter-widgets/base",
          "model_module_version": "1.2.0",
          "model_name": "LayoutModel",
          "state": {
            "_model_module": "@jupyter-widgets/base",
            "_model_module_version": "1.2.0",
            "_model_name": "LayoutModel",
            "_view_count": null,
            "_view_module": "@jupyter-widgets/base",
            "_view_module_version": "1.2.0",
            "_view_name": "LayoutView",
            "align_content": null,
            "align_items": null,
            "align_self": null,
            "border": null,
            "bottom": null,
            "display": null,
            "flex": null,
            "flex_flow": null,
            "grid_area": null,
            "grid_auto_columns": null,
            "grid_auto_flow": null,
            "grid_auto_rows": null,
            "grid_column": null,
            "grid_gap": null,
            "grid_row": null,
            "grid_template_areas": null,
            "grid_template_columns": null,
            "grid_template_rows": null,
            "height": null,
            "justify_content": null,
            "justify_items": null,
            "left": null,
            "margin": null,
            "max_height": null,
            "max_width": null,
            "min_height": null,
            "min_width": null,
            "object_fit": null,
            "object_position": null,
            "order": null,
            "overflow": null,
            "overflow_x": null,
            "overflow_y": null,
            "padding": null,
            "right": null,
            "top": null,
            "visibility": null,
            "width": null
          }
        },
        "4189a3fd31c14d64a222bc2503d9c4ac": {
          "model_module": "@jupyter-widgets/controls",
          "model_module_version": "1.5.0",
          "model_name": "HTMLModel",
          "state": {
            "_dom_classes": [],
            "_model_module": "@jupyter-widgets/controls",
            "_model_module_version": "1.5.0",
            "_model_name": "HTMLModel",
            "_view_count": null,
            "_view_module": "@jupyter-widgets/controls",
            "_view_module_version": "1.5.0",
            "_view_name": "HTMLView",
            "description": "",
            "description_tooltip": null,
            "layout": "IPY_MODEL_fbbacfa262284ef7bf0d2ded2ba19b7f",
            "placeholder": "​",
            "style": "IPY_MODEL_d5157012d1c94b61b63ff70f132290ea",
            "value": "events.out.tfevents.1724740108.3bc17f263cb5.5776.2: 100%"
          }
        },
        "42f19dde43c34ec2ae06a74ee69a9df1": {
          "model_module": "@jupyter-widgets/controls",
          "model_module_version": "1.5.0",
          "model_name": "DescriptionStyleModel",
          "state": {
            "_model_module": "@jupyter-widgets/controls",
            "_model_module_version": "1.5.0",
            "_model_name": "DescriptionStyleModel",
            "_view_count": null,
            "_view_module": "@jupyter-widgets/base",
            "_view_module_version": "1.2.0",
            "_view_name": "StyleView",
            "description_width": ""
          }
        },
        "45b6db7eb7d541bb94786ad21e93d6bb": {
          "model_module": "@jupyter-widgets/controls",
          "model_module_version": "1.5.0",
          "model_name": "DescriptionStyleModel",
          "state": {
            "_model_module": "@jupyter-widgets/controls",
            "_model_module_version": "1.5.0",
            "_model_name": "DescriptionStyleModel",
            "_view_count": null,
            "_view_module": "@jupyter-widgets/base",
            "_view_module_version": "1.2.0",
            "_view_name": "StyleView",
            "description_width": ""
          }
        },
        "4c9d36c4077e4f68a693d5867735d4e2": {
          "model_module": "@jupyter-widgets/controls",
          "model_module_version": "1.5.0",
          "model_name": "HTMLModel",
          "state": {
            "_dom_classes": [],
            "_model_module": "@jupyter-widgets/controls",
            "_model_module_version": "1.5.0",
            "_model_name": "HTMLModel",
            "_view_count": null,
            "_view_module": "@jupyter-widgets/controls",
            "_view_module_version": "1.5.0",
            "_view_name": "HTMLView",
            "description": "",
            "description_tooltip": null,
            "layout": "IPY_MODEL_e88e6bff334e48e1bbed9eecb78d1129",
            "placeholder": "​",
            "style": "IPY_MODEL_2e63025479ce4e40b23bb1098bd35f99",
            "value": " 26.4k/26.4k [00:00&lt;00:00, 95.5kB/s]"
          }
        },
        "5919235d4e9d4f5aba5b09aa20019a84": {
          "model_module": "@jupyter-widgets/controls",
          "model_module_version": "1.5.0",
          "model_name": "LabelModel",
          "state": {
            "_dom_classes": [],
            "_model_module": "@jupyter-widgets/controls",
            "_model_module_version": "1.5.0",
            "_model_name": "LabelModel",
            "_view_count": null,
            "_view_module": "@jupyter-widgets/controls",
            "_view_module_version": "1.5.0",
            "_view_name": "LabelView",
            "description": "",
            "description_tooltip": null,
            "layout": "IPY_MODEL_10f51ba58e4943c296f6d134f1f5b7e6",
            "placeholder": "​",
            "style": "IPY_MODEL_073105e7bc6d4f26b88eb1ae85bf2b6d",
            "value": "Your token has been saved to /root/.cache/huggingface/token"
          }
        },
        "59a24b848be74b87bb766bb18df9656b": {
          "model_module": "@jupyter-widgets/controls",
          "model_module_version": "1.5.0",
          "model_name": "DescriptionStyleModel",
          "state": {
            "_model_module": "@jupyter-widgets/controls",
            "_model_module_version": "1.5.0",
            "_model_name": "DescriptionStyleModel",
            "_view_count": null,
            "_view_module": "@jupyter-widgets/base",
            "_view_module_version": "1.2.0",
            "_view_name": "StyleView",
            "description_width": ""
          }
        },
        "5e6caedd88cf441a912325bac02024fd": {
          "model_module": "@jupyter-widgets/controls",
          "model_module_version": "1.5.0",
          "model_name": "VBoxModel",
          "state": {
            "_dom_classes": [],
            "_model_module": "@jupyter-widgets/controls",
            "_model_module_version": "1.5.0",
            "_model_name": "VBoxModel",
            "_view_count": null,
            "_view_module": "@jupyter-widgets/controls",
            "_view_module_version": "1.5.0",
            "_view_name": "VBoxView",
            "box_style": "",
            "children": [
              "IPY_MODEL_89422d5850ad4691ad9f475a96807d06",
              "IPY_MODEL_cbf5b9b80b364239b41994eedaf0afa7",
              "IPY_MODEL_5919235d4e9d4f5aba5b09aa20019a84",
              "IPY_MODEL_e42c1a3b35504b62877d940e1a47fde8"
            ],
            "layout": "IPY_MODEL_6ba126ad1b784152a5322a42adac4f90"
          }
        },
        "5e860efa396946d988aad1be4408db3c": {
          "model_module": "@jupyter-widgets/controls",
          "model_module_version": "1.5.0",
          "model_name": "HBoxModel",
          "state": {
            "_dom_classes": [],
            "_model_module": "@jupyter-widgets/controls",
            "_model_module_version": "1.5.0",
            "_model_name": "HBoxModel",
            "_view_count": null,
            "_view_module": "@jupyter-widgets/controls",
            "_view_module_version": "1.5.0",
            "_view_name": "HBoxView",
            "box_style": "",
            "children": [
              "IPY_MODEL_4189a3fd31c14d64a222bc2503d9c4ac",
              "IPY_MODEL_81cdad7f83e04f34a3e3a29033f8b7a7",
              "IPY_MODEL_4c9d36c4077e4f68a693d5867735d4e2"
            ],
            "layout": "IPY_MODEL_917e1e82d85c46f7822cc18695fb2a14"
          }
        },
        "6ba126ad1b784152a5322a42adac4f90": {
          "model_module": "@jupyter-widgets/base",
          "model_module_version": "1.2.0",
          "model_name": "LayoutModel",
          "state": {
            "_model_module": "@jupyter-widgets/base",
            "_model_module_version": "1.2.0",
            "_model_name": "LayoutModel",
            "_view_count": null,
            "_view_module": "@jupyter-widgets/base",
            "_view_module_version": "1.2.0",
            "_view_name": "LayoutView",
            "align_content": null,
            "align_items": "center",
            "align_self": null,
            "border": null,
            "bottom": null,
            "display": "flex",
            "flex": null,
            "flex_flow": "column",
            "grid_area": null,
            "grid_auto_columns": null,
            "grid_auto_flow": null,
            "grid_auto_rows": null,
            "grid_column": null,
            "grid_gap": null,
            "grid_row": null,
            "grid_template_areas": null,
            "grid_template_columns": null,
            "grid_template_rows": null,
            "height": null,
            "justify_content": null,
            "justify_items": null,
            "left": null,
            "margin": null,
            "max_height": null,
            "max_width": null,
            "min_height": null,
            "min_width": null,
            "object_fit": null,
            "object_position": null,
            "order": null,
            "overflow": null,
            "overflow_x": null,
            "overflow_y": null,
            "padding": null,
            "right": null,
            "top": null,
            "visibility": null,
            "width": "50%"
          }
        },
        "6fc375df3d27453f93ba767c30431a82": {
          "model_module": "@jupyter-widgets/controls",
          "model_module_version": "1.5.0",
          "model_name": "HTMLModel",
          "state": {
            "_dom_classes": [],
            "_model_module": "@jupyter-widgets/controls",
            "_model_module_version": "1.5.0",
            "_model_name": "HTMLModel",
            "_view_count": null,
            "_view_module": "@jupyter-widgets/controls",
            "_view_module_version": "1.5.0",
            "_view_name": "HTMLView",
            "description": "",
            "description_tooltip": null,
            "layout": "IPY_MODEL_3a8d9a5618eb41229368343afa79725a",
            "placeholder": "​",
            "style": "IPY_MODEL_8a5cff5dfaa04e70baa1274de4f80d1e",
            "value": " 7/7 [00:07&lt;00:00,  1.07s/ examples]"
          }
        },
        "7764c1193ee64e2caf7473835b6f4bc3": {
          "model_module": "@jupyter-widgets/base",
          "model_module_version": "1.2.0",
          "model_name": "LayoutModel",
          "state": {
            "_model_module": "@jupyter-widgets/base",
            "_model_module_version": "1.2.0",
            "_model_name": "LayoutModel",
            "_view_count": null,
            "_view_module": "@jupyter-widgets/base",
            "_view_module_version": "1.2.0",
            "_view_name": "LayoutView",
            "align_content": null,
            "align_items": null,
            "align_self": null,
            "border": null,
            "bottom": null,
            "display": null,
            "flex": null,
            "flex_flow": null,
            "grid_area": null,
            "grid_auto_columns": null,
            "grid_auto_flow": null,
            "grid_auto_rows": null,
            "grid_column": null,
            "grid_gap": null,
            "grid_row": null,
            "grid_template_areas": null,
            "grid_template_columns": null,
            "grid_template_rows": null,
            "height": null,
            "justify_content": null,
            "justify_items": null,
            "left": null,
            "margin": null,
            "max_height": null,
            "max_width": null,
            "min_height": null,
            "min_width": null,
            "object_fit": null,
            "object_position": null,
            "order": null,
            "overflow": null,
            "overflow_x": null,
            "overflow_y": null,
            "padding": null,
            "right": null,
            "top": null,
            "visibility": null,
            "width": null
          }
        },
        "81576404b444434c9d233b7603347b37": {
          "model_module": "@jupyter-widgets/controls",
          "model_module_version": "1.5.0",
          "model_name": "FloatProgressModel",
          "state": {
            "_dom_classes": [],
            "_model_module": "@jupyter-widgets/controls",
            "_model_module_version": "1.5.0",
            "_model_name": "FloatProgressModel",
            "_view_count": null,
            "_view_module": "@jupyter-widgets/controls",
            "_view_module_version": "1.5.0",
            "_view_name": "ProgressView",
            "bar_style": "success",
            "description": "",
            "description_tooltip": null,
            "layout": "IPY_MODEL_b42dfcf8a800467581814c8267a8c4a2",
            "max": 1,
            "min": 0,
            "orientation": "horizontal",
            "style": "IPY_MODEL_f2c03420e92940dd93889e71d87da986",
            "value": 1
          }
        },
        "81cdad7f83e04f34a3e3a29033f8b7a7": {
          "model_module": "@jupyter-widgets/controls",
          "model_module_version": "1.5.0",
          "model_name": "FloatProgressModel",
          "state": {
            "_dom_classes": [],
            "_model_module": "@jupyter-widgets/controls",
            "_model_module_version": "1.5.0",
            "_model_name": "FloatProgressModel",
            "_view_count": null,
            "_view_module": "@jupyter-widgets/controls",
            "_view_module_version": "1.5.0",
            "_view_name": "ProgressView",
            "bar_style": "success",
            "description": "",
            "description_tooltip": null,
            "layout": "IPY_MODEL_1451d99aa03f4e3cafc191c843b6a6fa",
            "max": 26382,
            "min": 0,
            "orientation": "horizontal",
            "style": "IPY_MODEL_c462240c6a0a43a9a33894ee9cb47787",
            "value": 26382
          }
        },
        "84cf1d02748a48239b6e93b5634b43e0": {
          "model_module": "@jupyter-widgets/controls",
          "model_module_version": "1.5.0",
          "model_name": "ProgressStyleModel",
          "state": {
            "_model_module": "@jupyter-widgets/controls",
            "_model_module_version": "1.5.0",
            "_model_name": "ProgressStyleModel",
            "_view_count": null,
            "_view_module": "@jupyter-widgets/base",
            "_view_module_version": "1.2.0",
            "_view_name": "StyleView",
            "bar_color": null,
            "description_width": ""
          }
        },
        "89422d5850ad4691ad9f475a96807d06": {
          "model_module": "@jupyter-widgets/controls",
          "model_module_version": "1.5.0",
          "model_name": "LabelModel",
          "state": {
            "_dom_classes": [],
            "_model_module": "@jupyter-widgets/controls",
            "_model_module_version": "1.5.0",
            "_model_name": "LabelModel",
            "_view_count": null,
            "_view_module": "@jupyter-widgets/controls",
            "_view_module_version": "1.5.0",
            "_view_name": "LabelView",
            "description": "",
            "description_tooltip": null,
            "layout": "IPY_MODEL_ddd7559b9a33461aa00b5025929bae2a",
            "placeholder": "​",
            "style": "IPY_MODEL_42f19dde43c34ec2ae06a74ee69a9df1",
            "value": "Token is valid (permission: read)."
          }
        },
        "8a5cff5dfaa04e70baa1274de4f80d1e": {
          "model_module": "@jupyter-widgets/controls",
          "model_module_version": "1.5.0",
          "model_name": "DescriptionStyleModel",
          "state": {
            "_model_module": "@jupyter-widgets/controls",
            "_model_module_version": "1.5.0",
            "_model_name": "DescriptionStyleModel",
            "_view_count": null,
            "_view_module": "@jupyter-widgets/base",
            "_view_module_version": "1.2.0",
            "_view_name": "StyleView",
            "description_width": ""
          }
        },
        "8f4bd278f89243e88dabdec42b36b3a3": {
          "model_module": "@jupyter-widgets/base",
          "model_module_version": "1.2.0",
          "model_name": "LayoutModel",
          "state": {
            "_model_module": "@jupyter-widgets/base",
            "_model_module_version": "1.2.0",
            "_model_name": "LayoutModel",
            "_view_count": null,
            "_view_module": "@jupyter-widgets/base",
            "_view_module_version": "1.2.0",
            "_view_name": "LayoutView",
            "align_content": null,
            "align_items": null,
            "align_self": null,
            "border": null,
            "bottom": null,
            "display": null,
            "flex": null,
            "flex_flow": null,
            "grid_area": null,
            "grid_auto_columns": null,
            "grid_auto_flow": null,
            "grid_auto_rows": null,
            "grid_column": null,
            "grid_gap": null,
            "grid_row": null,
            "grid_template_areas": null,
            "grid_template_columns": null,
            "grid_template_rows": null,
            "height": null,
            "justify_content": null,
            "justify_items": null,
            "left": null,
            "margin": null,
            "max_height": null,
            "max_width": null,
            "min_height": null,
            "min_width": null,
            "object_fit": null,
            "object_position": null,
            "order": null,
            "overflow": null,
            "overflow_x": null,
            "overflow_y": null,
            "padding": null,
            "right": null,
            "top": null,
            "visibility": null,
            "width": null
          }
        },
        "917e1e82d85c46f7822cc18695fb2a14": {
          "model_module": "@jupyter-widgets/base",
          "model_module_version": "1.2.0",
          "model_name": "LayoutModel",
          "state": {
            "_model_module": "@jupyter-widgets/base",
            "_model_module_version": "1.2.0",
            "_model_name": "LayoutModel",
            "_view_count": null,
            "_view_module": "@jupyter-widgets/base",
            "_view_module_version": "1.2.0",
            "_view_name": "LayoutView",
            "align_content": null,
            "align_items": null,
            "align_self": null,
            "border": null,
            "bottom": null,
            "display": null,
            "flex": null,
            "flex_flow": null,
            "grid_area": null,
            "grid_auto_columns": null,
            "grid_auto_flow": null,
            "grid_auto_rows": null,
            "grid_column": null,
            "grid_gap": null,
            "grid_row": null,
            "grid_template_areas": null,
            "grid_template_columns": null,
            "grid_template_rows": null,
            "height": null,
            "justify_content": null,
            "justify_items": null,
            "left": null,
            "margin": null,
            "max_height": null,
            "max_width": null,
            "min_height": null,
            "min_width": null,
            "object_fit": null,
            "object_position": null,
            "order": null,
            "overflow": null,
            "overflow_x": null,
            "overflow_y": null,
            "padding": null,
            "right": null,
            "top": null,
            "visibility": null,
            "width": null
          }
        },
        "92f5755944bf47eea685cf46d980a9c7": {
          "model_module": "@jupyter-widgets/base",
          "model_module_version": "1.2.0",
          "model_name": "LayoutModel",
          "state": {
            "_model_module": "@jupyter-widgets/base",
            "_model_module_version": "1.2.0",
            "_model_name": "LayoutModel",
            "_view_count": null,
            "_view_module": "@jupyter-widgets/base",
            "_view_module_version": "1.2.0",
            "_view_name": "LayoutView",
            "align_content": null,
            "align_items": null,
            "align_self": null,
            "border": null,
            "bottom": null,
            "display": null,
            "flex": null,
            "flex_flow": null,
            "grid_area": null,
            "grid_auto_columns": null,
            "grid_auto_flow": null,
            "grid_auto_rows": null,
            "grid_column": null,
            "grid_gap": null,
            "grid_row": null,
            "grid_template_areas": null,
            "grid_template_columns": null,
            "grid_template_rows": null,
            "height": null,
            "justify_content": null,
            "justify_items": null,
            "left": null,
            "margin": null,
            "max_height": null,
            "max_width": null,
            "min_height": null,
            "min_width": null,
            "object_fit": null,
            "object_position": null,
            "order": null,
            "overflow": null,
            "overflow_x": null,
            "overflow_y": null,
            "padding": null,
            "right": null,
            "top": null,
            "visibility": null,
            "width": null
          }
        },
        "975a97313973420387832b935ec5e119": {
          "model_module": "@jupyter-widgets/controls",
          "model_module_version": "1.5.0",
          "model_name": "HTMLModel",
          "state": {
            "_dom_classes": [],
            "_model_module": "@jupyter-widgets/controls",
            "_model_module_version": "1.5.0",
            "_model_name": "HTMLModel",
            "_view_count": null,
            "_view_module": "@jupyter-widgets/controls",
            "_view_module_version": "1.5.0",
            "_view_name": "HTMLView",
            "description": "",
            "description_tooltip": null,
            "layout": "IPY_MODEL_cd70ff5108aa4bbf8c8e5d0c5cc402d9",
            "placeholder": "​",
            "style": "IPY_MODEL_45b6db7eb7d541bb94786ad21e93d6bb",
            "value": "Map (num_proc=2): 100%"
          }
        },
        "9972b09a7b5848699a1880bbee25fe92": {
          "model_module": "@jupyter-widgets/controls",
          "model_module_version": "1.5.0",
          "model_name": "FloatProgressModel",
          "state": {
            "_dom_classes": [],
            "_model_module": "@jupyter-widgets/controls",
            "_model_module_version": "1.5.0",
            "_model_name": "FloatProgressModel",
            "_view_count": null,
            "_view_module": "@jupyter-widgets/controls",
            "_view_module_version": "1.5.0",
            "_view_name": "ProgressView",
            "bar_style": "success",
            "description": "",
            "description_tooltip": null,
            "layout": "IPY_MODEL_a401d1bf00a44a268eb83c315ca86803",
            "max": 5,
            "min": 0,
            "orientation": "horizontal",
            "style": "IPY_MODEL_84cf1d02748a48239b6e93b5634b43e0",
            "value": 5
          }
        },
        "a0fd24b23a394c9ba45be3dc3fec4268": {
          "model_module": "@jupyter-widgets/base",
          "model_module_version": "1.2.0",
          "model_name": "LayoutModel",
          "state": {
            "_model_module": "@jupyter-widgets/base",
            "_model_module_version": "1.2.0",
            "_model_name": "LayoutModel",
            "_view_count": null,
            "_view_module": "@jupyter-widgets/base",
            "_view_module_version": "1.2.0",
            "_view_name": "LayoutView",
            "align_content": null,
            "align_items": null,
            "align_self": null,
            "border": null,
            "bottom": null,
            "display": null,
            "flex": null,
            "flex_flow": null,
            "grid_area": null,
            "grid_auto_columns": null,
            "grid_auto_flow": null,
            "grid_auto_rows": null,
            "grid_column": null,
            "grid_gap": null,
            "grid_row": null,
            "grid_template_areas": null,
            "grid_template_columns": null,
            "grid_template_rows": null,
            "height": null,
            "justify_content": null,
            "justify_items": null,
            "left": null,
            "margin": null,
            "max_height": null,
            "max_width": null,
            "min_height": null,
            "min_width": null,
            "object_fit": null,
            "object_position": null,
            "order": null,
            "overflow": null,
            "overflow_x": null,
            "overflow_y": null,
            "padding": null,
            "right": null,
            "top": null,
            "visibility": null,
            "width": null
          }
        },
        "a401d1bf00a44a268eb83c315ca86803": {
          "model_module": "@jupyter-widgets/base",
          "model_module_version": "1.2.0",
          "model_name": "LayoutModel",
          "state": {
            "_model_module": "@jupyter-widgets/base",
            "_model_module_version": "1.2.0",
            "_model_name": "LayoutModel",
            "_view_count": null,
            "_view_module": "@jupyter-widgets/base",
            "_view_module_version": "1.2.0",
            "_view_name": "LayoutView",
            "align_content": null,
            "align_items": null,
            "align_self": null,
            "border": null,
            "bottom": null,
            "display": null,
            "flex": null,
            "flex_flow": null,
            "grid_area": null,
            "grid_auto_columns": null,
            "grid_auto_flow": null,
            "grid_auto_rows": null,
            "grid_column": null,
            "grid_gap": null,
            "grid_row": null,
            "grid_template_areas": null,
            "grid_template_columns": null,
            "grid_template_rows": null,
            "height": null,
            "justify_content": null,
            "justify_items": null,
            "left": null,
            "margin": null,
            "max_height": null,
            "max_width": null,
            "min_height": null,
            "min_width": null,
            "object_fit": null,
            "object_position": null,
            "order": null,
            "overflow": null,
            "overflow_x": null,
            "overflow_y": null,
            "padding": null,
            "right": null,
            "top": null,
            "visibility": null,
            "width": null
          }
        },
        "a51f147066ac4878bec66d798b445b40": {
          "model_module": "@jupyter-widgets/base",
          "model_module_version": "1.2.0",
          "model_name": "LayoutModel",
          "state": {
            "_model_module": "@jupyter-widgets/base",
            "_model_module_version": "1.2.0",
            "_model_name": "LayoutModel",
            "_view_count": null,
            "_view_module": "@jupyter-widgets/base",
            "_view_module_version": "1.2.0",
            "_view_name": "LayoutView",
            "align_content": null,
            "align_items": null,
            "align_self": null,
            "border": null,
            "bottom": null,
            "display": null,
            "flex": null,
            "flex_flow": null,
            "grid_area": null,
            "grid_auto_columns": null,
            "grid_auto_flow": null,
            "grid_auto_rows": null,
            "grid_column": null,
            "grid_gap": null,
            "grid_row": null,
            "grid_template_areas": null,
            "grid_template_columns": null,
            "grid_template_rows": null,
            "height": null,
            "justify_content": null,
            "justify_items": null,
            "left": null,
            "margin": null,
            "max_height": null,
            "max_width": null,
            "min_height": null,
            "min_width": null,
            "object_fit": null,
            "object_position": null,
            "order": null,
            "overflow": null,
            "overflow_x": null,
            "overflow_y": null,
            "padding": null,
            "right": null,
            "top": null,
            "visibility": null,
            "width": null
          }
        },
        "ac58412c257f47058a021076a45afd2a": {
          "model_module": "@jupyter-widgets/controls",
          "model_module_version": "1.5.0",
          "model_name": "HBoxModel",
          "state": {
            "_dom_classes": [],
            "_model_module": "@jupyter-widgets/controls",
            "_model_module_version": "1.5.0",
            "_model_name": "HBoxModel",
            "_view_count": null,
            "_view_module": "@jupyter-widgets/controls",
            "_view_module_version": "1.5.0",
            "_view_name": "HBoxView",
            "box_style": "",
            "children": [
              "IPY_MODEL_ef9870cae960478393f9b42f555a1aab",
              "IPY_MODEL_81576404b444434c9d233b7603347b37",
              "IPY_MODEL_00f3b579170e4bd1b497f9f08b8049ea"
            ],
            "layout": "IPY_MODEL_f396526fe77243c1bfd09ec00d992cc6"
          }
        },
        "b42dfcf8a800467581814c8267a8c4a2": {
          "model_module": "@jupyter-widgets/base",
          "model_module_version": "1.2.0",
          "model_name": "LayoutModel",
          "state": {
            "_model_module": "@jupyter-widgets/base",
            "_model_module_version": "1.2.0",
            "_model_name": "LayoutModel",
            "_view_count": null,
            "_view_module": "@jupyter-widgets/base",
            "_view_module_version": "1.2.0",
            "_view_name": "LayoutView",
            "align_content": null,
            "align_items": null,
            "align_self": null,
            "border": null,
            "bottom": null,
            "display": null,
            "flex": null,
            "flex_flow": null,
            "grid_area": null,
            "grid_auto_columns": null,
            "grid_auto_flow": null,
            "grid_auto_rows": null,
            "grid_column": null,
            "grid_gap": null,
            "grid_row": null,
            "grid_template_areas": null,
            "grid_template_columns": null,
            "grid_template_rows": null,
            "height": null,
            "justify_content": null,
            "justify_items": null,
            "left": null,
            "margin": null,
            "max_height": null,
            "max_width": null,
            "min_height": null,
            "min_width": null,
            "object_fit": null,
            "object_position": null,
            "order": null,
            "overflow": null,
            "overflow_x": null,
            "overflow_y": null,
            "padding": null,
            "right": null,
            "top": null,
            "visibility": null,
            "width": null
          }
        },
        "bb9402b5e4ff4c9d8578a9bea0b7bec5": {
          "model_module": "@jupyter-widgets/base",
          "model_module_version": "1.2.0",
          "model_name": "LayoutModel",
          "state": {
            "_model_module": "@jupyter-widgets/base",
            "_model_module_version": "1.2.0",
            "_model_name": "LayoutModel",
            "_view_count": null,
            "_view_module": "@jupyter-widgets/base",
            "_view_module_version": "1.2.0",
            "_view_name": "LayoutView",
            "align_content": null,
            "align_items": null,
            "align_self": null,
            "border": null,
            "bottom": null,
            "display": null,
            "flex": null,
            "flex_flow": null,
            "grid_area": null,
            "grid_auto_columns": null,
            "grid_auto_flow": null,
            "grid_auto_rows": null,
            "grid_column": null,
            "grid_gap": null,
            "grid_row": null,
            "grid_template_areas": null,
            "grid_template_columns": null,
            "grid_template_rows": null,
            "height": null,
            "justify_content": null,
            "justify_items": null,
            "left": null,
            "margin": null,
            "max_height": null,
            "max_width": null,
            "min_height": null,
            "min_width": null,
            "object_fit": null,
            "object_position": null,
            "order": null,
            "overflow": null,
            "overflow_x": null,
            "overflow_y": null,
            "padding": null,
            "right": null,
            "top": null,
            "visibility": null,
            "width": null
          }
        },
        "c462240c6a0a43a9a33894ee9cb47787": {
          "model_module": "@jupyter-widgets/controls",
          "model_module_version": "1.5.0",
          "model_name": "ProgressStyleModel",
          "state": {
            "_model_module": "@jupyter-widgets/controls",
            "_model_module_version": "1.5.0",
            "_model_name": "ProgressStyleModel",
            "_view_count": null,
            "_view_module": "@jupyter-widgets/base",
            "_view_module_version": "1.2.0",
            "_view_name": "StyleView",
            "bar_color": null,
            "description_width": ""
          }
        },
        "cbf5b9b80b364239b41994eedaf0afa7": {
          "model_module": "@jupyter-widgets/controls",
          "model_module_version": "1.5.0",
          "model_name": "LabelModel",
          "state": {
            "_dom_classes": [],
            "_model_module": "@jupyter-widgets/controls",
            "_model_module_version": "1.5.0",
            "_model_name": "LabelModel",
            "_view_count": null,
            "_view_module": "@jupyter-widgets/controls",
            "_view_module_version": "1.5.0",
            "_view_name": "LabelView",
            "description": "",
            "description_tooltip": null,
            "layout": "IPY_MODEL_3f71e8d7107641ab8447ebf241590e8a",
            "placeholder": "​",
            "style": "IPY_MODEL_2c42ee4c7bdc43cdac863826c8ef1c52",
            "value": "Your token has been saved in your configured git credential helpers (store)."
          }
        },
        "cd70ff5108aa4bbf8c8e5d0c5cc402d9": {
          "model_module": "@jupyter-widgets/base",
          "model_module_version": "1.2.0",
          "model_name": "LayoutModel",
          "state": {
            "_model_module": "@jupyter-widgets/base",
            "_model_module_version": "1.2.0",
            "_model_name": "LayoutModel",
            "_view_count": null,
            "_view_module": "@jupyter-widgets/base",
            "_view_module_version": "1.2.0",
            "_view_name": "LayoutView",
            "align_content": null,
            "align_items": null,
            "align_self": null,
            "border": null,
            "bottom": null,
            "display": null,
            "flex": null,
            "flex_flow": null,
            "grid_area": null,
            "grid_auto_columns": null,
            "grid_auto_flow": null,
            "grid_auto_rows": null,
            "grid_column": null,
            "grid_gap": null,
            "grid_row": null,
            "grid_template_areas": null,
            "grid_template_columns": null,
            "grid_template_rows": null,
            "height": null,
            "justify_content": null,
            "justify_items": null,
            "left": null,
            "margin": null,
            "max_height": null,
            "max_width": null,
            "min_height": null,
            "min_width": null,
            "object_fit": null,
            "object_position": null,
            "order": null,
            "overflow": null,
            "overflow_x": null,
            "overflow_y": null,
            "padding": null,
            "right": null,
            "top": null,
            "visibility": null,
            "width": null
          }
        },
        "d5157012d1c94b61b63ff70f132290ea": {
          "model_module": "@jupyter-widgets/controls",
          "model_module_version": "1.5.0",
          "model_name": "DescriptionStyleModel",
          "state": {
            "_model_module": "@jupyter-widgets/controls",
            "_model_module_version": "1.5.0",
            "_model_name": "DescriptionStyleModel",
            "_view_count": null,
            "_view_module": "@jupyter-widgets/base",
            "_view_module_version": "1.2.0",
            "_view_name": "StyleView",
            "description_width": ""
          }
        },
        "ddd7559b9a33461aa00b5025929bae2a": {
          "model_module": "@jupyter-widgets/base",
          "model_module_version": "1.2.0",
          "model_name": "LayoutModel",
          "state": {
            "_model_module": "@jupyter-widgets/base",
            "_model_module_version": "1.2.0",
            "_model_name": "LayoutModel",
            "_view_count": null,
            "_view_module": "@jupyter-widgets/base",
            "_view_module_version": "1.2.0",
            "_view_name": "LayoutView",
            "align_content": null,
            "align_items": null,
            "align_self": null,
            "border": null,
            "bottom": null,
            "display": null,
            "flex": null,
            "flex_flow": null,
            "grid_area": null,
            "grid_auto_columns": null,
            "grid_auto_flow": null,
            "grid_auto_rows": null,
            "grid_column": null,
            "grid_gap": null,
            "grid_row": null,
            "grid_template_areas": null,
            "grid_template_columns": null,
            "grid_template_rows": null,
            "height": null,
            "justify_content": null,
            "justify_items": null,
            "left": null,
            "margin": null,
            "max_height": null,
            "max_width": null,
            "min_height": null,
            "min_width": null,
            "object_fit": null,
            "object_position": null,
            "order": null,
            "overflow": null,
            "overflow_x": null,
            "overflow_y": null,
            "padding": null,
            "right": null,
            "top": null,
            "visibility": null,
            "width": null
          }
        },
        "e0c6b0cda942449bb209972b7f981085": {
          "model_module": "@jupyter-widgets/controls",
          "model_module_version": "1.5.0",
          "model_name": "DescriptionStyleModel",
          "state": {
            "_model_module": "@jupyter-widgets/controls",
            "_model_module_version": "1.5.0",
            "_model_name": "DescriptionStyleModel",
            "_view_count": null,
            "_view_module": "@jupyter-widgets/base",
            "_view_module_version": "1.2.0",
            "_view_name": "StyleView",
            "description_width": ""
          }
        },
        "e42c1a3b35504b62877d940e1a47fde8": {
          "model_module": "@jupyter-widgets/controls",
          "model_module_version": "1.5.0",
          "model_name": "LabelModel",
          "state": {
            "_dom_classes": [],
            "_model_module": "@jupyter-widgets/controls",
            "_model_module_version": "1.5.0",
            "_model_name": "LabelModel",
            "_view_count": null,
            "_view_module": "@jupyter-widgets/controls",
            "_view_module_version": "1.5.0",
            "_view_name": "LabelView",
            "description": "",
            "description_tooltip": null,
            "layout": "IPY_MODEL_a51f147066ac4878bec66d798b445b40",
            "placeholder": "​",
            "style": "IPY_MODEL_03f6fb0fb8b14bfcae6695a5749cc5f7",
            "value": "Login successful"
          }
        },
        "e88e6bff334e48e1bbed9eecb78d1129": {
          "model_module": "@jupyter-widgets/base",
          "model_module_version": "1.2.0",
          "model_name": "LayoutModel",
          "state": {
            "_model_module": "@jupyter-widgets/base",
            "_model_module_version": "1.2.0",
            "_model_name": "LayoutModel",
            "_view_count": null,
            "_view_module": "@jupyter-widgets/base",
            "_view_module_version": "1.2.0",
            "_view_name": "LayoutView",
            "align_content": null,
            "align_items": null,
            "align_self": null,
            "border": null,
            "bottom": null,
            "display": null,
            "flex": null,
            "flex_flow": null,
            "grid_area": null,
            "grid_auto_columns": null,
            "grid_auto_flow": null,
            "grid_auto_rows": null,
            "grid_column": null,
            "grid_gap": null,
            "grid_row": null,
            "grid_template_areas": null,
            "grid_template_columns": null,
            "grid_template_rows": null,
            "height": null,
            "justify_content": null,
            "justify_items": null,
            "left": null,
            "margin": null,
            "max_height": null,
            "max_width": null,
            "min_height": null,
            "min_width": null,
            "object_fit": null,
            "object_position": null,
            "order": null,
            "overflow": null,
            "overflow_x": null,
            "overflow_y": null,
            "padding": null,
            "right": null,
            "top": null,
            "visibility": null,
            "width": null
          }
        },
        "ef6eb1777b9a47a792f7d7a0cf7b4ea3": {
          "model_module": "@jupyter-widgets/controls",
          "model_module_version": "1.5.0",
          "model_name": "HBoxModel",
          "state": {
            "_dom_classes": [],
            "_model_module": "@jupyter-widgets/controls",
            "_model_module_version": "1.5.0",
            "_model_name": "HBoxModel",
            "_view_count": null,
            "_view_module": "@jupyter-widgets/controls",
            "_view_module_version": "1.5.0",
            "_view_name": "HBoxView",
            "box_style": "",
            "children": [
              "IPY_MODEL_32cafbba565c4729a74fa2f43d10fa19",
              "IPY_MODEL_18db547589b74cf798547775f522198b",
              "IPY_MODEL_6fc375df3d27453f93ba767c30431a82"
            ],
            "layout": "IPY_MODEL_92f5755944bf47eea685cf46d980a9c7"
          }
        },
        "ef9870cae960478393f9b42f555a1aab": {
          "model_module": "@jupyter-widgets/controls",
          "model_module_version": "1.5.0",
          "model_name": "HTMLModel",
          "state": {
            "_dom_classes": [],
            "_model_module": "@jupyter-widgets/controls",
            "_model_module_version": "1.5.0",
            "_model_name": "HTMLModel",
            "_view_count": null,
            "_view_module": "@jupyter-widgets/controls",
            "_view_module_version": "1.5.0",
            "_view_name": "HTMLView",
            "description": "",
            "description_tooltip": null,
            "layout": "IPY_MODEL_8f4bd278f89243e88dabdec42b36b3a3",
            "placeholder": "​",
            "style": "IPY_MODEL_24c9549a7d3649e6bb4fe4cb962e5dd4",
            "value": "Map: 100%"
          }
        },
        "f2c03420e92940dd93889e71d87da986": {
          "model_module": "@jupyter-widgets/controls",
          "model_module_version": "1.5.0",
          "model_name": "ProgressStyleModel",
          "state": {
            "_model_module": "@jupyter-widgets/controls",
            "_model_module_version": "1.5.0",
            "_model_name": "ProgressStyleModel",
            "_view_count": null,
            "_view_module": "@jupyter-widgets/base",
            "_view_module_version": "1.2.0",
            "_view_name": "StyleView",
            "bar_color": null,
            "description_width": ""
          }
        },
        "f396526fe77243c1bfd09ec00d992cc6": {
          "model_module": "@jupyter-widgets/base",
          "model_module_version": "1.2.0",
          "model_name": "LayoutModel",
          "state": {
            "_model_module": "@jupyter-widgets/base",
            "_model_module_version": "1.2.0",
            "_model_name": "LayoutModel",
            "_view_count": null,
            "_view_module": "@jupyter-widgets/base",
            "_view_module_version": "1.2.0",
            "_view_name": "LayoutView",
            "align_content": null,
            "align_items": null,
            "align_self": null,
            "border": null,
            "bottom": null,
            "display": null,
            "flex": null,
            "flex_flow": null,
            "grid_area": null,
            "grid_auto_columns": null,
            "grid_auto_flow": null,
            "grid_auto_rows": null,
            "grid_column": null,
            "grid_gap": null,
            "grid_row": null,
            "grid_template_areas": null,
            "grid_template_columns": null,
            "grid_template_rows": null,
            "height": null,
            "justify_content": null,
            "justify_items": null,
            "left": null,
            "margin": null,
            "max_height": null,
            "max_width": null,
            "min_height": null,
            "min_width": null,
            "object_fit": null,
            "object_position": null,
            "order": null,
            "overflow": null,
            "overflow_x": null,
            "overflow_y": null,
            "padding": null,
            "right": null,
            "top": null,
            "visibility": null,
            "width": null
          }
        },
        "f74e6ac5a2444a8e921c16728dbf02be": {
          "model_module": "@jupyter-widgets/controls",
          "model_module_version": "1.5.0",
          "model_name": "ProgressStyleModel",
          "state": {
            "_model_module": "@jupyter-widgets/controls",
            "_model_module_version": "1.5.0",
            "_model_name": "ProgressStyleModel",
            "_view_count": null,
            "_view_module": "@jupyter-widgets/base",
            "_view_module_version": "1.2.0",
            "_view_name": "StyleView",
            "bar_color": null,
            "description_width": ""
          }
        },
        "fbbacfa262284ef7bf0d2ded2ba19b7f": {
          "model_module": "@jupyter-widgets/base",
          "model_module_version": "1.2.0",
          "model_name": "LayoutModel",
          "state": {
            "_model_module": "@jupyter-widgets/base",
            "_model_module_version": "1.2.0",
            "_model_name": "LayoutModel",
            "_view_count": null,
            "_view_module": "@jupyter-widgets/base",
            "_view_module_version": "1.2.0",
            "_view_name": "LayoutView",
            "align_content": null,
            "align_items": null,
            "align_self": null,
            "border": null,
            "bottom": null,
            "display": null,
            "flex": null,
            "flex_flow": null,
            "grid_area": null,
            "grid_auto_columns": null,
            "grid_auto_flow": null,
            "grid_auto_rows": null,
            "grid_column": null,
            "grid_gap": null,
            "grid_row": null,
            "grid_template_areas": null,
            "grid_template_columns": null,
            "grid_template_rows": null,
            "height": null,
            "justify_content": null,
            "justify_items": null,
            "left": null,
            "margin": null,
            "max_height": null,
            "max_width": null,
            "min_height": null,
            "min_width": null,
            "object_fit": null,
            "object_position": null,
            "order": null,
            "overflow": null,
            "overflow_x": null,
            "overflow_y": null,
            "padding": null,
            "right": null,
            "top": null,
            "visibility": null,
            "width": null
          }
        }
      }
    }
  },
  "nbformat": 4,
  "nbformat_minor": 0
}